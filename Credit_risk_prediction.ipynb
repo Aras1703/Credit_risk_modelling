{
  "nbformat": 4,
  "nbformat_minor": 0,
  "metadata": {
    "colab": {
      "provenance": [],
      "collapsed_sections": [
        "VWVZwxQsbzU3",
        "yvPNBnBfb_32",
        "7Y78xO2vyhCW",
        "UToZl38Xrrfx",
        "IWCQERT5cJhq",
        "sEGUb7uPb7Rh",
        "tpQfsujyibcu",
        "bnEzL6r4j_5X",
        "QhwDOznIi-P0",
        "T1l13IcO-mbf",
        "f-xjXNW0_z56",
        "0qxi8iZMep8j",
        "rrttcvZAuPlF",
        "JTWifv-yrdwh",
        "UQUqmQ7fwdBP",
        "saIkv3nswgm6",
        "N12RqGpLwj3q",
        "6LD7oG68w9mR"
      ],
      "authorship_tag": "ABX9TyMmjGY6buLkEaa5bCgGvuS4",
      "include_colab_link": true
    },
    "kernelspec": {
      "name": "python3",
      "display_name": "Python 3"
    },
    "language_info": {
      "name": "python"
    },
    "accelerator": "GPU",
    "gpuClass": "standard"
  },
  "cells": [
    {
      "cell_type": "markdown",
      "metadata": {
        "id": "view-in-github",
        "colab_type": "text"
      },
      "source": [
        "<a href=\"https://colab.research.google.com/github/Aras1703/Credit_risk_modelling/blob/main/Credit_risk_prediction.ipynb\" target=\"_parent\"><img src=\"https://colab.research.google.com/assets/colab-badge.svg\" alt=\"Open In Colab\"/></a>"
      ]
    },
    {
      "cell_type": "code",
      "execution_count": null,
      "metadata": {
        "id": "3i1QFoDCI5P-"
      },
      "outputs": [],
      "source": [
        "# IMPORT DEPENDENCIES\n",
        "import pandas as pd\n",
        "import numpy as np\n",
        "import matplotlib.pyplot as plt\n",
        "import seaborn as sns\n",
        "from sklearn.preprocessing import MinMaxScaler, LabelEncoder\n",
        "from sklearn.model_selection import train_test_split, GridSearchCV\n",
        "from imblearn.over_sampling import SMOTE\n",
        "from imblearn.under_sampling import RandomUnderSampler \n",
        "from sklearn.tree import DecisionTreeClassifier\n",
        "from sklearn.ensemble import RandomForestClassifier\n",
        "from sklearn.neighbors import KNeighborsClassifier\n",
        "from sklearn.linear_model import LogisticRegression\n",
        "from sklearn.svm import SVC\n",
        "import xgboost as xgb\n",
        "from sklearn.metrics import classification_report, plot_confusion_matrix\n",
        "import tensorflow as tf\n",
        "from keras import regularizers"
      ]
    },
    {
      "cell_type": "code",
      "source": [
        "DATA_LOAN = '/content/app_train.csv'\n",
        "DATA_TRAIN = pd.read_csv(DATA_LOAN)\n",
        "DATA_TRAIN.head()"
      ],
      "metadata": {
        "colab": {
          "base_uri": "https://localhost:8080/",
          "height": 334
        },
        "id": "jCD2bwybTu2A",
        "outputId": "f2d65b9a-1225-4986-ca20-e42fe9b20872"
      },
      "execution_count": null,
      "outputs": [
        {
          "output_type": "execute_result",
          "data": {
            "text/plain": [
              "   Unnamed: 0   LN_ID  TARGET    CONTRACT_TYPE GENDER  NUM_CHILDREN    INCOME  \\\n",
              "0      201468  333538       0  Revolving loans      F             1   67500.0   \n",
              "1      264803  406644       0       Cash loans      F             1  202500.0   \n",
              "2      137208  259130       0       Cash loans      F             0  180000.0   \n",
              "3      269220  411997       0       Cash loans      M             0  225000.0   \n",
              "4      122096  241559       0  Revolving loans      M             0  135000.0   \n",
              "\n",
              "   APPROVED_CREDIT  ANNUITY     PRICE  ... DAYS_AGE DAYS_WORK  \\\n",
              "0         202500.0  10125.0  202500.0  ...   -11539      -921   \n",
              "1         976711.5  49869.0  873000.0  ...   -15743     -4482   \n",
              "2         407520.0  25060.5  360000.0  ...   -20775    365243   \n",
              "3         808650.0  26086.5  675000.0  ...   -20659    -10455   \n",
              "4         180000.0   9000.0  180000.0  ...    -9013     -1190   \n",
              "\n",
              "  DAYS_REGISTRATION DAYS_ID_CHANGE  WEEKDAYS_APPLY  HOUR_APPLY  \\\n",
              "0            -119.0          -2757         TUESDAY          18   \n",
              "1           -1797.0          -2455         TUESDAY          14   \n",
              "2           -8737.0          -4312        THURSDAY          14   \n",
              "3           -4998.0          -4010       WEDNESDAY          10   \n",
              "4           -3524.0          -1644          SUNDAY          11   \n",
              "\n",
              "        ORGANIZATION_TYPE  EXT_SCORE_1 EXT_SCORE_2  EXT_SCORE_3  \n",
              "0  Business Entity Type 3     0.572805    0.608276          NaN  \n",
              "1                   Other     0.655600    0.684298          NaN  \n",
              "2                     NA1          NaN    0.580687     0.749022  \n",
              "3                 Culture          NaN    0.623740     0.710674  \n",
              "4            Construction     0.175511    0.492994     0.085595  \n",
              "\n",
              "[5 rows x 24 columns]"
            ],
            "text/html": [
              "\n",
              "  <div id=\"df-064259da-a17f-4dc0-95c4-72e43a1df1d9\">\n",
              "    <div class=\"colab-df-container\">\n",
              "      <div>\n",
              "<style scoped>\n",
              "    .dataframe tbody tr th:only-of-type {\n",
              "        vertical-align: middle;\n",
              "    }\n",
              "\n",
              "    .dataframe tbody tr th {\n",
              "        vertical-align: top;\n",
              "    }\n",
              "\n",
              "    .dataframe thead th {\n",
              "        text-align: right;\n",
              "    }\n",
              "</style>\n",
              "<table border=\"1\" class=\"dataframe\">\n",
              "  <thead>\n",
              "    <tr style=\"text-align: right;\">\n",
              "      <th></th>\n",
              "      <th>Unnamed: 0</th>\n",
              "      <th>LN_ID</th>\n",
              "      <th>TARGET</th>\n",
              "      <th>CONTRACT_TYPE</th>\n",
              "      <th>GENDER</th>\n",
              "      <th>NUM_CHILDREN</th>\n",
              "      <th>INCOME</th>\n",
              "      <th>APPROVED_CREDIT</th>\n",
              "      <th>ANNUITY</th>\n",
              "      <th>PRICE</th>\n",
              "      <th>...</th>\n",
              "      <th>DAYS_AGE</th>\n",
              "      <th>DAYS_WORK</th>\n",
              "      <th>DAYS_REGISTRATION</th>\n",
              "      <th>DAYS_ID_CHANGE</th>\n",
              "      <th>WEEKDAYS_APPLY</th>\n",
              "      <th>HOUR_APPLY</th>\n",
              "      <th>ORGANIZATION_TYPE</th>\n",
              "      <th>EXT_SCORE_1</th>\n",
              "      <th>EXT_SCORE_2</th>\n",
              "      <th>EXT_SCORE_3</th>\n",
              "    </tr>\n",
              "  </thead>\n",
              "  <tbody>\n",
              "    <tr>\n",
              "      <th>0</th>\n",
              "      <td>201468</td>\n",
              "      <td>333538</td>\n",
              "      <td>0</td>\n",
              "      <td>Revolving loans</td>\n",
              "      <td>F</td>\n",
              "      <td>1</td>\n",
              "      <td>67500.0</td>\n",
              "      <td>202500.0</td>\n",
              "      <td>10125.0</td>\n",
              "      <td>202500.0</td>\n",
              "      <td>...</td>\n",
              "      <td>-11539</td>\n",
              "      <td>-921</td>\n",
              "      <td>-119.0</td>\n",
              "      <td>-2757</td>\n",
              "      <td>TUESDAY</td>\n",
              "      <td>18</td>\n",
              "      <td>Business Entity Type 3</td>\n",
              "      <td>0.572805</td>\n",
              "      <td>0.608276</td>\n",
              "      <td>NaN</td>\n",
              "    </tr>\n",
              "    <tr>\n",
              "      <th>1</th>\n",
              "      <td>264803</td>\n",
              "      <td>406644</td>\n",
              "      <td>0</td>\n",
              "      <td>Cash loans</td>\n",
              "      <td>F</td>\n",
              "      <td>1</td>\n",
              "      <td>202500.0</td>\n",
              "      <td>976711.5</td>\n",
              "      <td>49869.0</td>\n",
              "      <td>873000.0</td>\n",
              "      <td>...</td>\n",
              "      <td>-15743</td>\n",
              "      <td>-4482</td>\n",
              "      <td>-1797.0</td>\n",
              "      <td>-2455</td>\n",
              "      <td>TUESDAY</td>\n",
              "      <td>14</td>\n",
              "      <td>Other</td>\n",
              "      <td>0.655600</td>\n",
              "      <td>0.684298</td>\n",
              "      <td>NaN</td>\n",
              "    </tr>\n",
              "    <tr>\n",
              "      <th>2</th>\n",
              "      <td>137208</td>\n",
              "      <td>259130</td>\n",
              "      <td>0</td>\n",
              "      <td>Cash loans</td>\n",
              "      <td>F</td>\n",
              "      <td>0</td>\n",
              "      <td>180000.0</td>\n",
              "      <td>407520.0</td>\n",
              "      <td>25060.5</td>\n",
              "      <td>360000.0</td>\n",
              "      <td>...</td>\n",
              "      <td>-20775</td>\n",
              "      <td>365243</td>\n",
              "      <td>-8737.0</td>\n",
              "      <td>-4312</td>\n",
              "      <td>THURSDAY</td>\n",
              "      <td>14</td>\n",
              "      <td>NA1</td>\n",
              "      <td>NaN</td>\n",
              "      <td>0.580687</td>\n",
              "      <td>0.749022</td>\n",
              "    </tr>\n",
              "    <tr>\n",
              "      <th>3</th>\n",
              "      <td>269220</td>\n",
              "      <td>411997</td>\n",
              "      <td>0</td>\n",
              "      <td>Cash loans</td>\n",
              "      <td>M</td>\n",
              "      <td>0</td>\n",
              "      <td>225000.0</td>\n",
              "      <td>808650.0</td>\n",
              "      <td>26086.5</td>\n",
              "      <td>675000.0</td>\n",
              "      <td>...</td>\n",
              "      <td>-20659</td>\n",
              "      <td>-10455</td>\n",
              "      <td>-4998.0</td>\n",
              "      <td>-4010</td>\n",
              "      <td>WEDNESDAY</td>\n",
              "      <td>10</td>\n",
              "      <td>Culture</td>\n",
              "      <td>NaN</td>\n",
              "      <td>0.623740</td>\n",
              "      <td>0.710674</td>\n",
              "    </tr>\n",
              "    <tr>\n",
              "      <th>4</th>\n",
              "      <td>122096</td>\n",
              "      <td>241559</td>\n",
              "      <td>0</td>\n",
              "      <td>Revolving loans</td>\n",
              "      <td>M</td>\n",
              "      <td>0</td>\n",
              "      <td>135000.0</td>\n",
              "      <td>180000.0</td>\n",
              "      <td>9000.0</td>\n",
              "      <td>180000.0</td>\n",
              "      <td>...</td>\n",
              "      <td>-9013</td>\n",
              "      <td>-1190</td>\n",
              "      <td>-3524.0</td>\n",
              "      <td>-1644</td>\n",
              "      <td>SUNDAY</td>\n",
              "      <td>11</td>\n",
              "      <td>Construction</td>\n",
              "      <td>0.175511</td>\n",
              "      <td>0.492994</td>\n",
              "      <td>0.085595</td>\n",
              "    </tr>\n",
              "  </tbody>\n",
              "</table>\n",
              "<p>5 rows × 24 columns</p>\n",
              "</div>\n",
              "      <button class=\"colab-df-convert\" onclick=\"convertToInteractive('df-064259da-a17f-4dc0-95c4-72e43a1df1d9')\"\n",
              "              title=\"Convert this dataframe to an interactive table.\"\n",
              "              style=\"display:none;\">\n",
              "        \n",
              "  <svg xmlns=\"http://www.w3.org/2000/svg\" height=\"24px\"viewBox=\"0 0 24 24\"\n",
              "       width=\"24px\">\n",
              "    <path d=\"M0 0h24v24H0V0z\" fill=\"none\"/>\n",
              "    <path d=\"M18.56 5.44l.94 2.06.94-2.06 2.06-.94-2.06-.94-.94-2.06-.94 2.06-2.06.94zm-11 1L8.5 8.5l.94-2.06 2.06-.94-2.06-.94L8.5 2.5l-.94 2.06-2.06.94zm10 10l.94 2.06.94-2.06 2.06-.94-2.06-.94-.94-2.06-.94 2.06-2.06.94z\"/><path d=\"M17.41 7.96l-1.37-1.37c-.4-.4-.92-.59-1.43-.59-.52 0-1.04.2-1.43.59L10.3 9.45l-7.72 7.72c-.78.78-.78 2.05 0 2.83L4 21.41c.39.39.9.59 1.41.59.51 0 1.02-.2 1.41-.59l7.78-7.78 2.81-2.81c.8-.78.8-2.07 0-2.86zM5.41 20L4 18.59l7.72-7.72 1.47 1.35L5.41 20z\"/>\n",
              "  </svg>\n",
              "      </button>\n",
              "      \n",
              "  <style>\n",
              "    .colab-df-container {\n",
              "      display:flex;\n",
              "      flex-wrap:wrap;\n",
              "      gap: 12px;\n",
              "    }\n",
              "\n",
              "    .colab-df-convert {\n",
              "      background-color: #E8F0FE;\n",
              "      border: none;\n",
              "      border-radius: 50%;\n",
              "      cursor: pointer;\n",
              "      display: none;\n",
              "      fill: #1967D2;\n",
              "      height: 32px;\n",
              "      padding: 0 0 0 0;\n",
              "      width: 32px;\n",
              "    }\n",
              "\n",
              "    .colab-df-convert:hover {\n",
              "      background-color: #E2EBFA;\n",
              "      box-shadow: 0px 1px 2px rgba(60, 64, 67, 0.3), 0px 1px 3px 1px rgba(60, 64, 67, 0.15);\n",
              "      fill: #174EA6;\n",
              "    }\n",
              "\n",
              "    [theme=dark] .colab-df-convert {\n",
              "      background-color: #3B4455;\n",
              "      fill: #D2E3FC;\n",
              "    }\n",
              "\n",
              "    [theme=dark] .colab-df-convert:hover {\n",
              "      background-color: #434B5C;\n",
              "      box-shadow: 0px 1px 3px 1px rgba(0, 0, 0, 0.15);\n",
              "      filter: drop-shadow(0px 1px 2px rgba(0, 0, 0, 0.3));\n",
              "      fill: #FFFFFF;\n",
              "    }\n",
              "  </style>\n",
              "\n",
              "      <script>\n",
              "        const buttonEl =\n",
              "          document.querySelector('#df-064259da-a17f-4dc0-95c4-72e43a1df1d9 button.colab-df-convert');\n",
              "        buttonEl.style.display =\n",
              "          google.colab.kernel.accessAllowed ? 'block' : 'none';\n",
              "\n",
              "        async function convertToInteractive(key) {\n",
              "          const element = document.querySelector('#df-064259da-a17f-4dc0-95c4-72e43a1df1d9');\n",
              "          const dataTable =\n",
              "            await google.colab.kernel.invokeFunction('convertToInteractive',\n",
              "                                                     [key], {});\n",
              "          if (!dataTable) return;\n",
              "\n",
              "          const docLinkHtml = 'Like what you see? Visit the ' +\n",
              "            '<a target=\"_blank\" href=https://colab.research.google.com/notebooks/data_table.ipynb>data table notebook</a>'\n",
              "            + ' to learn more about interactive tables.';\n",
              "          element.innerHTML = '';\n",
              "          dataTable['output_type'] = 'display_data';\n",
              "          await google.colab.output.renderOutput(dataTable, element);\n",
              "          const docLink = document.createElement('div');\n",
              "          docLink.innerHTML = docLinkHtml;\n",
              "          element.appendChild(docLink);\n",
              "        }\n",
              "      </script>\n",
              "    </div>\n",
              "  </div>\n",
              "  "
            ]
          },
          "metadata": {},
          "execution_count": 2
        }
      ]
    },
    {
      "cell_type": "markdown",
      "source": [
        "## EDA\n",
        "\n",
        "Analysis Explanation: \n",
        "1. I guess \"Unnamed: 0\" column is not used in the data so i drop this column, \"LN_ID\" is a unique column so i did the same thing as before and EXT_SCORE is a normalized column, i guess we don't need them too. I checked the nan values in every columns.\n",
        "2. Before plotting the correlated data, the object data in every column must be change into int or float dtype. I did a preprocess for a categorical columns using label encoder.\n",
        "3. From the correlation plot i assume that the \"APPROVE CREDIT\", \"ANNUITY\", and \"PRICE\" column is correlating with each other, however the \"NUM_CHILDREN\" and \"DAYS_AGE\" column can also be used as feature selection even though the correlation between the data are low.\n",
        "4. From the process that has been done before, i took 5 feature + made 3 feature engineering to get into the model and i did some feature engineering for \"DAYS_AGE\" column that has low correlated data."
      ],
      "metadata": {
        "id": "VWVZwxQsbzU3"
      }
    },
    {
      "cell_type": "markdown",
      "source": [
        "### CHECK INFO AND NAN DATA\n",
        "\n",
        "note : i drop the feature that won't be used in the data and checking nan values in every column"
      ],
      "metadata": {
        "id": "yvPNBnBfb_32"
      }
    },
    {
      "cell_type": "code",
      "source": [
        "DATA_TRAIN.info()"
      ],
      "metadata": {
        "colab": {
          "base_uri": "https://localhost:8080/"
        },
        "id": "y1SDcJ18vGuL",
        "outputId": "03700f0e-b122-4ef5-fb63-daf6a51388bd"
      },
      "execution_count": null,
      "outputs": [
        {
          "output_type": "stream",
          "name": "stdout",
          "text": [
            "<class 'pandas.core.frame.DataFrame'>\n",
            "RangeIndex: 61503 entries, 0 to 61502\n",
            "Data columns (total 24 columns):\n",
            " #   Column             Non-Null Count  Dtype  \n",
            "---  ------             --------------  -----  \n",
            " 0   Unnamed: 0         61503 non-null  int64  \n",
            " 1   LN_ID              61503 non-null  int64  \n",
            " 2   TARGET             61503 non-null  int64  \n",
            " 3   CONTRACT_TYPE      61503 non-null  object \n",
            " 4   GENDER             61503 non-null  object \n",
            " 5   NUM_CHILDREN       61503 non-null  int64  \n",
            " 6   INCOME             61503 non-null  float64\n",
            " 7   APPROVED_CREDIT    61503 non-null  float64\n",
            " 8   ANNUITY            61502 non-null  float64\n",
            " 9   PRICE              61441 non-null  float64\n",
            " 10  INCOME_TYPE        61503 non-null  object \n",
            " 11  EDUCATION          61503 non-null  object \n",
            " 12  FAMILY_STATUS      61503 non-null  object \n",
            " 13  HOUSING_TYPE       61503 non-null  object \n",
            " 14  DAYS_AGE           61503 non-null  int64  \n",
            " 15  DAYS_WORK          61503 non-null  int64  \n",
            " 16  DAYS_REGISTRATION  61503 non-null  float64\n",
            " 17  DAYS_ID_CHANGE     61503 non-null  int64  \n",
            " 18  WEEKDAYS_APPLY     61503 non-null  object \n",
            " 19  HOUR_APPLY         61503 non-null  int64  \n",
            " 20  ORGANIZATION_TYPE  61503 non-null  object \n",
            " 21  EXT_SCORE_1        26658 non-null  float64\n",
            " 22  EXT_SCORE_2        61369 non-null  float64\n",
            " 23  EXT_SCORE_3        49264 non-null  float64\n",
            "dtypes: float64(8), int64(8), object(8)\n",
            "memory usage: 11.3+ MB\n"
          ]
        }
      ]
    },
    {
      "cell_type": "code",
      "source": [
        "DATA_TRAIN.isnull().sum()"
      ],
      "metadata": {
        "colab": {
          "base_uri": "https://localhost:8080/"
        },
        "id": "buaRKyZ3bDqz",
        "outputId": "d740d0c5-7f57-45f2-ab2a-341d9714eb39"
      },
      "execution_count": null,
      "outputs": [
        {
          "output_type": "execute_result",
          "data": {
            "text/plain": [
              "Unnamed: 0               0\n",
              "LN_ID                    0\n",
              "TARGET                   0\n",
              "CONTRACT_TYPE            0\n",
              "GENDER                   0\n",
              "NUM_CHILDREN             0\n",
              "INCOME                   0\n",
              "APPROVED_CREDIT          0\n",
              "ANNUITY                  1\n",
              "PRICE                   62\n",
              "INCOME_TYPE              0\n",
              "EDUCATION                0\n",
              "FAMILY_STATUS            0\n",
              "HOUSING_TYPE             0\n",
              "DAYS_AGE                 0\n",
              "DAYS_WORK                0\n",
              "DAYS_REGISTRATION        0\n",
              "DAYS_ID_CHANGE           0\n",
              "WEEKDAYS_APPLY           0\n",
              "HOUR_APPLY               0\n",
              "ORGANIZATION_TYPE        0\n",
              "EXT_SCORE_1          34845\n",
              "EXT_SCORE_2            134\n",
              "EXT_SCORE_3          12239\n",
              "dtype: int64"
            ]
          },
          "metadata": {},
          "execution_count": 4
        }
      ]
    },
    {
      "cell_type": "code",
      "source": [
        "DATA_TRAIN = DATA_TRAIN.drop(columns=['Unnamed: 0', 'LN_ID', 'EXT_SCORE_1', 'EXT_SCORE_2', 'EXT_SCORE_3'], axis=1,)\n",
        "DATA_TRAIN.head()"
      ],
      "metadata": {
        "colab": {
          "base_uri": "https://localhost:8080/"
        },
        "id": "MVvLFC8S1IKr",
        "outputId": "7bbfabd2-8236-4cf1-807a-b089640135ed"
      },
      "execution_count": null,
      "outputs": [
        {
          "output_type": "execute_result",
          "data": {
            "text/plain": [
              "   TARGET    CONTRACT_TYPE GENDER  NUM_CHILDREN    INCOME  APPROVED_CREDIT  \\\n",
              "0       0  Revolving loans      F             1   67500.0         202500.0   \n",
              "1       0       Cash loans      F             1  202500.0         976711.5   \n",
              "2       0       Cash loans      F             0  180000.0         407520.0   \n",
              "3       0       Cash loans      M             0  225000.0         808650.0   \n",
              "4       0  Revolving loans      M             0  135000.0         180000.0   \n",
              "\n",
              "   ANNUITY     PRICE           INCOME_TYPE                      EDUCATION  \\\n",
              "0  10125.0  202500.0               Working  Secondary / secondary special   \n",
              "1  49869.0  873000.0  Commercial associate  Secondary / secondary special   \n",
              "2  25060.5  360000.0             Pensioner  Secondary / secondary special   \n",
              "3  26086.5  675000.0         State servant               Higher education   \n",
              "4   9000.0  180000.0  Commercial associate  Secondary / secondary special   \n",
              "\n",
              "          FAMILY_STATUS       HOUSING_TYPE  DAYS_AGE  DAYS_WORK  \\\n",
              "0               Married       With parents    -11539       -921   \n",
              "1               Married  House / apartment    -15743      -4482   \n",
              "2               Married  House / apartment    -20775     365243   \n",
              "3               Married  House / apartment    -20659     -10455   \n",
              "4  Single / not married  House / apartment     -9013      -1190   \n",
              "\n",
              "   DAYS_REGISTRATION  DAYS_ID_CHANGE WEEKDAYS_APPLY  HOUR_APPLY  \\\n",
              "0             -119.0           -2757        TUESDAY          18   \n",
              "1            -1797.0           -2455        TUESDAY          14   \n",
              "2            -8737.0           -4312       THURSDAY          14   \n",
              "3            -4998.0           -4010      WEDNESDAY          10   \n",
              "4            -3524.0           -1644         SUNDAY          11   \n",
              "\n",
              "        ORGANIZATION_TYPE  \n",
              "0  Business Entity Type 3  \n",
              "1                   Other  \n",
              "2                     NA1  \n",
              "3                 Culture  \n",
              "4            Construction  "
            ],
            "text/html": [
              "\n",
              "  <div id=\"df-4b8695e2-1f8a-4766-9b19-bc5e690499fa\">\n",
              "    <div class=\"colab-df-container\">\n",
              "      <div>\n",
              "<style scoped>\n",
              "    .dataframe tbody tr th:only-of-type {\n",
              "        vertical-align: middle;\n",
              "    }\n",
              "\n",
              "    .dataframe tbody tr th {\n",
              "        vertical-align: top;\n",
              "    }\n",
              "\n",
              "    .dataframe thead th {\n",
              "        text-align: right;\n",
              "    }\n",
              "</style>\n",
              "<table border=\"1\" class=\"dataframe\">\n",
              "  <thead>\n",
              "    <tr style=\"text-align: right;\">\n",
              "      <th></th>\n",
              "      <th>TARGET</th>\n",
              "      <th>CONTRACT_TYPE</th>\n",
              "      <th>GENDER</th>\n",
              "      <th>NUM_CHILDREN</th>\n",
              "      <th>INCOME</th>\n",
              "      <th>APPROVED_CREDIT</th>\n",
              "      <th>ANNUITY</th>\n",
              "      <th>PRICE</th>\n",
              "      <th>INCOME_TYPE</th>\n",
              "      <th>EDUCATION</th>\n",
              "      <th>FAMILY_STATUS</th>\n",
              "      <th>HOUSING_TYPE</th>\n",
              "      <th>DAYS_AGE</th>\n",
              "      <th>DAYS_WORK</th>\n",
              "      <th>DAYS_REGISTRATION</th>\n",
              "      <th>DAYS_ID_CHANGE</th>\n",
              "      <th>WEEKDAYS_APPLY</th>\n",
              "      <th>HOUR_APPLY</th>\n",
              "      <th>ORGANIZATION_TYPE</th>\n",
              "    </tr>\n",
              "  </thead>\n",
              "  <tbody>\n",
              "    <tr>\n",
              "      <th>0</th>\n",
              "      <td>0</td>\n",
              "      <td>Revolving loans</td>\n",
              "      <td>F</td>\n",
              "      <td>1</td>\n",
              "      <td>67500.0</td>\n",
              "      <td>202500.0</td>\n",
              "      <td>10125.0</td>\n",
              "      <td>202500.0</td>\n",
              "      <td>Working</td>\n",
              "      <td>Secondary / secondary special</td>\n",
              "      <td>Married</td>\n",
              "      <td>With parents</td>\n",
              "      <td>-11539</td>\n",
              "      <td>-921</td>\n",
              "      <td>-119.0</td>\n",
              "      <td>-2757</td>\n",
              "      <td>TUESDAY</td>\n",
              "      <td>18</td>\n",
              "      <td>Business Entity Type 3</td>\n",
              "    </tr>\n",
              "    <tr>\n",
              "      <th>1</th>\n",
              "      <td>0</td>\n",
              "      <td>Cash loans</td>\n",
              "      <td>F</td>\n",
              "      <td>1</td>\n",
              "      <td>202500.0</td>\n",
              "      <td>976711.5</td>\n",
              "      <td>49869.0</td>\n",
              "      <td>873000.0</td>\n",
              "      <td>Commercial associate</td>\n",
              "      <td>Secondary / secondary special</td>\n",
              "      <td>Married</td>\n",
              "      <td>House / apartment</td>\n",
              "      <td>-15743</td>\n",
              "      <td>-4482</td>\n",
              "      <td>-1797.0</td>\n",
              "      <td>-2455</td>\n",
              "      <td>TUESDAY</td>\n",
              "      <td>14</td>\n",
              "      <td>Other</td>\n",
              "    </tr>\n",
              "    <tr>\n",
              "      <th>2</th>\n",
              "      <td>0</td>\n",
              "      <td>Cash loans</td>\n",
              "      <td>F</td>\n",
              "      <td>0</td>\n",
              "      <td>180000.0</td>\n",
              "      <td>407520.0</td>\n",
              "      <td>25060.5</td>\n",
              "      <td>360000.0</td>\n",
              "      <td>Pensioner</td>\n",
              "      <td>Secondary / secondary special</td>\n",
              "      <td>Married</td>\n",
              "      <td>House / apartment</td>\n",
              "      <td>-20775</td>\n",
              "      <td>365243</td>\n",
              "      <td>-8737.0</td>\n",
              "      <td>-4312</td>\n",
              "      <td>THURSDAY</td>\n",
              "      <td>14</td>\n",
              "      <td>NA1</td>\n",
              "    </tr>\n",
              "    <tr>\n",
              "      <th>3</th>\n",
              "      <td>0</td>\n",
              "      <td>Cash loans</td>\n",
              "      <td>M</td>\n",
              "      <td>0</td>\n",
              "      <td>225000.0</td>\n",
              "      <td>808650.0</td>\n",
              "      <td>26086.5</td>\n",
              "      <td>675000.0</td>\n",
              "      <td>State servant</td>\n",
              "      <td>Higher education</td>\n",
              "      <td>Married</td>\n",
              "      <td>House / apartment</td>\n",
              "      <td>-20659</td>\n",
              "      <td>-10455</td>\n",
              "      <td>-4998.0</td>\n",
              "      <td>-4010</td>\n",
              "      <td>WEDNESDAY</td>\n",
              "      <td>10</td>\n",
              "      <td>Culture</td>\n",
              "    </tr>\n",
              "    <tr>\n",
              "      <th>4</th>\n",
              "      <td>0</td>\n",
              "      <td>Revolving loans</td>\n",
              "      <td>M</td>\n",
              "      <td>0</td>\n",
              "      <td>135000.0</td>\n",
              "      <td>180000.0</td>\n",
              "      <td>9000.0</td>\n",
              "      <td>180000.0</td>\n",
              "      <td>Commercial associate</td>\n",
              "      <td>Secondary / secondary special</td>\n",
              "      <td>Single / not married</td>\n",
              "      <td>House / apartment</td>\n",
              "      <td>-9013</td>\n",
              "      <td>-1190</td>\n",
              "      <td>-3524.0</td>\n",
              "      <td>-1644</td>\n",
              "      <td>SUNDAY</td>\n",
              "      <td>11</td>\n",
              "      <td>Construction</td>\n",
              "    </tr>\n",
              "  </tbody>\n",
              "</table>\n",
              "</div>\n",
              "      <button class=\"colab-df-convert\" onclick=\"convertToInteractive('df-4b8695e2-1f8a-4766-9b19-bc5e690499fa')\"\n",
              "              title=\"Convert this dataframe to an interactive table.\"\n",
              "              style=\"display:none;\">\n",
              "        \n",
              "  <svg xmlns=\"http://www.w3.org/2000/svg\" height=\"24px\"viewBox=\"0 0 24 24\"\n",
              "       width=\"24px\">\n",
              "    <path d=\"M0 0h24v24H0V0z\" fill=\"none\"/>\n",
              "    <path d=\"M18.56 5.44l.94 2.06.94-2.06 2.06-.94-2.06-.94-.94-2.06-.94 2.06-2.06.94zm-11 1L8.5 8.5l.94-2.06 2.06-.94-2.06-.94L8.5 2.5l-.94 2.06-2.06.94zm10 10l.94 2.06.94-2.06 2.06-.94-2.06-.94-.94-2.06-.94 2.06-2.06.94z\"/><path d=\"M17.41 7.96l-1.37-1.37c-.4-.4-.92-.59-1.43-.59-.52 0-1.04.2-1.43.59L10.3 9.45l-7.72 7.72c-.78.78-.78 2.05 0 2.83L4 21.41c.39.39.9.59 1.41.59.51 0 1.02-.2 1.41-.59l7.78-7.78 2.81-2.81c.8-.78.8-2.07 0-2.86zM5.41 20L4 18.59l7.72-7.72 1.47 1.35L5.41 20z\"/>\n",
              "  </svg>\n",
              "      </button>\n",
              "      \n",
              "  <style>\n",
              "    .colab-df-container {\n",
              "      display:flex;\n",
              "      flex-wrap:wrap;\n",
              "      gap: 12px;\n",
              "    }\n",
              "\n",
              "    .colab-df-convert {\n",
              "      background-color: #E8F0FE;\n",
              "      border: none;\n",
              "      border-radius: 50%;\n",
              "      cursor: pointer;\n",
              "      display: none;\n",
              "      fill: #1967D2;\n",
              "      height: 32px;\n",
              "      padding: 0 0 0 0;\n",
              "      width: 32px;\n",
              "    }\n",
              "\n",
              "    .colab-df-convert:hover {\n",
              "      background-color: #E2EBFA;\n",
              "      box-shadow: 0px 1px 2px rgba(60, 64, 67, 0.3), 0px 1px 3px 1px rgba(60, 64, 67, 0.15);\n",
              "      fill: #174EA6;\n",
              "    }\n",
              "\n",
              "    [theme=dark] .colab-df-convert {\n",
              "      background-color: #3B4455;\n",
              "      fill: #D2E3FC;\n",
              "    }\n",
              "\n",
              "    [theme=dark] .colab-df-convert:hover {\n",
              "      background-color: #434B5C;\n",
              "      box-shadow: 0px 1px 3px 1px rgba(0, 0, 0, 0.15);\n",
              "      filter: drop-shadow(0px 1px 2px rgba(0, 0, 0, 0.3));\n",
              "      fill: #FFFFFF;\n",
              "    }\n",
              "  </style>\n",
              "\n",
              "      <script>\n",
              "        const buttonEl =\n",
              "          document.querySelector('#df-4b8695e2-1f8a-4766-9b19-bc5e690499fa button.colab-df-convert');\n",
              "        buttonEl.style.display =\n",
              "          google.colab.kernel.accessAllowed ? 'block' : 'none';\n",
              "\n",
              "        async function convertToInteractive(key) {\n",
              "          const element = document.querySelector('#df-4b8695e2-1f8a-4766-9b19-bc5e690499fa');\n",
              "          const dataTable =\n",
              "            await google.colab.kernel.invokeFunction('convertToInteractive',\n",
              "                                                     [key], {});\n",
              "          if (!dataTable) return;\n",
              "\n",
              "          const docLinkHtml = 'Like what you see? Visit the ' +\n",
              "            '<a target=\"_blank\" href=https://colab.research.google.com/notebooks/data_table.ipynb>data table notebook</a>'\n",
              "            + ' to learn more about interactive tables.';\n",
              "          element.innerHTML = '';\n",
              "          dataTable['output_type'] = 'display_data';\n",
              "          await google.colab.output.renderOutput(dataTable, element);\n",
              "          const docLink = document.createElement('div');\n",
              "          docLink.innerHTML = docLinkHtml;\n",
              "          element.appendChild(docLink);\n",
              "        }\n",
              "      </script>\n",
              "    </div>\n",
              "  </div>\n",
              "  "
            ]
          },
          "metadata": {},
          "execution_count": 5
        }
      ]
    },
    {
      "cell_type": "markdown",
      "source": [
        "#### PREPROCESS CATEGORICAL COLUMN\n",
        "\n",
        "note : i did a preprocess for categorical column using label encoder, "
      ],
      "metadata": {
        "id": "7Y78xO2vyhCW"
      }
    },
    {
      "cell_type": "code",
      "source": [
        "cat = DATA_TRAIN.select_dtypes(include='object')\n",
        "\n",
        "for i in cat.columns:\n",
        "  print(DATA_TRAIN[i].unique())"
      ],
      "metadata": {
        "colab": {
          "base_uri": "https://localhost:8080/"
        },
        "id": "aa4YHIO-0rST",
        "outputId": "8ec405d5-9ef5-4d1a-d569-dfb26746714c"
      },
      "execution_count": null,
      "outputs": [
        {
          "output_type": "stream",
          "name": "stdout",
          "text": [
            "['Revolving loans' 'Cash loans']\n",
            "['F' 'M']\n",
            "['Working' 'Commercial associate' 'Pensioner' 'State servant' 'Unemployed'\n",
            " 'Student' 'Businessman']\n",
            "['Secondary / secondary special' 'Higher education' 'Incomplete higher'\n",
            " 'Lower secondary' 'Academic degree']\n",
            "['Married' 'Single / not married' 'Civil marriage' 'Separated' 'Widow']\n",
            "['With parents' 'House / apartment' 'Municipal apartment'\n",
            " 'Rented apartment' 'Office apartment' 'Co-op apartment']\n",
            "['TUESDAY' 'THURSDAY' 'WEDNESDAY' 'SUNDAY' 'MONDAY' 'FRIDAY' 'SATURDAY']\n",
            "['Business Entity Type 3' 'Other' 'NA1' 'Culture' 'Construction'\n",
            " 'Self-employed' 'University' 'Kindergarten' 'Business Entity Type 2'\n",
            " 'Restaurant' 'Trade: type 3' 'Services' 'Housing'\n",
            " 'Business Entity Type 1' 'Industry: type 9' 'Trade: type 7'\n",
            " 'Transport: type 4' 'Medicine' 'Transport: type 3' 'Trade: type 5'\n",
            " 'Trade: type 2' 'School' 'Industry: type 13' 'Industry: type 7'\n",
            " 'Security' 'Government' 'Agriculture' 'Industry: type 3' 'Police'\n",
            " 'Transport: type 2' 'Industry: type 4' 'Security Ministries' 'Emergency'\n",
            " 'Realtor' 'Electricity' 'Industry: type 11' 'Military' 'Industry: type 5'\n",
            " 'Postal' 'Trade: type 6' 'Industry: type 1' 'Hotel' 'Industry: type 6'\n",
            " 'Transport: type 1' 'Cleaning' 'Bank' 'Telecom' 'Insurance' 'Mobile'\n",
            " 'Advertising' 'Industry: type 12' 'Legal Services' 'Trade: type 1'\n",
            " 'Industry: type 2' 'Trade: type 4' 'Industry: type 10' 'Religion'\n",
            " 'Industry: type 8']\n"
          ]
        }
      ]
    },
    {
      "cell_type": "code",
      "source": [
        "le = LabelEncoder()\n",
        "for i in cat.columns:\n",
        "  DATA_TRAIN[i] = le.fit_transform(DATA_TRAIN[i])\n",
        "\n",
        "DATA_TRAIN"
      ],
      "metadata": {
        "colab": {
          "base_uri": "https://localhost:8080/"
        },
        "id": "JwYwsfHN1-Mc",
        "outputId": "b81ab9da-cabb-487d-a9bd-4f0efa77b402"
      },
      "execution_count": null,
      "outputs": [
        {
          "output_type": "execute_result",
          "data": {
            "text/plain": [
              "       TARGET  CONTRACT_TYPE  GENDER  NUM_CHILDREN    INCOME  APPROVED_CREDIT  \\\n",
              "0           0              1       0             1   67500.0         202500.0   \n",
              "1           0              0       0             1  202500.0         976711.5   \n",
              "2           0              0       0             0  180000.0         407520.0   \n",
              "3           0              0       1             0  225000.0         808650.0   \n",
              "4           0              1       1             0  135000.0         180000.0   \n",
              "...       ...            ...     ...           ...       ...              ...   \n",
              "61498       0              0       1             2  360000.0         450000.0   \n",
              "61499       1              0       0             0  441000.0         904500.0   \n",
              "61500       0              1       0             0  202500.0         900000.0   \n",
              "61501       0              0       0             0   94500.0         360000.0   \n",
              "61502       0              0       0             0   90000.0         203760.0   \n",
              "\n",
              "       ANNUITY     PRICE  INCOME_TYPE  EDUCATION  FAMILY_STATUS  HOUSING_TYPE  \\\n",
              "0      10125.0  202500.0            6          4              1             5   \n",
              "1      49869.0  873000.0            1          4              1             1   \n",
              "2      25060.5  360000.0            2          4              1             1   \n",
              "3      26086.5  675000.0            3          1              1             1   \n",
              "4       9000.0  180000.0            1          4              3             1   \n",
              "...        ...       ...          ...        ...            ...           ...   \n",
              "61498  44509.5  450000.0            3          4              1             1   \n",
              "61499  38452.5  904500.0            2          4              1             1   \n",
              "61500  45000.0  900000.0            1          1              1             1   \n",
              "61501  17509.5  360000.0            6          4              1             1   \n",
              "61502  20281.5  180000.0            2          4              3             1   \n",
              "\n",
              "       DAYS_AGE  DAYS_WORK  DAYS_REGISTRATION  DAYS_ID_CHANGE  WEEKDAYS_APPLY  \\\n",
              "0        -11539       -921             -119.0           -2757               5   \n",
              "1        -15743      -4482            -1797.0           -2455               5   \n",
              "2        -20775     365243            -8737.0           -4312               4   \n",
              "3        -20659     -10455            -4998.0           -4010               6   \n",
              "4         -9013      -1190            -3524.0           -1644               3   \n",
              "...         ...        ...                ...             ...             ...   \n",
              "61498    -14268      -5813            -2313.0           -2709               0   \n",
              "61499    -21582     365243            -4106.0           -4191               5   \n",
              "61500    -17729      -1564           -11844.0           -1263               0   \n",
              "61501    -11258      -4159            -5060.0           -3698               0   \n",
              "61502    -24604     365243           -12794.0           -4105               5   \n",
              "\n",
              "       HOUR_APPLY  ORGANIZATION_TYPE  \n",
              "0              18                  5  \n",
              "1              14                 34  \n",
              "2              14                 33  \n",
              "3              10                  8  \n",
              "4              11                  7  \n",
              "...           ...                ...  \n",
              "61498           6                  9  \n",
              "61499          12                 33  \n",
              "61500          16                 17  \n",
              "61501          15                  5  \n",
              "61502          11                 33  \n",
              "\n",
              "[61503 rows x 19 columns]"
            ],
            "text/html": [
              "\n",
              "  <div id=\"df-f6a2cf3c-17a9-4161-8570-f474b71828ab\">\n",
              "    <div class=\"colab-df-container\">\n",
              "      <div>\n",
              "<style scoped>\n",
              "    .dataframe tbody tr th:only-of-type {\n",
              "        vertical-align: middle;\n",
              "    }\n",
              "\n",
              "    .dataframe tbody tr th {\n",
              "        vertical-align: top;\n",
              "    }\n",
              "\n",
              "    .dataframe thead th {\n",
              "        text-align: right;\n",
              "    }\n",
              "</style>\n",
              "<table border=\"1\" class=\"dataframe\">\n",
              "  <thead>\n",
              "    <tr style=\"text-align: right;\">\n",
              "      <th></th>\n",
              "      <th>TARGET</th>\n",
              "      <th>CONTRACT_TYPE</th>\n",
              "      <th>GENDER</th>\n",
              "      <th>NUM_CHILDREN</th>\n",
              "      <th>INCOME</th>\n",
              "      <th>APPROVED_CREDIT</th>\n",
              "      <th>ANNUITY</th>\n",
              "      <th>PRICE</th>\n",
              "      <th>INCOME_TYPE</th>\n",
              "      <th>EDUCATION</th>\n",
              "      <th>FAMILY_STATUS</th>\n",
              "      <th>HOUSING_TYPE</th>\n",
              "      <th>DAYS_AGE</th>\n",
              "      <th>DAYS_WORK</th>\n",
              "      <th>DAYS_REGISTRATION</th>\n",
              "      <th>DAYS_ID_CHANGE</th>\n",
              "      <th>WEEKDAYS_APPLY</th>\n",
              "      <th>HOUR_APPLY</th>\n",
              "      <th>ORGANIZATION_TYPE</th>\n",
              "    </tr>\n",
              "  </thead>\n",
              "  <tbody>\n",
              "    <tr>\n",
              "      <th>0</th>\n",
              "      <td>0</td>\n",
              "      <td>1</td>\n",
              "      <td>0</td>\n",
              "      <td>1</td>\n",
              "      <td>67500.0</td>\n",
              "      <td>202500.0</td>\n",
              "      <td>10125.0</td>\n",
              "      <td>202500.0</td>\n",
              "      <td>6</td>\n",
              "      <td>4</td>\n",
              "      <td>1</td>\n",
              "      <td>5</td>\n",
              "      <td>-11539</td>\n",
              "      <td>-921</td>\n",
              "      <td>-119.0</td>\n",
              "      <td>-2757</td>\n",
              "      <td>5</td>\n",
              "      <td>18</td>\n",
              "      <td>5</td>\n",
              "    </tr>\n",
              "    <tr>\n",
              "      <th>1</th>\n",
              "      <td>0</td>\n",
              "      <td>0</td>\n",
              "      <td>0</td>\n",
              "      <td>1</td>\n",
              "      <td>202500.0</td>\n",
              "      <td>976711.5</td>\n",
              "      <td>49869.0</td>\n",
              "      <td>873000.0</td>\n",
              "      <td>1</td>\n",
              "      <td>4</td>\n",
              "      <td>1</td>\n",
              "      <td>1</td>\n",
              "      <td>-15743</td>\n",
              "      <td>-4482</td>\n",
              "      <td>-1797.0</td>\n",
              "      <td>-2455</td>\n",
              "      <td>5</td>\n",
              "      <td>14</td>\n",
              "      <td>34</td>\n",
              "    </tr>\n",
              "    <tr>\n",
              "      <th>2</th>\n",
              "      <td>0</td>\n",
              "      <td>0</td>\n",
              "      <td>0</td>\n",
              "      <td>0</td>\n",
              "      <td>180000.0</td>\n",
              "      <td>407520.0</td>\n",
              "      <td>25060.5</td>\n",
              "      <td>360000.0</td>\n",
              "      <td>2</td>\n",
              "      <td>4</td>\n",
              "      <td>1</td>\n",
              "      <td>1</td>\n",
              "      <td>-20775</td>\n",
              "      <td>365243</td>\n",
              "      <td>-8737.0</td>\n",
              "      <td>-4312</td>\n",
              "      <td>4</td>\n",
              "      <td>14</td>\n",
              "      <td>33</td>\n",
              "    </tr>\n",
              "    <tr>\n",
              "      <th>3</th>\n",
              "      <td>0</td>\n",
              "      <td>0</td>\n",
              "      <td>1</td>\n",
              "      <td>0</td>\n",
              "      <td>225000.0</td>\n",
              "      <td>808650.0</td>\n",
              "      <td>26086.5</td>\n",
              "      <td>675000.0</td>\n",
              "      <td>3</td>\n",
              "      <td>1</td>\n",
              "      <td>1</td>\n",
              "      <td>1</td>\n",
              "      <td>-20659</td>\n",
              "      <td>-10455</td>\n",
              "      <td>-4998.0</td>\n",
              "      <td>-4010</td>\n",
              "      <td>6</td>\n",
              "      <td>10</td>\n",
              "      <td>8</td>\n",
              "    </tr>\n",
              "    <tr>\n",
              "      <th>4</th>\n",
              "      <td>0</td>\n",
              "      <td>1</td>\n",
              "      <td>1</td>\n",
              "      <td>0</td>\n",
              "      <td>135000.0</td>\n",
              "      <td>180000.0</td>\n",
              "      <td>9000.0</td>\n",
              "      <td>180000.0</td>\n",
              "      <td>1</td>\n",
              "      <td>4</td>\n",
              "      <td>3</td>\n",
              "      <td>1</td>\n",
              "      <td>-9013</td>\n",
              "      <td>-1190</td>\n",
              "      <td>-3524.0</td>\n",
              "      <td>-1644</td>\n",
              "      <td>3</td>\n",
              "      <td>11</td>\n",
              "      <td>7</td>\n",
              "    </tr>\n",
              "    <tr>\n",
              "      <th>...</th>\n",
              "      <td>...</td>\n",
              "      <td>...</td>\n",
              "      <td>...</td>\n",
              "      <td>...</td>\n",
              "      <td>...</td>\n",
              "      <td>...</td>\n",
              "      <td>...</td>\n",
              "      <td>...</td>\n",
              "      <td>...</td>\n",
              "      <td>...</td>\n",
              "      <td>...</td>\n",
              "      <td>...</td>\n",
              "      <td>...</td>\n",
              "      <td>...</td>\n",
              "      <td>...</td>\n",
              "      <td>...</td>\n",
              "      <td>...</td>\n",
              "      <td>...</td>\n",
              "      <td>...</td>\n",
              "    </tr>\n",
              "    <tr>\n",
              "      <th>61498</th>\n",
              "      <td>0</td>\n",
              "      <td>0</td>\n",
              "      <td>1</td>\n",
              "      <td>2</td>\n",
              "      <td>360000.0</td>\n",
              "      <td>450000.0</td>\n",
              "      <td>44509.5</td>\n",
              "      <td>450000.0</td>\n",
              "      <td>3</td>\n",
              "      <td>4</td>\n",
              "      <td>1</td>\n",
              "      <td>1</td>\n",
              "      <td>-14268</td>\n",
              "      <td>-5813</td>\n",
              "      <td>-2313.0</td>\n",
              "      <td>-2709</td>\n",
              "      <td>0</td>\n",
              "      <td>6</td>\n",
              "      <td>9</td>\n",
              "    </tr>\n",
              "    <tr>\n",
              "      <th>61499</th>\n",
              "      <td>1</td>\n",
              "      <td>0</td>\n",
              "      <td>0</td>\n",
              "      <td>0</td>\n",
              "      <td>441000.0</td>\n",
              "      <td>904500.0</td>\n",
              "      <td>38452.5</td>\n",
              "      <td>904500.0</td>\n",
              "      <td>2</td>\n",
              "      <td>4</td>\n",
              "      <td>1</td>\n",
              "      <td>1</td>\n",
              "      <td>-21582</td>\n",
              "      <td>365243</td>\n",
              "      <td>-4106.0</td>\n",
              "      <td>-4191</td>\n",
              "      <td>5</td>\n",
              "      <td>12</td>\n",
              "      <td>33</td>\n",
              "    </tr>\n",
              "    <tr>\n",
              "      <th>61500</th>\n",
              "      <td>0</td>\n",
              "      <td>1</td>\n",
              "      <td>0</td>\n",
              "      <td>0</td>\n",
              "      <td>202500.0</td>\n",
              "      <td>900000.0</td>\n",
              "      <td>45000.0</td>\n",
              "      <td>900000.0</td>\n",
              "      <td>1</td>\n",
              "      <td>1</td>\n",
              "      <td>1</td>\n",
              "      <td>1</td>\n",
              "      <td>-17729</td>\n",
              "      <td>-1564</td>\n",
              "      <td>-11844.0</td>\n",
              "      <td>-1263</td>\n",
              "      <td>0</td>\n",
              "      <td>16</td>\n",
              "      <td>17</td>\n",
              "    </tr>\n",
              "    <tr>\n",
              "      <th>61501</th>\n",
              "      <td>0</td>\n",
              "      <td>0</td>\n",
              "      <td>0</td>\n",
              "      <td>0</td>\n",
              "      <td>94500.0</td>\n",
              "      <td>360000.0</td>\n",
              "      <td>17509.5</td>\n",
              "      <td>360000.0</td>\n",
              "      <td>6</td>\n",
              "      <td>4</td>\n",
              "      <td>1</td>\n",
              "      <td>1</td>\n",
              "      <td>-11258</td>\n",
              "      <td>-4159</td>\n",
              "      <td>-5060.0</td>\n",
              "      <td>-3698</td>\n",
              "      <td>0</td>\n",
              "      <td>15</td>\n",
              "      <td>5</td>\n",
              "    </tr>\n",
              "    <tr>\n",
              "      <th>61502</th>\n",
              "      <td>0</td>\n",
              "      <td>0</td>\n",
              "      <td>0</td>\n",
              "      <td>0</td>\n",
              "      <td>90000.0</td>\n",
              "      <td>203760.0</td>\n",
              "      <td>20281.5</td>\n",
              "      <td>180000.0</td>\n",
              "      <td>2</td>\n",
              "      <td>4</td>\n",
              "      <td>3</td>\n",
              "      <td>1</td>\n",
              "      <td>-24604</td>\n",
              "      <td>365243</td>\n",
              "      <td>-12794.0</td>\n",
              "      <td>-4105</td>\n",
              "      <td>5</td>\n",
              "      <td>11</td>\n",
              "      <td>33</td>\n",
              "    </tr>\n",
              "  </tbody>\n",
              "</table>\n",
              "<p>61503 rows × 19 columns</p>\n",
              "</div>\n",
              "      <button class=\"colab-df-convert\" onclick=\"convertToInteractive('df-f6a2cf3c-17a9-4161-8570-f474b71828ab')\"\n",
              "              title=\"Convert this dataframe to an interactive table.\"\n",
              "              style=\"display:none;\">\n",
              "        \n",
              "  <svg xmlns=\"http://www.w3.org/2000/svg\" height=\"24px\"viewBox=\"0 0 24 24\"\n",
              "       width=\"24px\">\n",
              "    <path d=\"M0 0h24v24H0V0z\" fill=\"none\"/>\n",
              "    <path d=\"M18.56 5.44l.94 2.06.94-2.06 2.06-.94-2.06-.94-.94-2.06-.94 2.06-2.06.94zm-11 1L8.5 8.5l.94-2.06 2.06-.94-2.06-.94L8.5 2.5l-.94 2.06-2.06.94zm10 10l.94 2.06.94-2.06 2.06-.94-2.06-.94-.94-2.06-.94 2.06-2.06.94z\"/><path d=\"M17.41 7.96l-1.37-1.37c-.4-.4-.92-.59-1.43-.59-.52 0-1.04.2-1.43.59L10.3 9.45l-7.72 7.72c-.78.78-.78 2.05 0 2.83L4 21.41c.39.39.9.59 1.41.59.51 0 1.02-.2 1.41-.59l7.78-7.78 2.81-2.81c.8-.78.8-2.07 0-2.86zM5.41 20L4 18.59l7.72-7.72 1.47 1.35L5.41 20z\"/>\n",
              "  </svg>\n",
              "      </button>\n",
              "      \n",
              "  <style>\n",
              "    .colab-df-container {\n",
              "      display:flex;\n",
              "      flex-wrap:wrap;\n",
              "      gap: 12px;\n",
              "    }\n",
              "\n",
              "    .colab-df-convert {\n",
              "      background-color: #E8F0FE;\n",
              "      border: none;\n",
              "      border-radius: 50%;\n",
              "      cursor: pointer;\n",
              "      display: none;\n",
              "      fill: #1967D2;\n",
              "      height: 32px;\n",
              "      padding: 0 0 0 0;\n",
              "      width: 32px;\n",
              "    }\n",
              "\n",
              "    .colab-df-convert:hover {\n",
              "      background-color: #E2EBFA;\n",
              "      box-shadow: 0px 1px 2px rgba(60, 64, 67, 0.3), 0px 1px 3px 1px rgba(60, 64, 67, 0.15);\n",
              "      fill: #174EA6;\n",
              "    }\n",
              "\n",
              "    [theme=dark] .colab-df-convert {\n",
              "      background-color: #3B4455;\n",
              "      fill: #D2E3FC;\n",
              "    }\n",
              "\n",
              "    [theme=dark] .colab-df-convert:hover {\n",
              "      background-color: #434B5C;\n",
              "      box-shadow: 0px 1px 3px 1px rgba(0, 0, 0, 0.15);\n",
              "      filter: drop-shadow(0px 1px 2px rgba(0, 0, 0, 0.3));\n",
              "      fill: #FFFFFF;\n",
              "    }\n",
              "  </style>\n",
              "\n",
              "      <script>\n",
              "        const buttonEl =\n",
              "          document.querySelector('#df-f6a2cf3c-17a9-4161-8570-f474b71828ab button.colab-df-convert');\n",
              "        buttonEl.style.display =\n",
              "          google.colab.kernel.accessAllowed ? 'block' : 'none';\n",
              "\n",
              "        async function convertToInteractive(key) {\n",
              "          const element = document.querySelector('#df-f6a2cf3c-17a9-4161-8570-f474b71828ab');\n",
              "          const dataTable =\n",
              "            await google.colab.kernel.invokeFunction('convertToInteractive',\n",
              "                                                     [key], {});\n",
              "          if (!dataTable) return;\n",
              "\n",
              "          const docLinkHtml = 'Like what you see? Visit the ' +\n",
              "            '<a target=\"_blank\" href=https://colab.research.google.com/notebooks/data_table.ipynb>data table notebook</a>'\n",
              "            + ' to learn more about interactive tables.';\n",
              "          element.innerHTML = '';\n",
              "          dataTable['output_type'] = 'display_data';\n",
              "          await google.colab.output.renderOutput(dataTable, element);\n",
              "          const docLink = document.createElement('div');\n",
              "          docLink.innerHTML = docLinkHtml;\n",
              "          element.appendChild(docLink);\n",
              "        }\n",
              "      </script>\n",
              "    </div>\n",
              "  </div>\n",
              "  "
            ]
          },
          "metadata": {},
          "execution_count": 7
        }
      ]
    },
    {
      "cell_type": "markdown",
      "source": [
        "#### PLOT CORRELATED DATA\n",
        "\n",
        "note : from the correlation plot, i assume that the \"APPROVE CREDIT\", \"ANNUITY\", and \"PRICE\" column is correlating with each other, however the \"NUM_CHILDREN\" and \"DAYS_AGE\" column can also be used as feature selection even though the correlation between the data are low."
      ],
      "metadata": {
        "id": "UToZl38Xrrfx"
      }
    },
    {
      "cell_type": "code",
      "source": [
        "DATA_TRAIN.corr()"
      ],
      "metadata": {
        "colab": {
          "base_uri": "https://localhost:8080/"
        },
        "id": "1GXmOZGTt51_",
        "outputId": "5ef36fa8-3818-4417-9467-c988d114ef18"
      },
      "execution_count": null,
      "outputs": [
        {
          "output_type": "execute_result",
          "data": {
            "text/plain": [
              "                     TARGET  CONTRACT_TYPE    GENDER  NUM_CHILDREN    INCOME  \\\n",
              "TARGET             1.000000      -0.030597  0.059428      0.018525 -0.020814   \n",
              "CONTRACT_TYPE     -0.030597       1.000000 -0.009320      0.031633 -0.002383   \n",
              "GENDER             0.059428      -0.009320  1.000000      0.048208  0.138458   \n",
              "NUM_CHILDREN       0.018525       0.031633  0.048208      1.000000  0.021530   \n",
              "INCOME            -0.020814      -0.002383  0.138458      0.021530  1.000000   \n",
              "APPROVED_CREDIT   -0.039372      -0.220233  0.016366      0.007365  0.279659   \n",
              "ANNUITY           -0.019047      -0.240770  0.074073      0.027297  0.351515   \n",
              "PRICE             -0.047927      -0.184242  0.016908      0.003395  0.285695   \n",
              "INCOME_TYPE        0.054818       0.010765  0.091451      0.127731 -0.067388   \n",
              "EDUCATION          0.059506      -0.063094  0.012242     -0.036114 -0.172340   \n",
              "FAMILY_STATUS      0.002507       0.018722 -0.085239     -0.169794 -0.028517   \n",
              "HOUSING_TYPE       0.031647       0.026292  0.063010      0.021165 -0.011278   \n",
              "DAYS_AGE           0.083524       0.083485  0.151158      0.331271  0.050382   \n",
              "DAYS_WORK         -0.049952      -0.051993 -0.160546     -0.240094 -0.116870   \n",
              "DAYS_REGISTRATION  0.039037       0.014189  0.071776      0.178593  0.053163   \n",
              "DAYS_ID_CHANGE     0.055748       0.050549  0.006414     -0.036734  0.017501   \n",
              "WEEKDAYS_APPLY     0.009019      -0.004382  0.002807     -0.002109 -0.001976   \n",
              "HOUR_APPLY        -0.029929       0.032487  0.002397     -0.009091  0.064925   \n",
              "ORGANIZATION_TYPE -0.017538      -0.016257 -0.118468     -0.041583 -0.065775   \n",
              "\n",
              "                   APPROVED_CREDIT   ANNUITY     PRICE  INCOME_TYPE  \\\n",
              "TARGET                   -0.039372 -0.019047 -0.047927     0.054818   \n",
              "CONTRACT_TYPE            -0.220233 -0.240770 -0.184242     0.010765   \n",
              "GENDER                    0.016366  0.074073  0.016908     0.091451   \n",
              "NUM_CHILDREN              0.007365  0.027297  0.003395     0.127731   \n",
              "INCOME                    0.279659  0.351515  0.285695    -0.067388   \n",
              "APPROVED_CREDIT           1.000000  0.771021  0.987017    -0.063314   \n",
              "ANNUITY                   0.771021  1.000000  0.775949    -0.057683   \n",
              "PRICE                     0.987017  0.775949  1.000000    -0.063691   \n",
              "INCOME_TYPE              -0.063314 -0.057683 -0.063691     1.000000   \n",
              "EDUCATION                -0.122822 -0.140974 -0.135069     0.078093   \n",
              "FAMILY_STATUS            -0.102553 -0.100071 -0.103351    -0.065048   \n",
              "HOUSING_TYPE             -0.051020 -0.032748 -0.052727     0.048909   \n",
              "DAYS_AGE                 -0.049237  0.015771 -0.048012     0.251684   \n",
              "DAYS_WORK                -0.071783 -0.111407 -0.069038    -0.404254   \n",
              "DAYS_REGISTRATION         0.014528  0.045753  0.016497     0.089133   \n",
              "DAYS_ID_CHANGE           -0.007247  0.010125 -0.009235     0.100722   \n",
              "WEEKDAYS_APPLY            0.006901  0.004053  0.007044    -0.000901   \n",
              "HOUR_APPLY                0.052435  0.052041  0.062385    -0.019188   \n",
              "ORGANIZATION_TYPE        -0.029268 -0.037867 -0.030313    -0.077505   \n",
              "\n",
              "                   EDUCATION  FAMILY_STATUS  HOUSING_TYPE  DAYS_AGE  \\\n",
              "TARGET              0.059506       0.002507      0.031647  0.083524   \n",
              "CONTRACT_TYPE      -0.063094       0.018722      0.026292  0.083485   \n",
              "GENDER              0.012242      -0.085239      0.063010  0.151158   \n",
              "NUM_CHILDREN       -0.036114      -0.169794      0.021165  0.331271   \n",
              "INCOME             -0.172340      -0.028517     -0.011278  0.050382   \n",
              "APPROVED_CREDIT    -0.122822      -0.102553     -0.051020 -0.049237   \n",
              "ANNUITY            -0.140974      -0.100071     -0.032748  0.015771   \n",
              "PRICE              -0.135069      -0.103351     -0.052727 -0.048012   \n",
              "INCOME_TYPE         0.078093      -0.065048      0.048909  0.251684   \n",
              "EDUCATION           1.000000      -0.007981     -0.018402 -0.154101   \n",
              "FAMILY_STATUS      -0.007981       1.000000      0.065374 -0.097083   \n",
              "HOUSING_TYPE       -0.018402       0.065374      1.000000  0.233787   \n",
              "DAYS_AGE           -0.154101      -0.097083      0.233787  1.000000   \n",
              "DAYS_WORK           0.117192       0.146020     -0.106602 -0.619288   \n",
              "DAYS_REGISTRATION  -0.097085      -0.069889      0.045906  0.324025   \n",
              "DAYS_ID_CHANGE     -0.037423      -0.023484      0.083940  0.269007   \n",
              "WEEKDAYS_APPLY     -0.003594       0.001558      0.000483 -0.004863   \n",
              "HOUR_APPLY         -0.084448       0.000586      0.016762  0.088924   \n",
              "ORGANIZATION_TYPE   0.042526       0.025428     -0.026754 -0.136231   \n",
              "\n",
              "                   DAYS_WORK  DAYS_REGISTRATION  DAYS_ID_CHANGE  \\\n",
              "TARGET             -0.049952           0.039037        0.055748   \n",
              "CONTRACT_TYPE      -0.051993           0.014189        0.050549   \n",
              "GENDER             -0.160546           0.071776        0.006414   \n",
              "NUM_CHILDREN       -0.240094           0.178593       -0.036734   \n",
              "INCOME             -0.116870           0.053163        0.017501   \n",
              "APPROVED_CREDIT    -0.071783           0.014528       -0.007247   \n",
              "ANNUITY            -0.111407           0.045753        0.010125   \n",
              "PRICE              -0.069038           0.016497       -0.009235   \n",
              "INCOME_TYPE        -0.404254           0.089133        0.100722   \n",
              "EDUCATION           0.117192          -0.097085       -0.037423   \n",
              "FAMILY_STATUS       0.146020          -0.069889       -0.023484   \n",
              "HOUSING_TYPE       -0.106602           0.045906        0.083940   \n",
              "DAYS_AGE           -0.619288           0.324025        0.269007   \n",
              "DAYS_WORK           1.000000          -0.206267       -0.271564   \n",
              "DAYS_REGISTRATION  -0.206267           1.000000        0.099835   \n",
              "DAYS_ID_CHANGE     -0.271564           0.099835        1.000000   \n",
              "WEEKDAYS_APPLY      0.005407           0.007342       -0.009136   \n",
              "HOUR_APPLY         -0.087539          -0.010861        0.030328   \n",
              "ORGANIZATION_TYPE   0.214356          -0.037549       -0.050647   \n",
              "\n",
              "                   WEEKDAYS_APPLY  HOUR_APPLY  ORGANIZATION_TYPE  \n",
              "TARGET                   0.009019   -0.029929          -0.017538  \n",
              "CONTRACT_TYPE           -0.004382    0.032487          -0.016257  \n",
              "GENDER                   0.002807    0.002397          -0.118468  \n",
              "NUM_CHILDREN            -0.002109   -0.009091          -0.041583  \n",
              "INCOME                  -0.001976    0.064925          -0.065775  \n",
              "APPROVED_CREDIT          0.006901    0.052435          -0.029268  \n",
              "ANNUITY                  0.004053    0.052041          -0.037867  \n",
              "PRICE                    0.007044    0.062385          -0.030313  \n",
              "INCOME_TYPE             -0.000901   -0.019188          -0.077505  \n",
              "EDUCATION               -0.003594   -0.084448           0.042526  \n",
              "FAMILY_STATUS            0.001558    0.000586           0.025428  \n",
              "HOUSING_TYPE             0.000483    0.016762          -0.026754  \n",
              "DAYS_AGE                -0.004863    0.088924          -0.136231  \n",
              "DAYS_WORK                0.005407   -0.087539           0.214356  \n",
              "DAYS_REGISTRATION        0.007342   -0.010861          -0.037549  \n",
              "DAYS_ID_CHANGE          -0.009136    0.030328          -0.050647  \n",
              "WEEKDAYS_APPLY           1.000000    0.008396          -0.004587  \n",
              "HOUR_APPLY               0.008396    1.000000          -0.047667  \n",
              "ORGANIZATION_TYPE       -0.004587   -0.047667           1.000000  "
            ],
            "text/html": [
              "\n",
              "  <div id=\"df-8f147fc3-c6d2-4b0b-b7c5-9801272c7cf9\">\n",
              "    <div class=\"colab-df-container\">\n",
              "      <div>\n",
              "<style scoped>\n",
              "    .dataframe tbody tr th:only-of-type {\n",
              "        vertical-align: middle;\n",
              "    }\n",
              "\n",
              "    .dataframe tbody tr th {\n",
              "        vertical-align: top;\n",
              "    }\n",
              "\n",
              "    .dataframe thead th {\n",
              "        text-align: right;\n",
              "    }\n",
              "</style>\n",
              "<table border=\"1\" class=\"dataframe\">\n",
              "  <thead>\n",
              "    <tr style=\"text-align: right;\">\n",
              "      <th></th>\n",
              "      <th>TARGET</th>\n",
              "      <th>CONTRACT_TYPE</th>\n",
              "      <th>GENDER</th>\n",
              "      <th>NUM_CHILDREN</th>\n",
              "      <th>INCOME</th>\n",
              "      <th>APPROVED_CREDIT</th>\n",
              "      <th>ANNUITY</th>\n",
              "      <th>PRICE</th>\n",
              "      <th>INCOME_TYPE</th>\n",
              "      <th>EDUCATION</th>\n",
              "      <th>FAMILY_STATUS</th>\n",
              "      <th>HOUSING_TYPE</th>\n",
              "      <th>DAYS_AGE</th>\n",
              "      <th>DAYS_WORK</th>\n",
              "      <th>DAYS_REGISTRATION</th>\n",
              "      <th>DAYS_ID_CHANGE</th>\n",
              "      <th>WEEKDAYS_APPLY</th>\n",
              "      <th>HOUR_APPLY</th>\n",
              "      <th>ORGANIZATION_TYPE</th>\n",
              "    </tr>\n",
              "  </thead>\n",
              "  <tbody>\n",
              "    <tr>\n",
              "      <th>TARGET</th>\n",
              "      <td>1.000000</td>\n",
              "      <td>-0.030597</td>\n",
              "      <td>0.059428</td>\n",
              "      <td>0.018525</td>\n",
              "      <td>-0.020814</td>\n",
              "      <td>-0.039372</td>\n",
              "      <td>-0.019047</td>\n",
              "      <td>-0.047927</td>\n",
              "      <td>0.054818</td>\n",
              "      <td>0.059506</td>\n",
              "      <td>0.002507</td>\n",
              "      <td>0.031647</td>\n",
              "      <td>0.083524</td>\n",
              "      <td>-0.049952</td>\n",
              "      <td>0.039037</td>\n",
              "      <td>0.055748</td>\n",
              "      <td>0.009019</td>\n",
              "      <td>-0.029929</td>\n",
              "      <td>-0.017538</td>\n",
              "    </tr>\n",
              "    <tr>\n",
              "      <th>CONTRACT_TYPE</th>\n",
              "      <td>-0.030597</td>\n",
              "      <td>1.000000</td>\n",
              "      <td>-0.009320</td>\n",
              "      <td>0.031633</td>\n",
              "      <td>-0.002383</td>\n",
              "      <td>-0.220233</td>\n",
              "      <td>-0.240770</td>\n",
              "      <td>-0.184242</td>\n",
              "      <td>0.010765</td>\n",
              "      <td>-0.063094</td>\n",
              "      <td>0.018722</td>\n",
              "      <td>0.026292</td>\n",
              "      <td>0.083485</td>\n",
              "      <td>-0.051993</td>\n",
              "      <td>0.014189</td>\n",
              "      <td>0.050549</td>\n",
              "      <td>-0.004382</td>\n",
              "      <td>0.032487</td>\n",
              "      <td>-0.016257</td>\n",
              "    </tr>\n",
              "    <tr>\n",
              "      <th>GENDER</th>\n",
              "      <td>0.059428</td>\n",
              "      <td>-0.009320</td>\n",
              "      <td>1.000000</td>\n",
              "      <td>0.048208</td>\n",
              "      <td>0.138458</td>\n",
              "      <td>0.016366</td>\n",
              "      <td>0.074073</td>\n",
              "      <td>0.016908</td>\n",
              "      <td>0.091451</td>\n",
              "      <td>0.012242</td>\n",
              "      <td>-0.085239</td>\n",
              "      <td>0.063010</td>\n",
              "      <td>0.151158</td>\n",
              "      <td>-0.160546</td>\n",
              "      <td>0.071776</td>\n",
              "      <td>0.006414</td>\n",
              "      <td>0.002807</td>\n",
              "      <td>0.002397</td>\n",
              "      <td>-0.118468</td>\n",
              "    </tr>\n",
              "    <tr>\n",
              "      <th>NUM_CHILDREN</th>\n",
              "      <td>0.018525</td>\n",
              "      <td>0.031633</td>\n",
              "      <td>0.048208</td>\n",
              "      <td>1.000000</td>\n",
              "      <td>0.021530</td>\n",
              "      <td>0.007365</td>\n",
              "      <td>0.027297</td>\n",
              "      <td>0.003395</td>\n",
              "      <td>0.127731</td>\n",
              "      <td>-0.036114</td>\n",
              "      <td>-0.169794</td>\n",
              "      <td>0.021165</td>\n",
              "      <td>0.331271</td>\n",
              "      <td>-0.240094</td>\n",
              "      <td>0.178593</td>\n",
              "      <td>-0.036734</td>\n",
              "      <td>-0.002109</td>\n",
              "      <td>-0.009091</td>\n",
              "      <td>-0.041583</td>\n",
              "    </tr>\n",
              "    <tr>\n",
              "      <th>INCOME</th>\n",
              "      <td>-0.020814</td>\n",
              "      <td>-0.002383</td>\n",
              "      <td>0.138458</td>\n",
              "      <td>0.021530</td>\n",
              "      <td>1.000000</td>\n",
              "      <td>0.279659</td>\n",
              "      <td>0.351515</td>\n",
              "      <td>0.285695</td>\n",
              "      <td>-0.067388</td>\n",
              "      <td>-0.172340</td>\n",
              "      <td>-0.028517</td>\n",
              "      <td>-0.011278</td>\n",
              "      <td>0.050382</td>\n",
              "      <td>-0.116870</td>\n",
              "      <td>0.053163</td>\n",
              "      <td>0.017501</td>\n",
              "      <td>-0.001976</td>\n",
              "      <td>0.064925</td>\n",
              "      <td>-0.065775</td>\n",
              "    </tr>\n",
              "    <tr>\n",
              "      <th>APPROVED_CREDIT</th>\n",
              "      <td>-0.039372</td>\n",
              "      <td>-0.220233</td>\n",
              "      <td>0.016366</td>\n",
              "      <td>0.007365</td>\n",
              "      <td>0.279659</td>\n",
              "      <td>1.000000</td>\n",
              "      <td>0.771021</td>\n",
              "      <td>0.987017</td>\n",
              "      <td>-0.063314</td>\n",
              "      <td>-0.122822</td>\n",
              "      <td>-0.102553</td>\n",
              "      <td>-0.051020</td>\n",
              "      <td>-0.049237</td>\n",
              "      <td>-0.071783</td>\n",
              "      <td>0.014528</td>\n",
              "      <td>-0.007247</td>\n",
              "      <td>0.006901</td>\n",
              "      <td>0.052435</td>\n",
              "      <td>-0.029268</td>\n",
              "    </tr>\n",
              "    <tr>\n",
              "      <th>ANNUITY</th>\n",
              "      <td>-0.019047</td>\n",
              "      <td>-0.240770</td>\n",
              "      <td>0.074073</td>\n",
              "      <td>0.027297</td>\n",
              "      <td>0.351515</td>\n",
              "      <td>0.771021</td>\n",
              "      <td>1.000000</td>\n",
              "      <td>0.775949</td>\n",
              "      <td>-0.057683</td>\n",
              "      <td>-0.140974</td>\n",
              "      <td>-0.100071</td>\n",
              "      <td>-0.032748</td>\n",
              "      <td>0.015771</td>\n",
              "      <td>-0.111407</td>\n",
              "      <td>0.045753</td>\n",
              "      <td>0.010125</td>\n",
              "      <td>0.004053</td>\n",
              "      <td>0.052041</td>\n",
              "      <td>-0.037867</td>\n",
              "    </tr>\n",
              "    <tr>\n",
              "      <th>PRICE</th>\n",
              "      <td>-0.047927</td>\n",
              "      <td>-0.184242</td>\n",
              "      <td>0.016908</td>\n",
              "      <td>0.003395</td>\n",
              "      <td>0.285695</td>\n",
              "      <td>0.987017</td>\n",
              "      <td>0.775949</td>\n",
              "      <td>1.000000</td>\n",
              "      <td>-0.063691</td>\n",
              "      <td>-0.135069</td>\n",
              "      <td>-0.103351</td>\n",
              "      <td>-0.052727</td>\n",
              "      <td>-0.048012</td>\n",
              "      <td>-0.069038</td>\n",
              "      <td>0.016497</td>\n",
              "      <td>-0.009235</td>\n",
              "      <td>0.007044</td>\n",
              "      <td>0.062385</td>\n",
              "      <td>-0.030313</td>\n",
              "    </tr>\n",
              "    <tr>\n",
              "      <th>INCOME_TYPE</th>\n",
              "      <td>0.054818</td>\n",
              "      <td>0.010765</td>\n",
              "      <td>0.091451</td>\n",
              "      <td>0.127731</td>\n",
              "      <td>-0.067388</td>\n",
              "      <td>-0.063314</td>\n",
              "      <td>-0.057683</td>\n",
              "      <td>-0.063691</td>\n",
              "      <td>1.000000</td>\n",
              "      <td>0.078093</td>\n",
              "      <td>-0.065048</td>\n",
              "      <td>0.048909</td>\n",
              "      <td>0.251684</td>\n",
              "      <td>-0.404254</td>\n",
              "      <td>0.089133</td>\n",
              "      <td>0.100722</td>\n",
              "      <td>-0.000901</td>\n",
              "      <td>-0.019188</td>\n",
              "      <td>-0.077505</td>\n",
              "    </tr>\n",
              "    <tr>\n",
              "      <th>EDUCATION</th>\n",
              "      <td>0.059506</td>\n",
              "      <td>-0.063094</td>\n",
              "      <td>0.012242</td>\n",
              "      <td>-0.036114</td>\n",
              "      <td>-0.172340</td>\n",
              "      <td>-0.122822</td>\n",
              "      <td>-0.140974</td>\n",
              "      <td>-0.135069</td>\n",
              "      <td>0.078093</td>\n",
              "      <td>1.000000</td>\n",
              "      <td>-0.007981</td>\n",
              "      <td>-0.018402</td>\n",
              "      <td>-0.154101</td>\n",
              "      <td>0.117192</td>\n",
              "      <td>-0.097085</td>\n",
              "      <td>-0.037423</td>\n",
              "      <td>-0.003594</td>\n",
              "      <td>-0.084448</td>\n",
              "      <td>0.042526</td>\n",
              "    </tr>\n",
              "    <tr>\n",
              "      <th>FAMILY_STATUS</th>\n",
              "      <td>0.002507</td>\n",
              "      <td>0.018722</td>\n",
              "      <td>-0.085239</td>\n",
              "      <td>-0.169794</td>\n",
              "      <td>-0.028517</td>\n",
              "      <td>-0.102553</td>\n",
              "      <td>-0.100071</td>\n",
              "      <td>-0.103351</td>\n",
              "      <td>-0.065048</td>\n",
              "      <td>-0.007981</td>\n",
              "      <td>1.000000</td>\n",
              "      <td>0.065374</td>\n",
              "      <td>-0.097083</td>\n",
              "      <td>0.146020</td>\n",
              "      <td>-0.069889</td>\n",
              "      <td>-0.023484</td>\n",
              "      <td>0.001558</td>\n",
              "      <td>0.000586</td>\n",
              "      <td>0.025428</td>\n",
              "    </tr>\n",
              "    <tr>\n",
              "      <th>HOUSING_TYPE</th>\n",
              "      <td>0.031647</td>\n",
              "      <td>0.026292</td>\n",
              "      <td>0.063010</td>\n",
              "      <td>0.021165</td>\n",
              "      <td>-0.011278</td>\n",
              "      <td>-0.051020</td>\n",
              "      <td>-0.032748</td>\n",
              "      <td>-0.052727</td>\n",
              "      <td>0.048909</td>\n",
              "      <td>-0.018402</td>\n",
              "      <td>0.065374</td>\n",
              "      <td>1.000000</td>\n",
              "      <td>0.233787</td>\n",
              "      <td>-0.106602</td>\n",
              "      <td>0.045906</td>\n",
              "      <td>0.083940</td>\n",
              "      <td>0.000483</td>\n",
              "      <td>0.016762</td>\n",
              "      <td>-0.026754</td>\n",
              "    </tr>\n",
              "    <tr>\n",
              "      <th>DAYS_AGE</th>\n",
              "      <td>0.083524</td>\n",
              "      <td>0.083485</td>\n",
              "      <td>0.151158</td>\n",
              "      <td>0.331271</td>\n",
              "      <td>0.050382</td>\n",
              "      <td>-0.049237</td>\n",
              "      <td>0.015771</td>\n",
              "      <td>-0.048012</td>\n",
              "      <td>0.251684</td>\n",
              "      <td>-0.154101</td>\n",
              "      <td>-0.097083</td>\n",
              "      <td>0.233787</td>\n",
              "      <td>1.000000</td>\n",
              "      <td>-0.619288</td>\n",
              "      <td>0.324025</td>\n",
              "      <td>0.269007</td>\n",
              "      <td>-0.004863</td>\n",
              "      <td>0.088924</td>\n",
              "      <td>-0.136231</td>\n",
              "    </tr>\n",
              "    <tr>\n",
              "      <th>DAYS_WORK</th>\n",
              "      <td>-0.049952</td>\n",
              "      <td>-0.051993</td>\n",
              "      <td>-0.160546</td>\n",
              "      <td>-0.240094</td>\n",
              "      <td>-0.116870</td>\n",
              "      <td>-0.071783</td>\n",
              "      <td>-0.111407</td>\n",
              "      <td>-0.069038</td>\n",
              "      <td>-0.404254</td>\n",
              "      <td>0.117192</td>\n",
              "      <td>0.146020</td>\n",
              "      <td>-0.106602</td>\n",
              "      <td>-0.619288</td>\n",
              "      <td>1.000000</td>\n",
              "      <td>-0.206267</td>\n",
              "      <td>-0.271564</td>\n",
              "      <td>0.005407</td>\n",
              "      <td>-0.087539</td>\n",
              "      <td>0.214356</td>\n",
              "    </tr>\n",
              "    <tr>\n",
              "      <th>DAYS_REGISTRATION</th>\n",
              "      <td>0.039037</td>\n",
              "      <td>0.014189</td>\n",
              "      <td>0.071776</td>\n",
              "      <td>0.178593</td>\n",
              "      <td>0.053163</td>\n",
              "      <td>0.014528</td>\n",
              "      <td>0.045753</td>\n",
              "      <td>0.016497</td>\n",
              "      <td>0.089133</td>\n",
              "      <td>-0.097085</td>\n",
              "      <td>-0.069889</td>\n",
              "      <td>0.045906</td>\n",
              "      <td>0.324025</td>\n",
              "      <td>-0.206267</td>\n",
              "      <td>1.000000</td>\n",
              "      <td>0.099835</td>\n",
              "      <td>0.007342</td>\n",
              "      <td>-0.010861</td>\n",
              "      <td>-0.037549</td>\n",
              "    </tr>\n",
              "    <tr>\n",
              "      <th>DAYS_ID_CHANGE</th>\n",
              "      <td>0.055748</td>\n",
              "      <td>0.050549</td>\n",
              "      <td>0.006414</td>\n",
              "      <td>-0.036734</td>\n",
              "      <td>0.017501</td>\n",
              "      <td>-0.007247</td>\n",
              "      <td>0.010125</td>\n",
              "      <td>-0.009235</td>\n",
              "      <td>0.100722</td>\n",
              "      <td>-0.037423</td>\n",
              "      <td>-0.023484</td>\n",
              "      <td>0.083940</td>\n",
              "      <td>0.269007</td>\n",
              "      <td>-0.271564</td>\n",
              "      <td>0.099835</td>\n",
              "      <td>1.000000</td>\n",
              "      <td>-0.009136</td>\n",
              "      <td>0.030328</td>\n",
              "      <td>-0.050647</td>\n",
              "    </tr>\n",
              "    <tr>\n",
              "      <th>WEEKDAYS_APPLY</th>\n",
              "      <td>0.009019</td>\n",
              "      <td>-0.004382</td>\n",
              "      <td>0.002807</td>\n",
              "      <td>-0.002109</td>\n",
              "      <td>-0.001976</td>\n",
              "      <td>0.006901</td>\n",
              "      <td>0.004053</td>\n",
              "      <td>0.007044</td>\n",
              "      <td>-0.000901</td>\n",
              "      <td>-0.003594</td>\n",
              "      <td>0.001558</td>\n",
              "      <td>0.000483</td>\n",
              "      <td>-0.004863</td>\n",
              "      <td>0.005407</td>\n",
              "      <td>0.007342</td>\n",
              "      <td>-0.009136</td>\n",
              "      <td>1.000000</td>\n",
              "      <td>0.008396</td>\n",
              "      <td>-0.004587</td>\n",
              "    </tr>\n",
              "    <tr>\n",
              "      <th>HOUR_APPLY</th>\n",
              "      <td>-0.029929</td>\n",
              "      <td>0.032487</td>\n",
              "      <td>0.002397</td>\n",
              "      <td>-0.009091</td>\n",
              "      <td>0.064925</td>\n",
              "      <td>0.052435</td>\n",
              "      <td>0.052041</td>\n",
              "      <td>0.062385</td>\n",
              "      <td>-0.019188</td>\n",
              "      <td>-0.084448</td>\n",
              "      <td>0.000586</td>\n",
              "      <td>0.016762</td>\n",
              "      <td>0.088924</td>\n",
              "      <td>-0.087539</td>\n",
              "      <td>-0.010861</td>\n",
              "      <td>0.030328</td>\n",
              "      <td>0.008396</td>\n",
              "      <td>1.000000</td>\n",
              "      <td>-0.047667</td>\n",
              "    </tr>\n",
              "    <tr>\n",
              "      <th>ORGANIZATION_TYPE</th>\n",
              "      <td>-0.017538</td>\n",
              "      <td>-0.016257</td>\n",
              "      <td>-0.118468</td>\n",
              "      <td>-0.041583</td>\n",
              "      <td>-0.065775</td>\n",
              "      <td>-0.029268</td>\n",
              "      <td>-0.037867</td>\n",
              "      <td>-0.030313</td>\n",
              "      <td>-0.077505</td>\n",
              "      <td>0.042526</td>\n",
              "      <td>0.025428</td>\n",
              "      <td>-0.026754</td>\n",
              "      <td>-0.136231</td>\n",
              "      <td>0.214356</td>\n",
              "      <td>-0.037549</td>\n",
              "      <td>-0.050647</td>\n",
              "      <td>-0.004587</td>\n",
              "      <td>-0.047667</td>\n",
              "      <td>1.000000</td>\n",
              "    </tr>\n",
              "  </tbody>\n",
              "</table>\n",
              "</div>\n",
              "      <button class=\"colab-df-convert\" onclick=\"convertToInteractive('df-8f147fc3-c6d2-4b0b-b7c5-9801272c7cf9')\"\n",
              "              title=\"Convert this dataframe to an interactive table.\"\n",
              "              style=\"display:none;\">\n",
              "        \n",
              "  <svg xmlns=\"http://www.w3.org/2000/svg\" height=\"24px\"viewBox=\"0 0 24 24\"\n",
              "       width=\"24px\">\n",
              "    <path d=\"M0 0h24v24H0V0z\" fill=\"none\"/>\n",
              "    <path d=\"M18.56 5.44l.94 2.06.94-2.06 2.06-.94-2.06-.94-.94-2.06-.94 2.06-2.06.94zm-11 1L8.5 8.5l.94-2.06 2.06-.94-2.06-.94L8.5 2.5l-.94 2.06-2.06.94zm10 10l.94 2.06.94-2.06 2.06-.94-2.06-.94-.94-2.06-.94 2.06-2.06.94z\"/><path d=\"M17.41 7.96l-1.37-1.37c-.4-.4-.92-.59-1.43-.59-.52 0-1.04.2-1.43.59L10.3 9.45l-7.72 7.72c-.78.78-.78 2.05 0 2.83L4 21.41c.39.39.9.59 1.41.59.51 0 1.02-.2 1.41-.59l7.78-7.78 2.81-2.81c.8-.78.8-2.07 0-2.86zM5.41 20L4 18.59l7.72-7.72 1.47 1.35L5.41 20z\"/>\n",
              "  </svg>\n",
              "      </button>\n",
              "      \n",
              "  <style>\n",
              "    .colab-df-container {\n",
              "      display:flex;\n",
              "      flex-wrap:wrap;\n",
              "      gap: 12px;\n",
              "    }\n",
              "\n",
              "    .colab-df-convert {\n",
              "      background-color: #E8F0FE;\n",
              "      border: none;\n",
              "      border-radius: 50%;\n",
              "      cursor: pointer;\n",
              "      display: none;\n",
              "      fill: #1967D2;\n",
              "      height: 32px;\n",
              "      padding: 0 0 0 0;\n",
              "      width: 32px;\n",
              "    }\n",
              "\n",
              "    .colab-df-convert:hover {\n",
              "      background-color: #E2EBFA;\n",
              "      box-shadow: 0px 1px 2px rgba(60, 64, 67, 0.3), 0px 1px 3px 1px rgba(60, 64, 67, 0.15);\n",
              "      fill: #174EA6;\n",
              "    }\n",
              "\n",
              "    [theme=dark] .colab-df-convert {\n",
              "      background-color: #3B4455;\n",
              "      fill: #D2E3FC;\n",
              "    }\n",
              "\n",
              "    [theme=dark] .colab-df-convert:hover {\n",
              "      background-color: #434B5C;\n",
              "      box-shadow: 0px 1px 3px 1px rgba(0, 0, 0, 0.15);\n",
              "      filter: drop-shadow(0px 1px 2px rgba(0, 0, 0, 0.3));\n",
              "      fill: #FFFFFF;\n",
              "    }\n",
              "  </style>\n",
              "\n",
              "      <script>\n",
              "        const buttonEl =\n",
              "          document.querySelector('#df-8f147fc3-c6d2-4b0b-b7c5-9801272c7cf9 button.colab-df-convert');\n",
              "        buttonEl.style.display =\n",
              "          google.colab.kernel.accessAllowed ? 'block' : 'none';\n",
              "\n",
              "        async function convertToInteractive(key) {\n",
              "          const element = document.querySelector('#df-8f147fc3-c6d2-4b0b-b7c5-9801272c7cf9');\n",
              "          const dataTable =\n",
              "            await google.colab.kernel.invokeFunction('convertToInteractive',\n",
              "                                                     [key], {});\n",
              "          if (!dataTable) return;\n",
              "\n",
              "          const docLinkHtml = 'Like what you see? Visit the ' +\n",
              "            '<a target=\"_blank\" href=https://colab.research.google.com/notebooks/data_table.ipynb>data table notebook</a>'\n",
              "            + ' to learn more about interactive tables.';\n",
              "          element.innerHTML = '';\n",
              "          dataTable['output_type'] = 'display_data';\n",
              "          await google.colab.output.renderOutput(dataTable, element);\n",
              "          const docLink = document.createElement('div');\n",
              "          docLink.innerHTML = docLinkHtml;\n",
              "          element.appendChild(docLink);\n",
              "        }\n",
              "      </script>\n",
              "    </div>\n",
              "  </div>\n",
              "  "
            ]
          },
          "metadata": {},
          "execution_count": 8
        }
      ]
    },
    {
      "cell_type": "code",
      "source": [
        "plt.figure(figsize = (10,7))\n",
        "corr = DATA_TRAIN.corr()\n",
        "sns.heatmap(corr , mask=np.zeros_like(corr, dtype=np.bool) , cmap=sns.diverging_palette(-100,0,as_cmap=True) , square = True)"
      ],
      "metadata": {
        "colab": {
          "base_uri": "https://localhost:8080/"
        },
        "id": "5YXQHbhQzsRG",
        "outputId": "655fb8b0-0825-4cd4-8c4d-852c2260e7dd"
      },
      "execution_count": null,
      "outputs": [
        {
          "output_type": "stream",
          "name": "stderr",
          "text": [
            "/usr/local/lib/python3.7/dist-packages/ipykernel_launcher.py:3: DeprecationWarning: `np.bool` is a deprecated alias for the builtin `bool`. To silence this warning, use `bool` by itself. Doing this will not modify any behavior and is safe. If you specifically wanted the numpy scalar type, use `np.bool_` here.\n",
            "Deprecated in NumPy 1.20; for more details and guidance: https://numpy.org/devdocs/release/1.20.0-notes.html#deprecations\n",
            "  This is separate from the ipykernel package so we can avoid doing imports until\n"
          ]
        },
        {
          "output_type": "execute_result",
          "data": {
            "text/plain": [
              "<matplotlib.axes._subplots.AxesSubplot at 0x7f1f1612ef10>"
            ]
          },
          "metadata": {},
          "execution_count": 9
        },
        {
          "output_type": "display_data",
          "data": {
            "text/plain": [
              "<Figure size 720x504 with 2 Axes>"
            ],
            "image/png": "[encoded data removed]"
          },
          "metadata": {
            "needs_background": "light"
          }
        }
      ]
    },
    {
      "cell_type": "markdown",
      "source": [
        "### PLOT FEATURE SELECTED\n",
        "\n",
        "note : from the process that has been done before, i took 5 feature + made 3 feature engineering to get into the model and i did some feature engineering for \"DAYS_AGE\" feature that has low correlated data."
      ],
      "metadata": {
        "id": "IWCQERT5cJhq"
      }
    },
    {
      "cell_type": "markdown",
      "source": [
        "#### TARGET"
      ],
      "metadata": {
        "id": "sEGUb7uPb7Rh"
      }
    },
    {
      "cell_type": "code",
      "source": [
        "print('unique value :',DATA_TRAIN['TARGET'].unique())\n",
        "print('counted value :\\n', DATA_TRAIN['TARGET'].value_counts())\n",
        "print('nan value :', DATA_TRAIN['TARGET'].isna().sum())"
      ],
      "metadata": {
        "colab": {
          "base_uri": "https://localhost:8080/"
        },
        "id": "e6319Mj-Wk8f",
        "outputId": "62242ea2-0106-4a8f-8046-b258f00b0d88"
      },
      "execution_count": null,
      "outputs": [
        {
          "output_type": "stream",
          "name": "stdout",
          "text": [
            "unique value : [0 1]\n",
            "counted value :\n",
            " 0    56534\n",
            "1     4969\n",
            "Name: TARGET, dtype: int64\n",
            "nan value : 0\n"
          ]
        }
      ]
    },
    {
      "cell_type": "code",
      "source": [
        "# amount of target on data, (data target is imbalanced)\n",
        "sns.countplot(x='TARGET', data=DATA_TRAIN)"
      ],
      "metadata": {
        "colab": {
          "base_uri": "https://localhost:8080/"
        },
        "id": "jXIRi3_GUZ0Q",
        "outputId": "66a3f125-6f3c-4763-f1b1-649b739f41a0"
      },
      "execution_count": null,
      "outputs": [
        {
          "output_type": "execute_result",
          "data": {
            "text/plain": [
              "<matplotlib.axes._subplots.AxesSubplot at 0x7f1f137ba150>"
            ]
          },
          "metadata": {},
          "execution_count": 11
        },
        {
          "output_type": "display_data",
          "data": {
            "text/plain": [
              "<Figure size 432x288 with 1 Axes>"
            ],
            "image/png": "[encoded data removed]"
          },
          "metadata": {
            "needs_background": "light"
          }
        }
      ]
    },
    {
      "cell_type": "markdown",
      "source": [
        "#### APPROVED CREDIT\n",
        "\n",
        "note : i did some feature engineering to made a distinguish between user who have approved credit less than 600k."
      ],
      "metadata": {
        "id": "tpQfsujyibcu"
      }
    },
    {
      "cell_type": "code",
      "source": [
        "print('maximum app credit :',DATA_TRAIN['APPROVED_CREDIT'].max())\n",
        "print('minimum app credit :',DATA_TRAIN['APPROVED_CREDIT'].min())\n",
        "print('mean app credit :', DATA_TRAIN['APPROVED_CREDIT'].mean())\n",
        "print('nan value :', DATA_TRAIN['APPROVED_CREDIT'].isna().sum())"
      ],
      "metadata": {
        "colab": {
          "base_uri": "https://localhost:8080/"
        },
        "id": "SaR97cf-iii8",
        "outputId": "d93371a6-bb23-4602-fd4e-a8b17c8a71e2"
      },
      "execution_count": null,
      "outputs": [
        {
          "output_type": "stream",
          "name": "stdout",
          "text": [
            "maximum app credit : 4050000.0\n",
            "minimum app credit : 45000.0\n",
            "mean app credit : 597689.917174772\n",
            "nan value : 0\n"
          ]
        }
      ]
    },
    {
      "cell_type": "code",
      "source": [
        "# amount of approved credit loaners on data\n",
        "plt.figure(figsize=(17,5))\n",
        "sns.boxplot(DATA_TRAIN['APPROVED_CREDIT'])"
      ],
      "metadata": {
        "colab": {
          "base_uri": "https://localhost:8080/"
        },
        "id": "Vx3yZOaJi0k-",
        "outputId": "9088060d-e468-48ed-a201-379060e77512"
      },
      "execution_count": null,
      "outputs": [
        {
          "output_type": "stream",
          "name": "stderr",
          "text": [
            "/usr/local/lib/python3.7/dist-packages/seaborn/_decorators.py:43: FutureWarning: Pass the following variable as a keyword arg: x. From version 0.12, the only valid positional argument will be `data`, and passing other arguments without an explicit keyword will result in an error or misinterpretation.\n",
            "  FutureWarning\n"
          ]
        },
        {
          "output_type": "execute_result",
          "data": {
            "text/plain": [
              "<matplotlib.axes._subplots.AxesSubplot at 0x7f1f132675d0>"
            ]
          },
          "metadata": {},
          "execution_count": 13
        },
        {
          "output_type": "display_data",
          "data": {
            "text/plain": [
              "<Figure size 1224x360 with 1 Axes>"
            ],
            "image/png": "[encoded data removed]"
          },
          "metadata": {
            "needs_background": "light"
          }
        }
      ]
    },
    {
      "cell_type": "code",
      "source": [
        "# amount of approved credit loaners based on target\n",
        "plt.figure(figsize=(17,5))\n",
        "plt.scatter(DATA_TRAIN['APPROVED_CREDIT'], DATA_TRAIN['TARGET'])"
      ],
      "metadata": {
        "colab": {
          "base_uri": "https://localhost:8080/"
        },
        "id": "FUOR7egMp9Xn",
        "outputId": "d8208f77-85b1-47c6-933e-1ffd11467ac2"
      },
      "execution_count": null,
      "outputs": [
        {
          "output_type": "execute_result",
          "data": {
            "text/plain": [
              "<matplotlib.collections.PathCollection at 0x7f1f131ea150>"
            ]
          },
          "metadata": {},
          "execution_count": 14
        },
        {
          "output_type": "display_data",
          "data": {
            "text/plain": [
              "<Figure size 1224x360 with 1 Axes>"
            ],
            "image/png": "[encoded data removed]"
          },
          "metadata": {
            "needs_background": "light"
          }
        }
      ]
    },
    {
      "cell_type": "code",
      "source": [
        "FE_AC = pd.DataFrame(columns=['is_approved_credit_less_than_600k'])\n",
        "DATA_TRAIN = pd.concat([DATA_TRAIN, FE_AC])\n",
        "\n",
        "for i in DATA_TRAIN.index:\n",
        "    value = DATA_TRAIN['APPROVED_CREDIT'][i]\n",
        "    if value < DATA_TRAIN['APPROVED_CREDIT'].mean() and value > DATA_TRAIN['APPROVED_CREDIT'].min():\n",
        "        DATA_TRAIN['is_approved_credit_less_than_600k'][i] = 1\n",
        "    else:\n",
        "        DATA_TRAIN['is_approved_credit_less_than_600k'][i] = 0\n",
        "\n",
        "DATA_TRAIN['is_approved_credit_less_than_600k'] = DATA_TRAIN['is_approved_credit_less_than_600k'].astype('int')\n",
        "DATA_TRAIN.head()"
      ],
      "metadata": {
        "colab": {
          "base_uri": "https://localhost:8080/"
        },
        "id": "AZmezA3Rih2H",
        "outputId": "e842fb9b-3558-4701-f71d-a882ab6c4a94"
      },
      "execution_count": null,
      "outputs": [
        {
          "output_type": "stream",
          "name": "stderr",
          "text": [
            "/usr/local/lib/python3.7/dist-packages/ipykernel_launcher.py:7: SettingWithCopyWarning: \n",
            "A value is trying to be set on a copy of a slice from a DataFrame\n",
            "\n",
            "See the caveats in the documentation: https://pandas.pydata.org/pandas-docs/stable/user_guide/indexing.html#returning-a-view-versus-a-copy\n",
            "  import sys\n",
            "/usr/local/lib/python3.7/dist-packages/ipykernel_launcher.py:9: SettingWithCopyWarning: \n",
            "A value is trying to be set on a copy of a slice from a DataFrame\n",
            "\n",
            "See the caveats in the documentation: https://pandas.pydata.org/pandas-docs/stable/user_guide/indexing.html#returning-a-view-versus-a-copy\n",
            "  if __name__ == '__main__':\n"
          ]
        },
        {
          "output_type": "execute_result",
          "data": {
            "text/plain": [
              "   TARGET  CONTRACT_TYPE  GENDER  NUM_CHILDREN    INCOME  APPROVED_CREDIT  \\\n",
              "0     0.0            1.0     0.0           1.0   67500.0         202500.0   \n",
              "1     0.0            0.0     0.0           1.0  202500.0         976711.5   \n",
              "2     0.0            0.0     0.0           0.0  180000.0         407520.0   \n",
              "3     0.0            0.0     1.0           0.0  225000.0         808650.0   \n",
              "4     0.0            1.0     1.0           0.0  135000.0         180000.0   \n",
              "\n",
              "   ANNUITY     PRICE  INCOME_TYPE  EDUCATION  FAMILY_STATUS  HOUSING_TYPE  \\\n",
              "0  10125.0  202500.0          6.0        4.0            1.0           5.0   \n",
              "1  49869.0  873000.0          1.0        4.0            1.0           1.0   \n",
              "2  25060.5  360000.0          2.0        4.0            1.0           1.0   \n",
              "3  26086.5  675000.0          3.0        1.0            1.0           1.0   \n",
              "4   9000.0  180000.0          1.0        4.0            3.0           1.0   \n",
              "\n",
              "   DAYS_AGE  DAYS_WORK  DAYS_REGISTRATION  DAYS_ID_CHANGE  WEEKDAYS_APPLY  \\\n",
              "0  -11539.0     -921.0             -119.0         -2757.0             5.0   \n",
              "1  -15743.0    -4482.0            -1797.0         -2455.0             5.0   \n",
              "2  -20775.0   365243.0            -8737.0         -4312.0             4.0   \n",
              "3  -20659.0   -10455.0            -4998.0         -4010.0             6.0   \n",
              "4   -9013.0    -1190.0            -3524.0         -1644.0             3.0   \n",
              "\n",
              "   HOUR_APPLY  ORGANIZATION_TYPE  is_approved_credit_less_than_600k  \n",
              "0        18.0                5.0                                  1  \n",
              "1        14.0               34.0                                  0  \n",
              "2        14.0               33.0                                  1  \n",
              "3        10.0                8.0                                  0  \n",
              "4        11.0                7.0                                  1  "
            ],
            "text/html": [
              "\n",
              "  <div id=\"df-97b1eabd-8637-4ea0-859d-bd40ad2e4a52\">\n",
              "    <div class=\"colab-df-container\">\n",
              "      <div>\n",
              "<style scoped>\n",
              "    .dataframe tbody tr th:only-of-type {\n",
              "        vertical-align: middle;\n",
              "    }\n",
              "\n",
              "    .dataframe tbody tr th {\n",
              "        vertical-align: top;\n",
              "    }\n",
              "\n",
              "    .dataframe thead th {\n",
              "        text-align: right;\n",
              "    }\n",
              "</style>\n",
              "<table border=\"1\" class=\"dataframe\">\n",
              "  <thead>\n",
              "    <tr style=\"text-align: right;\">\n",
              "      <th></th>\n",
              "      <th>TARGET</th>\n",
              "      <th>CONTRACT_TYPE</th>\n",
              "      <th>GENDER</th>\n",
              "      <th>NUM_CHILDREN</th>\n",
              "      <th>INCOME</th>\n",
              "      <th>APPROVED_CREDIT</th>\n",
              "      <th>ANNUITY</th>\n",
              "      <th>PRICE</th>\n",
              "      <th>INCOME_TYPE</th>\n",
              "      <th>EDUCATION</th>\n",
              "      <th>FAMILY_STATUS</th>\n",
              "      <th>HOUSING_TYPE</th>\n",
              "      <th>DAYS_AGE</th>\n",
              "      <th>DAYS_WORK</th>\n",
              "      <th>DAYS_REGISTRATION</th>\n",
              "      <th>DAYS_ID_CHANGE</th>\n",
              "      <th>WEEKDAYS_APPLY</th>\n",
              "      <th>HOUR_APPLY</th>\n",
              "      <th>ORGANIZATION_TYPE</th>\n",
              "      <th>is_approved_credit_less_than_600k</th>\n",
              "    </tr>\n",
              "  </thead>\n",
              "  <tbody>\n",
              "    <tr>\n",
              "      <th>0</th>\n",
              "      <td>0.0</td>\n",
              "      <td>1.0</td>\n",
              "      <td>0.0</td>\n",
              "      <td>1.0</td>\n",
              "      <td>67500.0</td>\n",
              "      <td>202500.0</td>\n",
              "      <td>10125.0</td>\n",
              "      <td>202500.0</td>\n",
              "      <td>6.0</td>\n",
              "      <td>4.0</td>\n",
              "      <td>1.0</td>\n",
              "      <td>5.0</td>\n",
              "      <td>-11539.0</td>\n",
              "      <td>-921.0</td>\n",
              "      <td>-119.0</td>\n",
              "      <td>-2757.0</td>\n",
              "      <td>5.0</td>\n",
              "      <td>18.0</td>\n",
              "      <td>5.0</td>\n",
              "      <td>1</td>\n",
              "    </tr>\n",
              "    <tr>\n",
              "      <th>1</th>\n",
              "      <td>0.0</td>\n",
              "      <td>0.0</td>\n",
              "      <td>0.0</td>\n",
              "      <td>1.0</td>\n",
              "      <td>202500.0</td>\n",
              "      <td>976711.5</td>\n",
              "      <td>49869.0</td>\n",
              "      <td>873000.0</td>\n",
              "      <td>1.0</td>\n",
              "      <td>4.0</td>\n",
              "      <td>1.0</td>\n",
              "      <td>1.0</td>\n",
              "      <td>-15743.0</td>\n",
              "      <td>-4482.0</td>\n",
              "      <td>-1797.0</td>\n",
              "      <td>-2455.0</td>\n",
              "      <td>5.0</td>\n",
              "      <td>14.0</td>\n",
              "      <td>34.0</td>\n",
              "      <td>0</td>\n",
              "    </tr>\n",
              "    <tr>\n",
              "      <th>2</th>\n",
              "      <td>0.0</td>\n",
              "      <td>0.0</td>\n",
              "      <td>0.0</td>\n",
              "      <td>0.0</td>\n",
              "      <td>180000.0</td>\n",
              "      <td>407520.0</td>\n",
              "      <td>25060.5</td>\n",
              "      <td>360000.0</td>\n",
              "      <td>2.0</td>\n",
              "      <td>4.0</td>\n",
              "      <td>1.0</td>\n",
              "      <td>1.0</td>\n",
              "      <td>-20775.0</td>\n",
              "      <td>365243.0</td>\n",
              "      <td>-8737.0</td>\n",
              "      <td>-4312.0</td>\n",
              "      <td>4.0</td>\n",
              "      <td>14.0</td>\n",
              "      <td>33.0</td>\n",
              "      <td>1</td>\n",
              "    </tr>\n",
              "    <tr>\n",
              "      <th>3</th>\n",
              "      <td>0.0</td>\n",
              "      <td>0.0</td>\n",
              "      <td>1.0</td>\n",
              "      <td>0.0</td>\n",
              "      <td>225000.0</td>\n",
              "      <td>808650.0</td>\n",
              "      <td>26086.5</td>\n",
              "      <td>675000.0</td>\n",
              "      <td>3.0</td>\n",
              "      <td>1.0</td>\n",
              "      <td>1.0</td>\n",
              "      <td>1.0</td>\n",
              "      <td>-20659.0</td>\n",
              "      <td>-10455.0</td>\n",
              "      <td>-4998.0</td>\n",
              "      <td>-4010.0</td>\n",
              "      <td>6.0</td>\n",
              "      <td>10.0</td>\n",
              "      <td>8.0</td>\n",
              "      <td>0</td>\n",
              "    </tr>\n",
              "    <tr>\n",
              "      <th>4</th>\n",
              "      <td>0.0</td>\n",
              "      <td>1.0</td>\n",
              "      <td>1.0</td>\n",
              "      <td>0.0</td>\n",
              "      <td>135000.0</td>\n",
              "      <td>180000.0</td>\n",
              "      <td>9000.0</td>\n",
              "      <td>180000.0</td>\n",
              "      <td>1.0</td>\n",
              "      <td>4.0</td>\n",
              "      <td>3.0</td>\n",
              "      <td>1.0</td>\n",
              "      <td>-9013.0</td>\n",
              "      <td>-1190.0</td>\n",
              "      <td>-3524.0</td>\n",
              "      <td>-1644.0</td>\n",
              "      <td>3.0</td>\n",
              "      <td>11.0</td>\n",
              "      <td>7.0</td>\n",
              "      <td>1</td>\n",
              "    </tr>\n",
              "  </tbody>\n",
              "</table>\n",
              "</div>\n",
              "      <button class=\"colab-df-convert\" onclick=\"convertToInteractive('df-97b1eabd-8637-4ea0-859d-bd40ad2e4a52')\"\n",
              "              title=\"Convert this dataframe to an interactive table.\"\n",
              "              style=\"display:none;\">\n",
              "        \n",
              "  <svg xmlns=\"http://www.w3.org/2000/svg\" height=\"24px\"viewBox=\"0 0 24 24\"\n",
              "       width=\"24px\">\n",
              "    <path d=\"M0 0h24v24H0V0z\" fill=\"none\"/>\n",
              "    <path d=\"M18.56 5.44l.94 2.06.94-2.06 2.06-.94-2.06-.94-.94-2.06-.94 2.06-2.06.94zm-11 1L8.5 8.5l.94-2.06 2.06-.94-2.06-.94L8.5 2.5l-.94 2.06-2.06.94zm10 10l.94 2.06.94-2.06 2.06-.94-2.06-.94-.94-2.06-.94 2.06-2.06.94z\"/><path d=\"M17.41 7.96l-1.37-1.37c-.4-.4-.92-.59-1.43-.59-.52 0-1.04.2-1.43.59L10.3 9.45l-7.72 7.72c-.78.78-.78 2.05 0 2.83L4 21.41c.39.39.9.59 1.41.59.51 0 1.02-.2 1.41-.59l7.78-7.78 2.81-2.81c.8-.78.8-2.07 0-2.86zM5.41 20L4 18.59l7.72-7.72 1.47 1.35L5.41 20z\"/>\n",
              "  </svg>\n",
              "      </button>\n",
              "      \n",
              "  <style>\n",
              "    .colab-df-container {\n",
              "      display:flex;\n",
              "      flex-wrap:wrap;\n",
              "      gap: 12px;\n",
              "    }\n",
              "\n",
              "    .colab-df-convert {\n",
              "      background-color: #E8F0FE;\n",
              "      border: none;\n",
              "      border-radius: 50%;\n",
              "      cursor: pointer;\n",
              "      display: none;\n",
              "      fill: #1967D2;\n",
              "      height: 32px;\n",
              "      padding: 0 0 0 0;\n",
              "      width: 32px;\n",
              "    }\n",
              "\n",
              "    .colab-df-convert:hover {\n",
              "      background-color: #E2EBFA;\n",
              "      box-shadow: 0px 1px 2px rgba(60, 64, 67, 0.3), 0px 1px 3px 1px rgba(60, 64, 67, 0.15);\n",
              "      fill: #174EA6;\n",
              "    }\n",
              "\n",
              "    [theme=dark] .colab-df-convert {\n",
              "      background-color: #3B4455;\n",
              "      fill: #D2E3FC;\n",
              "    }\n",
              "\n",
              "    [theme=dark] .colab-df-convert:hover {\n",
              "      background-color: #434B5C;\n",
              "      box-shadow: 0px 1px 3px 1px rgba(0, 0, 0, 0.15);\n",
              "      filter: drop-shadow(0px 1px 2px rgba(0, 0, 0, 0.3));\n",
              "      fill: #FFFFFF;\n",
              "    }\n",
              "  </style>\n",
              "\n",
              "      <script>\n",
              "        const buttonEl =\n",
              "          document.querySelector('#df-97b1eabd-8637-4ea0-859d-bd40ad2e4a52 button.colab-df-convert');\n",
              "        buttonEl.style.display =\n",
              "          google.colab.kernel.accessAllowed ? 'block' : 'none';\n",
              "\n",
              "        async function convertToInteractive(key) {\n",
              "          const element = document.querySelector('#df-97b1eabd-8637-4ea0-859d-bd40ad2e4a52');\n",
              "          const dataTable =\n",
              "            await google.colab.kernel.invokeFunction('convertToInteractive',\n",
              "                                                     [key], {});\n",
              "          if (!dataTable) return;\n",
              "\n",
              "          const docLinkHtml = 'Like what you see? Visit the ' +\n",
              "            '<a target=\"_blank\" href=https://colab.research.google.com/notebooks/data_table.ipynb>data table notebook</a>'\n",
              "            + ' to learn more about interactive tables.';\n",
              "          element.innerHTML = '';\n",
              "          dataTable['output_type'] = 'display_data';\n",
              "          await google.colab.output.renderOutput(dataTable, element);\n",
              "          const docLink = document.createElement('div');\n",
              "          docLink.innerHTML = docLinkHtml;\n",
              "          element.appendChild(docLink);\n",
              "        }\n",
              "      </script>\n",
              "    </div>\n",
              "  </div>\n",
              "  "
            ]
          },
          "metadata": {},
          "execution_count": 15
        }
      ]
    },
    {
      "cell_type": "markdown",
      "source": [
        "#### PRICE\n",
        "\n",
        "note : i did some feature engineering too same as approved credit because this feature was correlating with approved credit."
      ],
      "metadata": {
        "id": "bnEzL6r4j_5X"
      }
    },
    {
      "cell_type": "code",
      "source": [
        "print('maximum price :',DATA_TRAIN['PRICE'].max())\n",
        "print('minimum price :',DATA_TRAIN['PRICE'].min())\n",
        "print('mean price :', DATA_TRAIN['PRICE'].mean())\n",
        "print('nan value :', DATA_TRAIN['PRICE'].isna().sum())"
      ],
      "metadata": {
        "colab": {
          "base_uri": "https://localhost:8080/"
        },
        "id": "R5k9hiE7kF6c",
        "outputId": "60f80877-e264-4702-c32b-a9cb58d996e9"
      },
      "execution_count": null,
      "outputs": [
        {
          "output_type": "stream",
          "name": "stdout",
          "text": [
            "maximum price : 4050000.0\n",
            "minimum price : 45000.0\n",
            "mean price : 536903.3198108755\n",
            "nan value : 62\n"
          ]
        }
      ]
    },
    {
      "cell_type": "code",
      "source": [
        "# amount of price loaners on data\n",
        "plt.figure(figsize=(17,5))\n",
        "sns.boxplot(DATA_TRAIN['PRICE'])"
      ],
      "metadata": {
        "colab": {
          "base_uri": "https://localhost:8080/"
        },
        "id": "7ghN_fZqkTBV",
        "outputId": "6767f355-5a2a-42f0-8282-061beecb1f27"
      },
      "execution_count": null,
      "outputs": [
        {
          "output_type": "stream",
          "name": "stderr",
          "text": [
            "/usr/local/lib/python3.7/dist-packages/seaborn/_decorators.py:43: FutureWarning: Pass the following variable as a keyword arg: x. From version 0.12, the only valid positional argument will be `data`, and passing other arguments without an explicit keyword will result in an error or misinterpretation.\n",
            "  FutureWarning\n"
          ]
        },
        {
          "output_type": "execute_result",
          "data": {
            "text/plain": [
              "<matplotlib.axes._subplots.AxesSubplot at 0x7f1f13245450>"
            ]
          },
          "metadata": {},
          "execution_count": 17
        },
        {
          "output_type": "display_data",
          "data": {
            "text/plain": [
              "<Figure size 1224x360 with 1 Axes>"
            ],
            "image/png": "[encoded data removed]"
          },
          "metadata": {
            "needs_background": "light"
          }
        }
      ]
    },
    {
      "cell_type": "code",
      "source": [
        "# amount of price loaners based on target\n",
        "plt.figure(figsize=(17,5))\n",
        "plt.scatter(DATA_TRAIN['PRICE'], DATA_TRAIN['TARGET'])"
      ],
      "metadata": {
        "colab": {
          "base_uri": "https://localhost:8080/"
        },
        "id": "5n0zxIVXqvct",
        "outputId": "c986cfb1-e0bc-465c-b8a5-6003a3c845c7"
      },
      "execution_count": null,
      "outputs": [
        {
          "output_type": "execute_result",
          "data": {
            "text/plain": [
              "<matplotlib.collections.PathCollection at 0x7f1f1309c2d0>"
            ]
          },
          "metadata": {},
          "execution_count": 18
        },
        {
          "output_type": "display_data",
          "data": {
            "text/plain": [
              "<Figure size 1224x360 with 1 Axes>"
            ],
            "image/png": "[encoded data removed]"
          },
          "metadata": {
            "needs_background": "light"
          }
        }
      ]
    },
    {
      "cell_type": "code",
      "source": [
        "FE_P = pd.DataFrame(columns=['is_price_less_than_600k'])\n",
        "DATA_TRAIN = pd.concat([DATA_TRAIN, FE_P])\n",
        "\n",
        "for i in DATA_TRAIN.index:\n",
        "    value = DATA_TRAIN['PRICE'][i]\n",
        "    if value < DATA_TRAIN['PRICE'].mean() and value > DATA_TRAIN['PRICE'].min():\n",
        "        DATA_TRAIN['is_price_less_than_600k'][i] = 1\n",
        "    else:\n",
        "        DATA_TRAIN['is_price_less_than_600k'][i] = 0\n",
        "\n",
        "DATA_TRAIN['is_price_less_than_600k'] = DATA_TRAIN['is_price_less_than_600k'].astype('int')\n",
        "DATA_TRAIN.head()"
      ],
      "metadata": {
        "colab": {
          "base_uri": "https://localhost:8080/"
        },
        "id": "eoWiv77wlUyN",
        "outputId": "9fb99f41-ff28-476f-a6da-c1215dace181"
      },
      "execution_count": null,
      "outputs": [
        {
          "output_type": "stream",
          "name": "stderr",
          "text": [
            "/usr/local/lib/python3.7/dist-packages/ipykernel_launcher.py:7: SettingWithCopyWarning: \n",
            "A value is trying to be set on a copy of a slice from a DataFrame\n",
            "\n",
            "See the caveats in the documentation: https://pandas.pydata.org/pandas-docs/stable/user_guide/indexing.html#returning-a-view-versus-a-copy\n",
            "  import sys\n",
            "/usr/local/lib/python3.7/dist-packages/ipykernel_launcher.py:9: SettingWithCopyWarning: \n",
            "A value is trying to be set on a copy of a slice from a DataFrame\n",
            "\n",
            "See the caveats in the documentation: https://pandas.pydata.org/pandas-docs/stable/user_guide/indexing.html#returning-a-view-versus-a-copy\n",
            "  if __name__ == '__main__':\n"
          ]
        },
        {
          "output_type": "execute_result",
          "data": {
            "text/plain": [
              "   TARGET  CONTRACT_TYPE  GENDER  NUM_CHILDREN    INCOME  APPROVED_CREDIT  \\\n",
              "0     0.0            1.0     0.0           1.0   67500.0         202500.0   \n",
              "1     0.0            0.0     0.0           1.0  202500.0         976711.5   \n",
              "2     0.0            0.0     0.0           0.0  180000.0         407520.0   \n",
              "3     0.0            0.0     1.0           0.0  225000.0         808650.0   \n",
              "4     0.0            1.0     1.0           0.0  135000.0         180000.0   \n",
              "\n",
              "   ANNUITY     PRICE  INCOME_TYPE  EDUCATION  ...  HOUSING_TYPE  DAYS_AGE  \\\n",
              "0  10125.0  202500.0          6.0        4.0  ...           5.0  -11539.0   \n",
              "1  49869.0  873000.0          1.0        4.0  ...           1.0  -15743.0   \n",
              "2  25060.5  360000.0          2.0        4.0  ...           1.0  -20775.0   \n",
              "3  26086.5  675000.0          3.0        1.0  ...           1.0  -20659.0   \n",
              "4   9000.0  180000.0          1.0        4.0  ...           1.0   -9013.0   \n",
              "\n",
              "   DAYS_WORK  DAYS_REGISTRATION  DAYS_ID_CHANGE  WEEKDAYS_APPLY  HOUR_APPLY  \\\n",
              "0     -921.0             -119.0         -2757.0             5.0        18.0   \n",
              "1    -4482.0            -1797.0         -2455.0             5.0        14.0   \n",
              "2   365243.0            -8737.0         -4312.0             4.0        14.0   \n",
              "3   -10455.0            -4998.0         -4010.0             6.0        10.0   \n",
              "4    -1190.0            -3524.0         -1644.0             3.0        11.0   \n",
              "\n",
              "   ORGANIZATION_TYPE  is_approved_credit_less_than_600k  \\\n",
              "0                5.0                                1.0   \n",
              "1               34.0                                0.0   \n",
              "2               33.0                                1.0   \n",
              "3                8.0                                0.0   \n",
              "4                7.0                                1.0   \n",
              "\n",
              "   is_price_less_than_600k  \n",
              "0                        1  \n",
              "1                        0  \n",
              "2                        1  \n",
              "3                        0  \n",
              "4                        1  \n",
              "\n",
              "[5 rows x 21 columns]"
            ],
            "text/html": [
              "\n",
              "  <div id=\"df-07865448-1cce-413d-81bc-62e5ed85ca4f\">\n",
              "    <div class=\"colab-df-container\">\n",
              "      <div>\n",
              "<style scoped>\n",
              "    .dataframe tbody tr th:only-of-type {\n",
              "        vertical-align: middle;\n",
              "    }\n",
              "\n",
              "    .dataframe tbody tr th {\n",
              "        vertical-align: top;\n",
              "    }\n",
              "\n",
              "    .dataframe thead th {\n",
              "        text-align: right;\n",
              "    }\n",
              "</style>\n",
              "<table border=\"1\" class=\"dataframe\">\n",
              "  <thead>\n",
              "    <tr style=\"text-align: right;\">\n",
              "      <th></th>\n",
              "      <th>TARGET</th>\n",
              "      <th>CONTRACT_TYPE</th>\n",
              "      <th>GENDER</th>\n",
              "      <th>NUM_CHILDREN</th>\n",
              "      <th>INCOME</th>\n",
              "      <th>APPROVED_CREDIT</th>\n",
              "      <th>ANNUITY</th>\n",
              "      <th>PRICE</th>\n",
              "      <th>INCOME_TYPE</th>\n",
              "      <th>EDUCATION</th>\n",
              "      <th>...</th>\n",
              "      <th>HOUSING_TYPE</th>\n",
              "      <th>DAYS_AGE</th>\n",
              "      <th>DAYS_WORK</th>\n",
              "      <th>DAYS_REGISTRATION</th>\n",
              "      <th>DAYS_ID_CHANGE</th>\n",
              "      <th>WEEKDAYS_APPLY</th>\n",
              "      <th>HOUR_APPLY</th>\n",
              "      <th>ORGANIZATION_TYPE</th>\n",
              "      <th>is_approved_credit_less_than_600k</th>\n",
              "      <th>is_price_less_than_600k</th>\n",
              "    </tr>\n",
              "  </thead>\n",
              "  <tbody>\n",
              "    <tr>\n",
              "      <th>0</th>\n",
              "      <td>0.0</td>\n",
              "      <td>1.0</td>\n",
              "      <td>0.0</td>\n",
              "      <td>1.0</td>\n",
              "      <td>67500.0</td>\n",
              "      <td>202500.0</td>\n",
              "      <td>10125.0</td>\n",
              "      <td>202500.0</td>\n",
              "      <td>6.0</td>\n",
              "      <td>4.0</td>\n",
              "      <td>...</td>\n",
              "      <td>5.0</td>\n",
              "      <td>-11539.0</td>\n",
              "      <td>-921.0</td>\n",
              "      <td>-119.0</td>\n",
              "      <td>-2757.0</td>\n",
              "      <td>5.0</td>\n",
              "      <td>18.0</td>\n",
              "      <td>5.0</td>\n",
              "      <td>1.0</td>\n",
              "      <td>1</td>\n",
              "    </tr>\n",
              "    <tr>\n",
              "      <th>1</th>\n",
              "      <td>0.0</td>\n",
              "      <td>0.0</td>\n",
              "      <td>0.0</td>\n",
              "      <td>1.0</td>\n",
              "      <td>202500.0</td>\n",
              "      <td>976711.5</td>\n",
              "      <td>49869.0</td>\n",
              "      <td>873000.0</td>\n",
              "      <td>1.0</td>\n",
              "      <td>4.0</td>\n",
              "      <td>...</td>\n",
              "      <td>1.0</td>\n",
              "      <td>-15743.0</td>\n",
              "      <td>-4482.0</td>\n",
              "      <td>-1797.0</td>\n",
              "      <td>-2455.0</td>\n",
              "      <td>5.0</td>\n",
              "      <td>14.0</td>\n",
              "      <td>34.0</td>\n",
              "      <td>0.0</td>\n",
              "      <td>0</td>\n",
              "    </tr>\n",
              "    <tr>\n",
              "      <th>2</th>\n",
              "      <td>0.0</td>\n",
              "      <td>0.0</td>\n",
              "      <td>0.0</td>\n",
              "      <td>0.0</td>\n",
              "      <td>180000.0</td>\n",
              "      <td>407520.0</td>\n",
              "      <td>25060.5</td>\n",
              "      <td>360000.0</td>\n",
              "      <td>2.0</td>\n",
              "      <td>4.0</td>\n",
              "      <td>...</td>\n",
              "      <td>1.0</td>\n",
              "      <td>-20775.0</td>\n",
              "      <td>365243.0</td>\n",
              "      <td>-8737.0</td>\n",
              "      <td>-4312.0</td>\n",
              "      <td>4.0</td>\n",
              "      <td>14.0</td>\n",
              "      <td>33.0</td>\n",
              "      <td>1.0</td>\n",
              "      <td>1</td>\n",
              "    </tr>\n",
              "    <tr>\n",
              "      <th>3</th>\n",
              "      <td>0.0</td>\n",
              "      <td>0.0</td>\n",
              "      <td>1.0</td>\n",
              "      <td>0.0</td>\n",
              "      <td>225000.0</td>\n",
              "      <td>808650.0</td>\n",
              "      <td>26086.5</td>\n",
              "      <td>675000.0</td>\n",
              "      <td>3.0</td>\n",
              "      <td>1.0</td>\n",
              "      <td>...</td>\n",
              "      <td>1.0</td>\n",
              "      <td>-20659.0</td>\n",
              "      <td>-10455.0</td>\n",
              "      <td>-4998.0</td>\n",
              "      <td>-4010.0</td>\n",
              "      <td>6.0</td>\n",
              "      <td>10.0</td>\n",
              "      <td>8.0</td>\n",
              "      <td>0.0</td>\n",
              "      <td>0</td>\n",
              "    </tr>\n",
              "    <tr>\n",
              "      <th>4</th>\n",
              "      <td>0.0</td>\n",
              "      <td>1.0</td>\n",
              "      <td>1.0</td>\n",
              "      <td>0.0</td>\n",
              "      <td>135000.0</td>\n",
              "      <td>180000.0</td>\n",
              "      <td>9000.0</td>\n",
              "      <td>180000.0</td>\n",
              "      <td>1.0</td>\n",
              "      <td>4.0</td>\n",
              "      <td>...</td>\n",
              "      <td>1.0</td>\n",
              "      <td>-9013.0</td>\n",
              "      <td>-1190.0</td>\n",
              "      <td>-3524.0</td>\n",
              "      <td>-1644.0</td>\n",
              "      <td>3.0</td>\n",
              "      <td>11.0</td>\n",
              "      <td>7.0</td>\n",
              "      <td>1.0</td>\n",
              "      <td>1</td>\n",
              "    </tr>\n",
              "  </tbody>\n",
              "</table>\n",
              "<p>5 rows × 21 columns</p>\n",
              "</div>\n",
              "      <button class=\"colab-df-convert\" onclick=\"convertToInteractive('df-07865448-1cce-413d-81bc-62e5ed85ca4f')\"\n",
              "              title=\"Convert this dataframe to an interactive table.\"\n",
              "              style=\"display:none;\">\n",
              "        \n",
              "  <svg xmlns=\"http://www.w3.org/2000/svg\" height=\"24px\"viewBox=\"0 0 24 24\"\n",
              "       width=\"24px\">\n",
              "    <path d=\"M0 0h24v24H0V0z\" fill=\"none\"/>\n",
              "    <path d=\"M18.56 5.44l.94 2.06.94-2.06 2.06-.94-2.06-.94-.94-2.06-.94 2.06-2.06.94zm-11 1L8.5 8.5l.94-2.06 2.06-.94-2.06-.94L8.5 2.5l-.94 2.06-2.06.94zm10 10l.94 2.06.94-2.06 2.06-.94-2.06-.94-.94-2.06-.94 2.06-2.06.94z\"/><path d=\"M17.41 7.96l-1.37-1.37c-.4-.4-.92-.59-1.43-.59-.52 0-1.04.2-1.43.59L10.3 9.45l-7.72 7.72c-.78.78-.78 2.05 0 2.83L4 21.41c.39.39.9.59 1.41.59.51 0 1.02-.2 1.41-.59l7.78-7.78 2.81-2.81c.8-.78.8-2.07 0-2.86zM5.41 20L4 18.59l7.72-7.72 1.47 1.35L5.41 20z\"/>\n",
              "  </svg>\n",
              "      </button>\n",
              "      \n",
              "  <style>\n",
              "    .colab-df-container {\n",
              "      display:flex;\n",
              "      flex-wrap:wrap;\n",
              "      gap: 12px;\n",
              "    }\n",
              "\n",
              "    .colab-df-convert {\n",
              "      background-color: #E8F0FE;\n",
              "      border: none;\n",
              "      border-radius: 50%;\n",
              "      cursor: pointer;\n",
              "      display: none;\n",
              "      fill: #1967D2;\n",
              "      height: 32px;\n",
              "      padding: 0 0 0 0;\n",
              "      width: 32px;\n",
              "    }\n",
              "\n",
              "    .colab-df-convert:hover {\n",
              "      background-color: #E2EBFA;\n",
              "      box-shadow: 0px 1px 2px rgba(60, 64, 67, 0.3), 0px 1px 3px 1px rgba(60, 64, 67, 0.15);\n",
              "      fill: #174EA6;\n",
              "    }\n",
              "\n",
              "    [theme=dark] .colab-df-convert {\n",
              "      background-color: #3B4455;\n",
              "      fill: #D2E3FC;\n",
              "    }\n",
              "\n",
              "    [theme=dark] .colab-df-convert:hover {\n",
              "      background-color: #434B5C;\n",
              "      box-shadow: 0px 1px 3px 1px rgba(0, 0, 0, 0.15);\n",
              "      filter: drop-shadow(0px 1px 2px rgba(0, 0, 0, 0.3));\n",
              "      fill: #FFFFFF;\n",
              "    }\n",
              "  </style>\n",
              "\n",
              "      <script>\n",
              "        const buttonEl =\n",
              "          document.querySelector('#df-07865448-1cce-413d-81bc-62e5ed85ca4f button.colab-df-convert');\n",
              "        buttonEl.style.display =\n",
              "          google.colab.kernel.accessAllowed ? 'block' : 'none';\n",
              "\n",
              "        async function convertToInteractive(key) {\n",
              "          const element = document.querySelector('#df-07865448-1cce-413d-81bc-62e5ed85ca4f');\n",
              "          const dataTable =\n",
              "            await google.colab.kernel.invokeFunction('convertToInteractive',\n",
              "                                                     [key], {});\n",
              "          if (!dataTable) return;\n",
              "\n",
              "          const docLinkHtml = 'Like what you see? Visit the ' +\n",
              "            '<a target=\"_blank\" href=https://colab.research.google.com/notebooks/data_table.ipynb>data table notebook</a>'\n",
              "            + ' to learn more about interactive tables.';\n",
              "          element.innerHTML = '';\n",
              "          dataTable['output_type'] = 'display_data';\n",
              "          await google.colab.output.renderOutput(dataTable, element);\n",
              "          const docLink = document.createElement('div');\n",
              "          docLink.innerHTML = docLinkHtml;\n",
              "          element.appendChild(docLink);\n",
              "        }\n",
              "      </script>\n",
              "    </div>\n",
              "  </div>\n",
              "  "
            ]
          },
          "metadata": {},
          "execution_count": 19
        }
      ]
    },
    {
      "cell_type": "markdown",
      "source": [
        "#### ANNUITY\n",
        "\n",
        "note : i did some feature engineering to made a distinguish between user who have annuity less than 27k"
      ],
      "metadata": {
        "id": "QhwDOznIi-P0"
      }
    },
    {
      "cell_type": "code",
      "source": [
        "print('maximum annuity :',DATA_TRAIN['ANNUITY'].max())\n",
        "print('minimum annuity :',DATA_TRAIN['ANNUITY'].min())\n",
        "print('mean annuity :', DATA_TRAIN['ANNUITY'].mean())\n",
        "print('nan value :', DATA_TRAIN['ANNUITY'].isna().sum())"
      ],
      "metadata": {
        "colab": {
          "base_uri": "https://localhost:8080/"
        },
        "id": "bMq-q8pWjGX3",
        "outputId": "4cb379e5-b2c2-438e-f598-07259937297c"
      },
      "execution_count": null,
      "outputs": [
        {
          "output_type": "stream",
          "name": "stdout",
          "text": [
            "maximum annuity : 258025.5\n",
            "minimum annuity : 2164.5\n",
            "mean annuity : 27083.323314688954\n",
            "nan value : 1\n"
          ]
        }
      ]
    },
    {
      "cell_type": "code",
      "source": [
        "# amount of annuity loaners on data\n",
        "plt.figure(figsize=(17,5))\n",
        "sns.boxplot(DATA_TRAIN['ANNUITY'])"
      ],
      "metadata": {
        "colab": {
          "base_uri": "https://localhost:8080/"
        },
        "id": "VU3OI1N2i8mK",
        "outputId": "3c0bc710-277a-4f47-8654-2a3a1fa7f681"
      },
      "execution_count": null,
      "outputs": [
        {
          "output_type": "stream",
          "name": "stderr",
          "text": [
            "/usr/local/lib/python3.7/dist-packages/seaborn/_decorators.py:43: FutureWarning: Pass the following variable as a keyword arg: x. From version 0.12, the only valid positional argument will be `data`, and passing other arguments without an explicit keyword will result in an error or misinterpretation.\n",
            "  FutureWarning\n"
          ]
        },
        {
          "output_type": "execute_result",
          "data": {
            "text/plain": [
              "<matplotlib.axes._subplots.AxesSubplot at 0x7f1f130ed650>"
            ]
          },
          "metadata": {},
          "execution_count": 21
        },
        {
          "output_type": "display_data",
          "data": {
            "text/plain": [
              "<Figure size 1224x360 with 1 Axes>"
            ],
            "image/png": "[encoded data removed]"
          },
          "metadata": {
            "needs_background": "light"
          }
        }
      ]
    },
    {
      "cell_type": "code",
      "source": [
        "# amount of annuity loaners based on target\n",
        "plt.figure(figsize=(17,5))\n",
        "plt.scatter(DATA_TRAIN['ANNUITY'], DATA_TRAIN['TARGET'])"
      ],
      "metadata": {
        "colab": {
          "base_uri": "https://localhost:8080/"
        },
        "id": "qLyjObCZqQeO",
        "outputId": "5650b65c-7f4a-4e93-cc69-852df8b90e60"
      },
      "execution_count": null,
      "outputs": [
        {
          "output_type": "execute_result",
          "data": {
            "text/plain": [
              "<matplotlib.collections.PathCollection at 0x7f1f12f9b8d0>"
            ]
          },
          "metadata": {},
          "execution_count": 22
        },
        {
          "output_type": "display_data",
          "data": {
            "text/plain": [
              "<Figure size 1224x360 with 1 Axes>"
            ],
            "image/png": "[encoded data removed]"
          },
          "metadata": {
            "needs_background": "light"
          }
        }
      ]
    },
    {
      "cell_type": "code",
      "source": [
        "FE_AN = pd.DataFrame(columns=['is_annuity_less_than_27k'])\n",
        "DATA_TRAIN = pd.concat([DATA_TRAIN, FE_AN])\n",
        "\n",
        "for i in DATA_TRAIN.index:\n",
        "    value = DATA_TRAIN['ANNUITY'][i]\n",
        "    if value < DATA_TRAIN['ANNUITY'].mean() and value > DATA_TRAIN['ANNUITY'].min():\n",
        "        DATA_TRAIN['is_annuity_less_than_27k'][i] = 1\n",
        "    else:\n",
        "        DATA_TRAIN['is_annuity_less_than_27k'][i] = 0\n",
        "\n",
        "DATA_TRAIN['is_annuity_less_than_27k'] = DATA_TRAIN['is_annuity_less_than_27k'].astype('int')\n",
        "DATA_TRAIN.head()"
      ],
      "metadata": {
        "colab": {
          "base_uri": "https://localhost:8080/"
        },
        "id": "SKtJeSb6mLcp",
        "outputId": "e3556ec3-dc64-4dbc-b05d-b0df671d4b5a"
      },
      "execution_count": null,
      "outputs": [
        {
          "output_type": "stream",
          "name": "stderr",
          "text": [
            "/usr/local/lib/python3.7/dist-packages/ipykernel_launcher.py:7: SettingWithCopyWarning: \n",
            "A value is trying to be set on a copy of a slice from a DataFrame\n",
            "\n",
            "See the caveats in the documentation: https://pandas.pydata.org/pandas-docs/stable/user_guide/indexing.html#returning-a-view-versus-a-copy\n",
            "  import sys\n",
            "/usr/local/lib/python3.7/dist-packages/ipykernel_launcher.py:9: SettingWithCopyWarning: \n",
            "A value is trying to be set on a copy of a slice from a DataFrame\n",
            "\n",
            "See the caveats in the documentation: https://pandas.pydata.org/pandas-docs/stable/user_guide/indexing.html#returning-a-view-versus-a-copy\n",
            "  if __name__ == '__main__':\n"
          ]
        },
        {
          "output_type": "execute_result",
          "data": {
            "text/plain": [
              "   TARGET  CONTRACT_TYPE  GENDER  NUM_CHILDREN    INCOME  APPROVED_CREDIT  \\\n",
              "0     0.0            1.0     0.0           1.0   67500.0         202500.0   \n",
              "1     0.0            0.0     0.0           1.0  202500.0         976711.5   \n",
              "2     0.0            0.0     0.0           0.0  180000.0         407520.0   \n",
              "3     0.0            0.0     1.0           0.0  225000.0         808650.0   \n",
              "4     0.0            1.0     1.0           0.0  135000.0         180000.0   \n",
              "\n",
              "   ANNUITY     PRICE  INCOME_TYPE  EDUCATION  ...  DAYS_AGE  DAYS_WORK  \\\n",
              "0  10125.0  202500.0          6.0        4.0  ...  -11539.0     -921.0   \n",
              "1  49869.0  873000.0          1.0        4.0  ...  -15743.0    -4482.0   \n",
              "2  25060.5  360000.0          2.0        4.0  ...  -20775.0   365243.0   \n",
              "3  26086.5  675000.0          3.0        1.0  ...  -20659.0   -10455.0   \n",
              "4   9000.0  180000.0          1.0        4.0  ...   -9013.0    -1190.0   \n",
              "\n",
              "   DAYS_REGISTRATION  DAYS_ID_CHANGE  WEEKDAYS_APPLY  HOUR_APPLY  \\\n",
              "0             -119.0         -2757.0             5.0        18.0   \n",
              "1            -1797.0         -2455.0             5.0        14.0   \n",
              "2            -8737.0         -4312.0             4.0        14.0   \n",
              "3            -4998.0         -4010.0             6.0        10.0   \n",
              "4            -3524.0         -1644.0             3.0        11.0   \n",
              "\n",
              "   ORGANIZATION_TYPE  is_approved_credit_less_than_600k  \\\n",
              "0                5.0                                1.0   \n",
              "1               34.0                                0.0   \n",
              "2               33.0                                1.0   \n",
              "3                8.0                                0.0   \n",
              "4                7.0                                1.0   \n",
              "\n",
              "   is_price_less_than_600k  is_annuity_less_than_27k  \n",
              "0                      1.0                         1  \n",
              "1                      0.0                         0  \n",
              "2                      1.0                         1  \n",
              "3                      0.0                         1  \n",
              "4                      1.0                         1  \n",
              "\n",
              "[5 rows x 22 columns]"
            ],
            "text/html": [
              "\n",
              "  <div id=\"df-30a37b1f-cfb4-4fff-ae34-ea415496087d\">\n",
              "    <div class=\"colab-df-container\">\n",
              "      <div>\n",
              "<style scoped>\n",
              "    .dataframe tbody tr th:only-of-type {\n",
              "        vertical-align: middle;\n",
              "    }\n",
              "\n",
              "    .dataframe tbody tr th {\n",
              "        vertical-align: top;\n",
              "    }\n",
              "\n",
              "    .dataframe thead th {\n",
              "        text-align: right;\n",
              "    }\n",
              "</style>\n",
              "<table border=\"1\" class=\"dataframe\">\n",
              "  <thead>\n",
              "    <tr style=\"text-align: right;\">\n",
              "      <th></th>\n",
              "      <th>TARGET</th>\n",
              "      <th>CONTRACT_TYPE</th>\n",
              "      <th>GENDER</th>\n",
              "      <th>NUM_CHILDREN</th>\n",
              "      <th>INCOME</th>\n",
              "      <th>APPROVED_CREDIT</th>\n",
              "      <th>ANNUITY</th>\n",
              "      <th>PRICE</th>\n",
              "      <th>INCOME_TYPE</th>\n",
              "      <th>EDUCATION</th>\n",
              "      <th>...</th>\n",
              "      <th>DAYS_AGE</th>\n",
              "      <th>DAYS_WORK</th>\n",
              "      <th>DAYS_REGISTRATION</th>\n",
              "      <th>DAYS_ID_CHANGE</th>\n",
              "      <th>WEEKDAYS_APPLY</th>\n",
              "      <th>HOUR_APPLY</th>\n",
              "      <th>ORGANIZATION_TYPE</th>\n",
              "      <th>is_approved_credit_less_than_600k</th>\n",
              "      <th>is_price_less_than_600k</th>\n",
              "      <th>is_annuity_less_than_27k</th>\n",
              "    </tr>\n",
              "  </thead>\n",
              "  <tbody>\n",
              "    <tr>\n",
              "      <th>0</th>\n",
              "      <td>0.0</td>\n",
              "      <td>1.0</td>\n",
              "      <td>0.0</td>\n",
              "      <td>1.0</td>\n",
              "      <td>67500.0</td>\n",
              "      <td>202500.0</td>\n",
              "      <td>10125.0</td>\n",
              "      <td>202500.0</td>\n",
              "      <td>6.0</td>\n",
              "      <td>4.0</td>\n",
              "      <td>...</td>\n",
              "      <td>-11539.0</td>\n",
              "      <td>-921.0</td>\n",
              "      <td>-119.0</td>\n",
              "      <td>-2757.0</td>\n",
              "      <td>5.0</td>\n",
              "      <td>18.0</td>\n",
              "      <td>5.0</td>\n",
              "      <td>1.0</td>\n",
              "      <td>1.0</td>\n",
              "      <td>1</td>\n",
              "    </tr>\n",
              "    <tr>\n",
              "      <th>1</th>\n",
              "      <td>0.0</td>\n",
              "      <td>0.0</td>\n",
              "      <td>0.0</td>\n",
              "      <td>1.0</td>\n",
              "      <td>202500.0</td>\n",
              "      <td>976711.5</td>\n",
              "      <td>49869.0</td>\n",
              "      <td>873000.0</td>\n",
              "      <td>1.0</td>\n",
              "      <td>4.0</td>\n",
              "      <td>...</td>\n",
              "      <td>-15743.0</td>\n",
              "      <td>-4482.0</td>\n",
              "      <td>-1797.0</td>\n",
              "      <td>-2455.0</td>\n",
              "      <td>5.0</td>\n",
              "      <td>14.0</td>\n",
              "      <td>34.0</td>\n",
              "      <td>0.0</td>\n",
              "      <td>0.0</td>\n",
              "      <td>0</td>\n",
              "    </tr>\n",
              "    <tr>\n",
              "      <th>2</th>\n",
              "      <td>0.0</td>\n",
              "      <td>0.0</td>\n",
              "      <td>0.0</td>\n",
              "      <td>0.0</td>\n",
              "      <td>180000.0</td>\n",
              "      <td>407520.0</td>\n",
              "      <td>25060.5</td>\n",
              "      <td>360000.0</td>\n",
              "      <td>2.0</td>\n",
              "      <td>4.0</td>\n",
              "      <td>...</td>\n",
              "      <td>-20775.0</td>\n",
              "      <td>365243.0</td>\n",
              "      <td>-8737.0</td>\n",
              "      <td>-4312.0</td>\n",
              "      <td>4.0</td>\n",
              "      <td>14.0</td>\n",
              "      <td>33.0</td>\n",
              "      <td>1.0</td>\n",
              "      <td>1.0</td>\n",
              "      <td>1</td>\n",
              "    </tr>\n",
              "    <tr>\n",
              "      <th>3</th>\n",
              "      <td>0.0</td>\n",
              "      <td>0.0</td>\n",
              "      <td>1.0</td>\n",
              "      <td>0.0</td>\n",
              "      <td>225000.0</td>\n",
              "      <td>808650.0</td>\n",
              "      <td>26086.5</td>\n",
              "      <td>675000.0</td>\n",
              "      <td>3.0</td>\n",
              "      <td>1.0</td>\n",
              "      <td>...</td>\n",
              "      <td>-20659.0</td>\n",
              "      <td>-10455.0</td>\n",
              "      <td>-4998.0</td>\n",
              "      <td>-4010.0</td>\n",
              "      <td>6.0</td>\n",
              "      <td>10.0</td>\n",
              "      <td>8.0</td>\n",
              "      <td>0.0</td>\n",
              "      <td>0.0</td>\n",
              "      <td>1</td>\n",
              "    </tr>\n",
              "    <tr>\n",
              "      <th>4</th>\n",
              "      <td>0.0</td>\n",
              "      <td>1.0</td>\n",
              "      <td>1.0</td>\n",
              "      <td>0.0</td>\n",
              "      <td>135000.0</td>\n",
              "      <td>180000.0</td>\n",
              "      <td>9000.0</td>\n",
              "      <td>180000.0</td>\n",
              "      <td>1.0</td>\n",
              "      <td>4.0</td>\n",
              "      <td>...</td>\n",
              "      <td>-9013.0</td>\n",
              "      <td>-1190.0</td>\n",
              "      <td>-3524.0</td>\n",
              "      <td>-1644.0</td>\n",
              "      <td>3.0</td>\n",
              "      <td>11.0</td>\n",
              "      <td>7.0</td>\n",
              "      <td>1.0</td>\n",
              "      <td>1.0</td>\n",
              "      <td>1</td>\n",
              "    </tr>\n",
              "  </tbody>\n",
              "</table>\n",
              "<p>5 rows × 22 columns</p>\n",
              "</div>\n",
              "      <button class=\"colab-df-convert\" onclick=\"convertToInteractive('df-30a37b1f-cfb4-4fff-ae34-ea415496087d')\"\n",
              "              title=\"Convert this dataframe to an interactive table.\"\n",
              "              style=\"display:none;\">\n",
              "        \n",
              "  <svg xmlns=\"http://www.w3.org/2000/svg\" height=\"24px\"viewBox=\"0 0 24 24\"\n",
              "       width=\"24px\">\n",
              "    <path d=\"M0 0h24v24H0V0z\" fill=\"none\"/>\n",
              "    <path d=\"M18.56 5.44l.94 2.06.94-2.06 2.06-.94-2.06-.94-.94-2.06-.94 2.06-2.06.94zm-11 1L8.5 8.5l.94-2.06 2.06-.94-2.06-.94L8.5 2.5l-.94 2.06-2.06.94zm10 10l.94 2.06.94-2.06 2.06-.94-2.06-.94-.94-2.06-.94 2.06-2.06.94z\"/><path d=\"M17.41 7.96l-1.37-1.37c-.4-.4-.92-.59-1.43-.59-.52 0-1.04.2-1.43.59L10.3 9.45l-7.72 7.72c-.78.78-.78 2.05 0 2.83L4 21.41c.39.39.9.59 1.41.59.51 0 1.02-.2 1.41-.59l7.78-7.78 2.81-2.81c.8-.78.8-2.07 0-2.86zM5.41 20L4 18.59l7.72-7.72 1.47 1.35L5.41 20z\"/>\n",
              "  </svg>\n",
              "      </button>\n",
              "      \n",
              "  <style>\n",
              "    .colab-df-container {\n",
              "      display:flex;\n",
              "      flex-wrap:wrap;\n",
              "      gap: 12px;\n",
              "    }\n",
              "\n",
              "    .colab-df-convert {\n",
              "      background-color: #E8F0FE;\n",
              "      border: none;\n",
              "      border-radius: 50%;\n",
              "      cursor: pointer;\n",
              "      display: none;\n",
              "      fill: #1967D2;\n",
              "      height: 32px;\n",
              "      padding: 0 0 0 0;\n",
              "      width: 32px;\n",
              "    }\n",
              "\n",
              "    .colab-df-convert:hover {\n",
              "      background-color: #E2EBFA;\n",
              "      box-shadow: 0px 1px 2px rgba(60, 64, 67, 0.3), 0px 1px 3px 1px rgba(60, 64, 67, 0.15);\n",
              "      fill: #174EA6;\n",
              "    }\n",
              "\n",
              "    [theme=dark] .colab-df-convert {\n",
              "      background-color: #3B4455;\n",
              "      fill: #D2E3FC;\n",
              "    }\n",
              "\n",
              "    [theme=dark] .colab-df-convert:hover {\n",
              "      background-color: #434B5C;\n",
              "      box-shadow: 0px 1px 3px 1px rgba(0, 0, 0, 0.15);\n",
              "      filter: drop-shadow(0px 1px 2px rgba(0, 0, 0, 0.3));\n",
              "      fill: #FFFFFF;\n",
              "    }\n",
              "  </style>\n",
              "\n",
              "      <script>\n",
              "        const buttonEl =\n",
              "          document.querySelector('#df-30a37b1f-cfb4-4fff-ae34-ea415496087d button.colab-df-convert');\n",
              "        buttonEl.style.display =\n",
              "          google.colab.kernel.accessAllowed ? 'block' : 'none';\n",
              "\n",
              "        async function convertToInteractive(key) {\n",
              "          const element = document.querySelector('#df-30a37b1f-cfb4-4fff-ae34-ea415496087d');\n",
              "          const dataTable =\n",
              "            await google.colab.kernel.invokeFunction('convertToInteractive',\n",
              "                                                     [key], {});\n",
              "          if (!dataTable) return;\n",
              "\n",
              "          const docLinkHtml = 'Like what you see? Visit the ' +\n",
              "            '<a target=\"_blank\" href=https://colab.research.google.com/notebooks/data_table.ipynb>data table notebook</a>'\n",
              "            + ' to learn more about interactive tables.';\n",
              "          element.innerHTML = '';\n",
              "          dataTable['output_type'] = 'display_data';\n",
              "          await google.colab.output.renderOutput(dataTable, element);\n",
              "          const docLink = document.createElement('div');\n",
              "          docLink.innerHTML = docLinkHtml;\n",
              "          element.appendChild(docLink);\n",
              "        }\n",
              "      </script>\n",
              "    </div>\n",
              "  </div>\n",
              "  "
            ]
          },
          "metadata": {},
          "execution_count": 23
        }
      ]
    },
    {
      "cell_type": "markdown",
      "source": [
        "#### NUM CHILDREN"
      ],
      "metadata": {
        "id": "T1l13IcO-mbf"
      }
    },
    {
      "cell_type": "code",
      "source": [
        "print('unique value :',DATA_TRAIN['NUM_CHILDREN'].unique())\n",
        "print('counted value :\\n', DATA_TRAIN['NUM_CHILDREN'].value_counts())\n",
        "print('nan value :', DATA_TRAIN['NUM_CHILDREN'].isna().sum())"
      ],
      "metadata": {
        "colab": {
          "base_uri": "https://localhost:8080/"
        },
        "outputId": "5bfddf6b-fcd9-4447-9ea5-f0362a321083",
        "id": "7V6f2sF_-mbm"
      },
      "execution_count": null,
      "outputs": [
        {
          "output_type": "stream",
          "name": "stdout",
          "text": [
            "unique value : [1. 0. 2. 3. 4. 6. 5. 8. 7. 9.]\n",
            "counted value :\n",
            " 0.0    43295\n",
            "1.0    12083\n",
            "2.0     5284\n",
            "3.0      731\n",
            "4.0       78\n",
            "5.0       25\n",
            "6.0        3\n",
            "7.0        2\n",
            "8.0        1\n",
            "9.0        1\n",
            "Name: NUM_CHILDREN, dtype: int64\n",
            "nan value : 0\n"
          ]
        }
      ]
    },
    {
      "cell_type": "code",
      "source": [
        "# amount of income loaners on data\n",
        "plt.figure(figsize=(17,5))\n",
        "sns.countplot(DATA_TRAIN['NUM_CHILDREN'])"
      ],
      "metadata": {
        "colab": {
          "base_uri": "https://localhost:8080/"
        },
        "outputId": "dc407617-903c-4f88-bdd8-354d6e974cb9",
        "id": "wXwrAepv-mbn"
      },
      "execution_count": null,
      "outputs": [
        {
          "output_type": "stream",
          "name": "stderr",
          "text": [
            "/usr/local/lib/python3.7/dist-packages/seaborn/_decorators.py:43: FutureWarning: Pass the following variable as a keyword arg: x. From version 0.12, the only valid positional argument will be `data`, and passing other arguments without an explicit keyword will result in an error or misinterpretation.\n",
            "  FutureWarning\n"
          ]
        },
        {
          "output_type": "execute_result",
          "data": {
            "text/plain": [
              "<matplotlib.axes._subplots.AxesSubplot at 0x7f1f12f53c50>"
            ]
          },
          "metadata": {},
          "execution_count": 25
        },
        {
          "output_type": "display_data",
          "data": {
            "text/plain": [
              "<Figure size 1224x360 with 1 Axes>"
            ],
            "image/png": "[encoded data removed]"
          },
          "metadata": {
            "needs_background": "light"
          }
        }
      ]
    },
    {
      "cell_type": "code",
      "source": [
        "# amount of income loaners based on target\n",
        "plt.figure(figsize=(17,5))\n",
        "sns.barplot(DATA_TRAIN['NUM_CHILDREN'], DATA_TRAIN['TARGET'])"
      ],
      "metadata": {
        "colab": {
          "base_uri": "https://localhost:8080/"
        },
        "outputId": "32839478-59aa-474a-ec3d-c7119aaa102b",
        "id": "nBmlsy_i-mbn"
      },
      "execution_count": null,
      "outputs": [
        {
          "output_type": "stream",
          "name": "stderr",
          "text": [
            "/usr/local/lib/python3.7/dist-packages/seaborn/_decorators.py:43: FutureWarning: Pass the following variables as keyword args: x, y. From version 0.12, the only valid positional argument will be `data`, and passing other arguments without an explicit keyword will result in an error or misinterpretation.\n",
            "  FutureWarning\n"
          ]
        },
        {
          "output_type": "execute_result",
          "data": {
            "text/plain": [
              "<matplotlib.axes._subplots.AxesSubplot at 0x7f1f12f5b990>"
            ]
          },
          "metadata": {},
          "execution_count": 26
        },
        {
          "output_type": "display_data",
          "data": {
            "text/plain": [
              "<Figure size 1224x360 with 1 Axes>"
            ],
            "image/png": "[encoded data removed]"
          },
          "metadata": {
            "needs_background": "light"
          }
        }
      ]
    },
    {
      "cell_type": "markdown",
      "source": [
        "#### DAYS AGE\n",
        "\n",
        "note : i did a little feature engineering so it would be the age of the users"
      ],
      "metadata": {
        "id": "f-xjXNW0_z56"
      }
    },
    {
      "cell_type": "code",
      "source": [
        "DATA_TRAIN['DAYS_AGE'] = DATA_TRAIN['DAYS_AGE'].astype('int')\n",
        "\n",
        "for i in DATA_TRAIN.index:\n",
        "  DATA_TRAIN['DAYS_AGE'][i] =  DATA_TRAIN['DAYS_AGE'][i] /-365\n",
        "\n",
        "DATA_TRAIN['DAYS_AGE']"
      ],
      "metadata": {
        "colab": {
          "base_uri": "https://localhost:8080/"
        },
        "id": "m2XvO01HAg79",
        "outputId": "01b79636-3ae3-4b09-fabe-82a3e03b6626"
      },
      "execution_count": null,
      "outputs": [
        {
          "output_type": "stream",
          "name": "stderr",
          "text": [
            "/usr/local/lib/python3.7/dist-packages/ipykernel_launcher.py:4: SettingWithCopyWarning: \n",
            "A value is trying to be set on a copy of a slice from a DataFrame\n",
            "\n",
            "See the caveats in the documentation: https://pandas.pydata.org/pandas-docs/stable/user_guide/indexing.html#returning-a-view-versus-a-copy\n",
            "  after removing the cwd from sys.path.\n"
          ]
        },
        {
          "output_type": "execute_result",
          "data": {
            "text/plain": [
              "0        31\n",
              "1        43\n",
              "2        56\n",
              "3        56\n",
              "4        24\n",
              "         ..\n",
              "61498    39\n",
              "61499    59\n",
              "61500    48\n",
              "61501    30\n",
              "61502    67\n",
              "Name: DAYS_AGE, Length: 61503, dtype: int64"
            ]
          },
          "metadata": {},
          "execution_count": 27
        }
      ]
    },
    {
      "cell_type": "code",
      "source": [
        "print('maximum days age :',DATA_TRAIN['DAYS_AGE'].max())\n",
        "print('minimum days age :',DATA_TRAIN['DAYS_AGE'].min())\n",
        "print('nan value :', DATA_TRAIN['DAYS_AGE'].isna().sum())"
      ],
      "metadata": {
        "colab": {
          "base_uri": "https://localhost:8080/"
        },
        "outputId": "a0cd26f8-d20d-4e79-ec88-6a34c53f7878",
        "id": "qDwKR1UE_z6C"
      },
      "execution_count": null,
      "outputs": [
        {
          "output_type": "stream",
          "name": "stdout",
          "text": [
            "maximum days age : 69\n",
            "minimum days age : 21\n",
            "nan value : 0\n"
          ]
        }
      ]
    },
    {
      "cell_type": "code",
      "source": [
        "# amount of income loaners on data\n",
        "plt.figure(figsize=(17,5))\n",
        "sns.boxplot(DATA_TRAIN['DAYS_AGE'])"
      ],
      "metadata": {
        "colab": {
          "base_uri": "https://localhost:8080/"
        },
        "outputId": "2751d5b1-f0e2-4532-8d6a-1238b62be9de",
        "id": "eZUC-5sd_z6C"
      },
      "execution_count": null,
      "outputs": [
        {
          "output_type": "stream",
          "name": "stderr",
          "text": [
            "/usr/local/lib/python3.7/dist-packages/seaborn/_decorators.py:43: FutureWarning: Pass the following variable as a keyword arg: x. From version 0.12, the only valid positional argument will be `data`, and passing other arguments without an explicit keyword will result in an error or misinterpretation.\n",
            "  FutureWarning\n"
          ]
        },
        {
          "output_type": "execute_result",
          "data": {
            "text/plain": [
              "<matplotlib.axes._subplots.AxesSubplot at 0x7f1f7e46f190>"
            ]
          },
          "metadata": {},
          "execution_count": 29
        },
        {
          "output_type": "display_data",
          "data": {
            "text/plain": [
              "<Figure size 1224x360 with 1 Axes>"
            ],
            "image/png": "[encoded data removed]"
          },
          "metadata": {
            "needs_background": "light"
          }
        }
      ]
    },
    {
      "cell_type": "code",
      "source": [
        "# amount of income loaners based on target\n",
        "plt.figure(figsize=(17,5))\n",
        "plt.scatter(DATA_TRAIN['DAYS_AGE'], DATA_TRAIN['TARGET'])"
      ],
      "metadata": {
        "colab": {
          "base_uri": "https://localhost:8080/"
        },
        "outputId": "8b34ac84-bcba-41e6-84fa-bdbac23b81bb",
        "id": "PLr5z91H_z6D"
      },
      "execution_count": null,
      "outputs": [
        {
          "output_type": "execute_result",
          "data": {
            "text/plain": [
              "<matplotlib.collections.PathCollection at 0x7f1f136d8190>"
            ]
          },
          "metadata": {},
          "execution_count": 30
        },
        {
          "output_type": "display_data",
          "data": {
            "text/plain": [
              "<Figure size 1224x360 with 1 Axes>"
            ],
            "image/png": "[encoded data removed]"
          },
          "metadata": {
            "needs_background": "light"
          }
        }
      ]
    },
    {
      "cell_type": "markdown",
      "source": [
        "## Preprocessing\n",
        "\n",
        "Preprocess Explanation : \n",
        "1. the train data contain 8 feature that have been explored before, i.e. \"APPROVED CREDIT\", \"PRICE\", \"ANNUITY\", \"NUM_CHILDREN\", \"DAYS_AGE\", etc.\n",
        "2. There is a nan value in \"PRICE\" feature, so i filled the nan value with the mean value of the feature. The reason i chose to fill it is to avoid the outlier from the feature and i did the same thing to \"ANNUITY\" feature.\n",
        "3. After checking the target label, i found an imbalance data in target label. So, i did an oversampling methods using smote to balanced the target label. why i chose the oversampling methods, because if i try to undersampling the target label, the model cannot produce the good predict, seeing the target \"1\" is measly.\n",
        "4. The data is scaled to far, so i normalize the data using MinMax scaling, min max scaling method normalized the scaled of data in the range from 0 to 1.\n",
        "5. Last step of preprocessing the data is to split the data into train and test, i splitted the data train to 80% and data test to 20%, i guess it's a normal train test split method for every machine learning model."
      ],
      "metadata": {
        "id": "0qxi8iZMep8j"
      }
    },
    {
      "cell_type": "code",
      "source": [
        "DATA_TRAIN.tail()"
      ],
      "metadata": {
        "colab": {
          "base_uri": "https://localhost:8080/"
        },
        "id": "aDhYDmqzCpSb",
        "outputId": "623a8aca-193d-488c-da9b-8a455b6bd9de"
      },
      "execution_count": null,
      "outputs": [
        {
          "output_type": "execute_result",
          "data": {
            "text/plain": [
              "       TARGET  CONTRACT_TYPE  GENDER  NUM_CHILDREN    INCOME  APPROVED_CREDIT  \\\n",
              "61498     0.0            0.0     1.0           2.0  360000.0         450000.0   \n",
              "61499     1.0            0.0     0.0           0.0  441000.0         904500.0   \n",
              "61500     0.0            1.0     0.0           0.0  202500.0         900000.0   \n",
              "61501     0.0            0.0     0.0           0.0   94500.0         360000.0   \n",
              "61502     0.0            0.0     0.0           0.0   90000.0         203760.0   \n",
              "\n",
              "       ANNUITY     PRICE  INCOME_TYPE  EDUCATION  ...  DAYS_AGE  DAYS_WORK  \\\n",
              "61498  44509.5  450000.0          3.0        4.0  ...        39    -5813.0   \n",
              "61499  38452.5  904500.0          2.0        4.0  ...        59   365243.0   \n",
              "61500  45000.0  900000.0          1.0        1.0  ...        48    -1564.0   \n",
              "61501  17509.5  360000.0          6.0        4.0  ...        30    -4159.0   \n",
              "61502  20281.5  180000.0          2.0        4.0  ...        67   365243.0   \n",
              "\n",
              "       DAYS_REGISTRATION  DAYS_ID_CHANGE  WEEKDAYS_APPLY  HOUR_APPLY  \\\n",
              "61498            -2313.0         -2709.0             0.0         6.0   \n",
              "61499            -4106.0         -4191.0             5.0        12.0   \n",
              "61500           -11844.0         -1263.0             0.0        16.0   \n",
              "61501            -5060.0         -3698.0             0.0        15.0   \n",
              "61502           -12794.0         -4105.0             5.0        11.0   \n",
              "\n",
              "       ORGANIZATION_TYPE  is_approved_credit_less_than_600k  \\\n",
              "61498                9.0                                1.0   \n",
              "61499               33.0                                0.0   \n",
              "61500               17.0                                0.0   \n",
              "61501                5.0                                1.0   \n",
              "61502               33.0                                1.0   \n",
              "\n",
              "       is_price_less_than_600k  is_annuity_less_than_27k  \n",
              "61498                      1.0                         0  \n",
              "61499                      0.0                         0  \n",
              "61500                      0.0                         0  \n",
              "61501                      1.0                         1  \n",
              "61502                      1.0                         1  \n",
              "\n",
              "[5 rows x 22 columns]"
            ],
            "text/html": [
              "\n",
              "  <div id=\"df-1dd897a6-20a1-4cea-97f8-a112a059e7be\">\n",
              "    <div class=\"colab-df-container\">\n",
              "      <div>\n",
              "<style scoped>\n",
              "    .dataframe tbody tr th:only-of-type {\n",
              "        vertical-align: middle;\n",
              "    }\n",
              "\n",
              "    .dataframe tbody tr th {\n",
              "        vertical-align: top;\n",
              "    }\n",
              "\n",
              "    .dataframe thead th {\n",
              "        text-align: right;\n",
              "    }\n",
              "</style>\n",
              "<table border=\"1\" class=\"dataframe\">\n",
              "  <thead>\n",
              "    <tr style=\"text-align: right;\">\n",
              "      <th></th>\n",
              "      <th>TARGET</th>\n",
              "      <th>CONTRACT_TYPE</th>\n",
              "      <th>GENDER</th>\n",
              "      <th>NUM_CHILDREN</th>\n",
              "      <th>INCOME</th>\n",
              "      <th>APPROVED_CREDIT</th>\n",
              "      <th>ANNUITY</th>\n",
              "      <th>PRICE</th>\n",
              "      <th>INCOME_TYPE</th>\n",
              "      <th>EDUCATION</th>\n",
              "      <th>...</th>\n",
              "      <th>DAYS_AGE</th>\n",
              "      <th>DAYS_WORK</th>\n",
              "      <th>DAYS_REGISTRATION</th>\n",
              "      <th>DAYS_ID_CHANGE</th>\n",
              "      <th>WEEKDAYS_APPLY</th>\n",
              "      <th>HOUR_APPLY</th>\n",
              "      <th>ORGANIZATION_TYPE</th>\n",
              "      <th>is_approved_credit_less_than_600k</th>\n",
              "      <th>is_price_less_than_600k</th>\n",
              "      <th>is_annuity_less_than_27k</th>\n",
              "    </tr>\n",
              "  </thead>\n",
              "  <tbody>\n",
              "    <tr>\n",
              "      <th>61498</th>\n",
              "      <td>0.0</td>\n",
              "      <td>0.0</td>\n",
              "      <td>1.0</td>\n",
              "      <td>2.0</td>\n",
              "      <td>360000.0</td>\n",
              "      <td>450000.0</td>\n",
              "      <td>44509.5</td>\n",
              "      <td>450000.0</td>\n",
              "      <td>3.0</td>\n",
              "      <td>4.0</td>\n",
              "      <td>...</td>\n",
              "      <td>39</td>\n",
              "      <td>-5813.0</td>\n",
              "      <td>-2313.0</td>\n",
              "      <td>-2709.0</td>\n",
              "      <td>0.0</td>\n",
              "      <td>6.0</td>\n",
              "      <td>9.0</td>\n",
              "      <td>1.0</td>\n",
              "      <td>1.0</td>\n",
              "      <td>0</td>\n",
              "    </tr>\n",
              "    <tr>\n",
              "      <th>61499</th>\n",
              "      <td>1.0</td>\n",
              "      <td>0.0</td>\n",
              "      <td>0.0</td>\n",
              "      <td>0.0</td>\n",
              "      <td>441000.0</td>\n",
              "      <td>904500.0</td>\n",
              "      <td>38452.5</td>\n",
              "      <td>904500.0</td>\n",
              "      <td>2.0</td>\n",
              "      <td>4.0</td>\n",
              "      <td>...</td>\n",
              "      <td>59</td>\n",
              "      <td>365243.0</td>\n",
              "      <td>-4106.0</td>\n",
              "      <td>-4191.0</td>\n",
              "      <td>5.0</td>\n",
              "      <td>12.0</td>\n",
              "      <td>33.0</td>\n",
              "      <td>0.0</td>\n",
              "      <td>0.0</td>\n",
              "      <td>0</td>\n",
              "    </tr>\n",
              "    <tr>\n",
              "      <th>61500</th>\n",
              "      <td>0.0</td>\n",
              "      <td>1.0</td>\n",
              "      <td>0.0</td>\n",
              "      <td>0.0</td>\n",
              "      <td>202500.0</td>\n",
              "      <td>900000.0</td>\n",
              "      <td>45000.0</td>\n",
              "      <td>900000.0</td>\n",
              "      <td>1.0</td>\n",
              "      <td>1.0</td>\n",
              "      <td>...</td>\n",
              "      <td>48</td>\n",
              "      <td>-1564.0</td>\n",
              "      <td>-11844.0</td>\n",
              "      <td>-1263.0</td>\n",
              "      <td>0.0</td>\n",
              "      <td>16.0</td>\n",
              "      <td>17.0</td>\n",
              "      <td>0.0</td>\n",
              "      <td>0.0</td>\n",
              "      <td>0</td>\n",
              "    </tr>\n",
              "    <tr>\n",
              "      <th>61501</th>\n",
              "      <td>0.0</td>\n",
              "      <td>0.0</td>\n",
              "      <td>0.0</td>\n",
              "      <td>0.0</td>\n",
              "      <td>94500.0</td>\n",
              "      <td>360000.0</td>\n",
              "      <td>17509.5</td>\n",
              "      <td>360000.0</td>\n",
              "      <td>6.0</td>\n",
              "      <td>4.0</td>\n",
              "      <td>...</td>\n",
              "      <td>30</td>\n",
              "      <td>-4159.0</td>\n",
              "      <td>-5060.0</td>\n",
              "      <td>-3698.0</td>\n",
              "      <td>0.0</td>\n",
              "      <td>15.0</td>\n",
              "      <td>5.0</td>\n",
              "      <td>1.0</td>\n",
              "      <td>1.0</td>\n",
              "      <td>1</td>\n",
              "    </tr>\n",
              "    <tr>\n",
              "      <th>61502</th>\n",
              "      <td>0.0</td>\n",
              "      <td>0.0</td>\n",
              "      <td>0.0</td>\n",
              "      <td>0.0</td>\n",
              "      <td>90000.0</td>\n",
              "      <td>203760.0</td>\n",
              "      <td>20281.5</td>\n",
              "      <td>180000.0</td>\n",
              "      <td>2.0</td>\n",
              "      <td>4.0</td>\n",
              "      <td>...</td>\n",
              "      <td>67</td>\n",
              "      <td>365243.0</td>\n",
              "      <td>-12794.0</td>\n",
              "      <td>-4105.0</td>\n",
              "      <td>5.0</td>\n",
              "      <td>11.0</td>\n",
              "      <td>33.0</td>\n",
              "      <td>1.0</td>\n",
              "      <td>1.0</td>\n",
              "      <td>1</td>\n",
              "    </tr>\n",
              "  </tbody>\n",
              "</table>\n",
              "<p>5 rows × 22 columns</p>\n",
              "</div>\n",
              "      <button class=\"colab-df-convert\" onclick=\"convertToInteractive('df-1dd897a6-20a1-4cea-97f8-a112a059e7be')\"\n",
              "              title=\"Convert this dataframe to an interactive table.\"\n",
              "              style=\"display:none;\">\n",
              "        \n",
              "  <svg xmlns=\"http://www.w3.org/2000/svg\" height=\"24px\"viewBox=\"0 0 24 24\"\n",
              "       width=\"24px\">\n",
              "    <path d=\"M0 0h24v24H0V0z\" fill=\"none\"/>\n",
              "    <path d=\"M18.56 5.44l.94 2.06.94-2.06 2.06-.94-2.06-.94-.94-2.06-.94 2.06-2.06.94zm-11 1L8.5 8.5l.94-2.06 2.06-.94-2.06-.94L8.5 2.5l-.94 2.06-2.06.94zm10 10l.94 2.06.94-2.06 2.06-.94-2.06-.94-.94-2.06-.94 2.06-2.06.94z\"/><path d=\"M17.41 7.96l-1.37-1.37c-.4-.4-.92-.59-1.43-.59-.52 0-1.04.2-1.43.59L10.3 9.45l-7.72 7.72c-.78.78-.78 2.05 0 2.83L4 21.41c.39.39.9.59 1.41.59.51 0 1.02-.2 1.41-.59l7.78-7.78 2.81-2.81c.8-.78.8-2.07 0-2.86zM5.41 20L4 18.59l7.72-7.72 1.47 1.35L5.41 20z\"/>\n",
              "  </svg>\n",
              "      </button>\n",
              "      \n",
              "  <style>\n",
              "    .colab-df-container {\n",
              "      display:flex;\n",
              "      flex-wrap:wrap;\n",
              "      gap: 12px;\n",
              "    }\n",
              "\n",
              "    .colab-df-convert {\n",
              "      background-color: #E8F0FE;\n",
              "      border: none;\n",
              "      border-radius: 50%;\n",
              "      cursor: pointer;\n",
              "      display: none;\n",
              "      fill: #1967D2;\n",
              "      height: 32px;\n",
              "      padding: 0 0 0 0;\n",
              "      width: 32px;\n",
              "    }\n",
              "\n",
              "    .colab-df-convert:hover {\n",
              "      background-color: #E2EBFA;\n",
              "      box-shadow: 0px 1px 2px rgba(60, 64, 67, 0.3), 0px 1px 3px 1px rgba(60, 64, 67, 0.15);\n",
              "      fill: #174EA6;\n",
              "    }\n",
              "\n",
              "    [theme=dark] .colab-df-convert {\n",
              "      background-color: #3B4455;\n",
              "      fill: #D2E3FC;\n",
              "    }\n",
              "\n",
              "    [theme=dark] .colab-df-convert:hover {\n",
              "      background-color: #434B5C;\n",
              "      box-shadow: 0px 1px 3px 1px rgba(0, 0, 0, 0.15);\n",
              "      filter: drop-shadow(0px 1px 2px rgba(0, 0, 0, 0.3));\n",
              "      fill: #FFFFFF;\n",
              "    }\n",
              "  </style>\n",
              "\n",
              "      <script>\n",
              "        const buttonEl =\n",
              "          document.querySelector('#df-1dd897a6-20a1-4cea-97f8-a112a059e7be button.colab-df-convert');\n",
              "        buttonEl.style.display =\n",
              "          google.colab.kernel.accessAllowed ? 'block' : 'none';\n",
              "\n",
              "        async function convertToInteractive(key) {\n",
              "          const element = document.querySelector('#df-1dd897a6-20a1-4cea-97f8-a112a059e7be');\n",
              "          const dataTable =\n",
              "            await google.colab.kernel.invokeFunction('convertToInteractive',\n",
              "                                                     [key], {});\n",
              "          if (!dataTable) return;\n",
              "\n",
              "          const docLinkHtml = 'Like what you see? Visit the ' +\n",
              "            '<a target=\"_blank\" href=https://colab.research.google.com/notebooks/data_table.ipynb>data table notebook</a>'\n",
              "            + ' to learn more about interactive tables.';\n",
              "          element.innerHTML = '';\n",
              "          dataTable['output_type'] = 'display_data';\n",
              "          await google.colab.output.renderOutput(dataTable, element);\n",
              "          const docLink = document.createElement('div');\n",
              "          docLink.innerHTML = docLinkHtml;\n",
              "          element.appendChild(docLink);\n",
              "        }\n",
              "      </script>\n",
              "    </div>\n",
              "  </div>\n",
              "  "
            ]
          },
          "metadata": {},
          "execution_count": 31
        }
      ]
    },
    {
      "cell_type": "code",
      "source": [
        "train_data = DATA_TRAIN[['APPROVED_CREDIT','PRICE','ANNUITY','NUM_CHILDREN','DAYS_AGE','is_approved_credit_less_than_600k','is_price_less_than_600k', 'is_annuity_less_than_27k']]\n",
        "train_target = DATA_TRAIN[['TARGET']]\n",
        "train_data"
      ],
      "metadata": {
        "colab": {
          "base_uri": "https://localhost:8080/"
        },
        "id": "g7wC2bo3fUG7",
        "outputId": "a277f5a0-0d48-4c74-cd01-01595e566efb"
      },
      "execution_count": null,
      "outputs": [
        {
          "output_type": "execute_result",
          "data": {
            "text/plain": [
              "       APPROVED_CREDIT     PRICE  ANNUITY  NUM_CHILDREN  DAYS_AGE  \\\n",
              "0             202500.0  202500.0  10125.0           1.0        31   \n",
              "1             976711.5  873000.0  49869.0           1.0        43   \n",
              "2             407520.0  360000.0  25060.5           0.0        56   \n",
              "3             808650.0  675000.0  26086.5           0.0        56   \n",
              "4             180000.0  180000.0   9000.0           0.0        24   \n",
              "...                ...       ...      ...           ...       ...   \n",
              "61498         450000.0  450000.0  44509.5           2.0        39   \n",
              "61499         904500.0  904500.0  38452.5           0.0        59   \n",
              "61500         900000.0  900000.0  45000.0           0.0        48   \n",
              "61501         360000.0  360000.0  17509.5           0.0        30   \n",
              "61502         203760.0  180000.0  20281.5           0.0        67   \n",
              "\n",
              "       is_approved_credit_less_than_600k  is_price_less_than_600k  \\\n",
              "0                                    1.0                      1.0   \n",
              "1                                    0.0                      0.0   \n",
              "2                                    1.0                      1.0   \n",
              "3                                    0.0                      0.0   \n",
              "4                                    1.0                      1.0   \n",
              "...                                  ...                      ...   \n",
              "61498                                1.0                      1.0   \n",
              "61499                                0.0                      0.0   \n",
              "61500                                0.0                      0.0   \n",
              "61501                                1.0                      1.0   \n",
              "61502                                1.0                      1.0   \n",
              "\n",
              "       is_annuity_less_than_27k  \n",
              "0                             1  \n",
              "1                             0  \n",
              "2                             1  \n",
              "3                             1  \n",
              "4                             1  \n",
              "...                         ...  \n",
              "61498                         0  \n",
              "61499                         0  \n",
              "61500                         0  \n",
              "61501                         1  \n",
              "61502                         1  \n",
              "\n",
              "[61503 rows x 8 columns]"
            ],
            "text/html": [
              "\n",
              "  <div id=\"df-396261d7-c25c-42ac-9642-dc53ab399d45\">\n",
              "    <div class=\"colab-df-container\">\n",
              "      <div>\n",
              "<style scoped>\n",
              "    .dataframe tbody tr th:only-of-type {\n",
              "        vertical-align: middle;\n",
              "    }\n",
              "\n",
              "    .dataframe tbody tr th {\n",
              "        vertical-align: top;\n",
              "    }\n",
              "\n",
              "    .dataframe thead th {\n",
              "        text-align: right;\n",
              "    }\n",
              "</style>\n",
              "<table border=\"1\" class=\"dataframe\">\n",
              "  <thead>\n",
              "    <tr style=\"text-align: right;\">\n",
              "      <th></th>\n",
              "      <th>APPROVED_CREDIT</th>\n",
              "      <th>PRICE</th>\n",
              "      <th>ANNUITY</th>\n",
              "      <th>NUM_CHILDREN</th>\n",
              "      <th>DAYS_AGE</th>\n",
              "      <th>is_approved_credit_less_than_600k</th>\n",
              "      <th>is_price_less_than_600k</th>\n",
              "      <th>is_annuity_less_than_27k</th>\n",
              "    </tr>\n",
              "  </thead>\n",
              "  <tbody>\n",
              "    <tr>\n",
              "      <th>0</th>\n",
              "      <td>202500.0</td>\n",
              "      <td>202500.0</td>\n",
              "      <td>10125.0</td>\n",
              "      <td>1.0</td>\n",
              "      <td>31</td>\n",
              "      <td>1.0</td>\n",
              "      <td>1.0</td>\n",
              "      <td>1</td>\n",
              "    </tr>\n",
              "    <tr>\n",
              "      <th>1</th>\n",
              "      <td>976711.5</td>\n",
              "      <td>873000.0</td>\n",
              "      <td>49869.0</td>\n",
              "      <td>1.0</td>\n",
              "      <td>43</td>\n",
              "      <td>0.0</td>\n",
              "      <td>0.0</td>\n",
              "      <td>0</td>\n",
              "    </tr>\n",
              "    <tr>\n",
              "      <th>2</th>\n",
              "      <td>407520.0</td>\n",
              "      <td>360000.0</td>\n",
              "      <td>25060.5</td>\n",
              "      <td>0.0</td>\n",
              "      <td>56</td>\n",
              "      <td>1.0</td>\n",
              "      <td>1.0</td>\n",
              "      <td>1</td>\n",
              "    </tr>\n",
              "    <tr>\n",
              "      <th>3</th>\n",
              "      <td>808650.0</td>\n",
              "      <td>675000.0</td>\n",
              "      <td>26086.5</td>\n",
              "      <td>0.0</td>\n",
              "      <td>56</td>\n",
              "      <td>0.0</td>\n",
              "      <td>0.0</td>\n",
              "      <td>1</td>\n",
              "    </tr>\n",
              "    <tr>\n",
              "      <th>4</th>\n",
              "      <td>180000.0</td>\n",
              "      <td>180000.0</td>\n",
              "      <td>9000.0</td>\n",
              "      <td>0.0</td>\n",
              "      <td>24</td>\n",
              "      <td>1.0</td>\n",
              "      <td>1.0</td>\n",
              "      <td>1</td>\n",
              "    </tr>\n",
              "    <tr>\n",
              "      <th>...</th>\n",
              "      <td>...</td>\n",
              "      <td>...</td>\n",
              "      <td>...</td>\n",
              "      <td>...</td>\n",
              "      <td>...</td>\n",
              "      <td>...</td>\n",
              "      <td>...</td>\n",
              "      <td>...</td>\n",
              "    </tr>\n",
              "    <tr>\n",
              "      <th>61498</th>\n",
              "      <td>450000.0</td>\n",
              "      <td>450000.0</td>\n",
              "      <td>44509.5</td>\n",
              "      <td>2.0</td>\n",
              "      <td>39</td>\n",
              "      <td>1.0</td>\n",
              "      <td>1.0</td>\n",
              "      <td>0</td>\n",
              "    </tr>\n",
              "    <tr>\n",
              "      <th>61499</th>\n",
              "      <td>904500.0</td>\n",
              "      <td>904500.0</td>\n",
              "      <td>38452.5</td>\n",
              "      <td>0.0</td>\n",
              "      <td>59</td>\n",
              "      <td>0.0</td>\n",
              "      <td>0.0</td>\n",
              "      <td>0</td>\n",
              "    </tr>\n",
              "    <tr>\n",
              "      <th>61500</th>\n",
              "      <td>900000.0</td>\n",
              "      <td>900000.0</td>\n",
              "      <td>45000.0</td>\n",
              "      <td>0.0</td>\n",
              "      <td>48</td>\n",
              "      <td>0.0</td>\n",
              "      <td>0.0</td>\n",
              "      <td>0</td>\n",
              "    </tr>\n",
              "    <tr>\n",
              "      <th>61501</th>\n",
              "      <td>360000.0</td>\n",
              "      <td>360000.0</td>\n",
              "      <td>17509.5</td>\n",
              "      <td>0.0</td>\n",
              "      <td>30</td>\n",
              "      <td>1.0</td>\n",
              "      <td>1.0</td>\n",
              "      <td>1</td>\n",
              "    </tr>\n",
              "    <tr>\n",
              "      <th>61502</th>\n",
              "      <td>203760.0</td>\n",
              "      <td>180000.0</td>\n",
              "      <td>20281.5</td>\n",
              "      <td>0.0</td>\n",
              "      <td>67</td>\n",
              "      <td>1.0</td>\n",
              "      <td>1.0</td>\n",
              "      <td>1</td>\n",
              "    </tr>\n",
              "  </tbody>\n",
              "</table>\n",
              "<p>61503 rows × 8 columns</p>\n",
              "</div>\n",
              "      <button class=\"colab-df-convert\" onclick=\"convertToInteractive('df-396261d7-c25c-42ac-9642-dc53ab399d45')\"\n",
              "              title=\"Convert this dataframe to an interactive table.\"\n",
              "              style=\"display:none;\">\n",
              "        \n",
              "  <svg xmlns=\"http://www.w3.org/2000/svg\" height=\"24px\"viewBox=\"0 0 24 24\"\n",
              "       width=\"24px\">\n",
              "    <path d=\"M0 0h24v24H0V0z\" fill=\"none\"/>\n",
              "    <path d=\"M18.56 5.44l.94 2.06.94-2.06 2.06-.94-2.06-.94-.94-2.06-.94 2.06-2.06.94zm-11 1L8.5 8.5l.94-2.06 2.06-.94-2.06-.94L8.5 2.5l-.94 2.06-2.06.94zm10 10l.94 2.06.94-2.06 2.06-.94-2.06-.94-.94-2.06-.94 2.06-2.06.94z\"/><path d=\"M17.41 7.96l-1.37-1.37c-.4-.4-.92-.59-1.43-.59-.52 0-1.04.2-1.43.59L10.3 9.45l-7.72 7.72c-.78.78-.78 2.05 0 2.83L4 21.41c.39.39.9.59 1.41.59.51 0 1.02-.2 1.41-.59l7.78-7.78 2.81-2.81c.8-.78.8-2.07 0-2.86zM5.41 20L4 18.59l7.72-7.72 1.47 1.35L5.41 20z\"/>\n",
              "  </svg>\n",
              "      </button>\n",
              "      \n",
              "  <style>\n",
              "    .colab-df-container {\n",
              "      display:flex;\n",
              "      flex-wrap:wrap;\n",
              "      gap: 12px;\n",
              "    }\n",
              "\n",
              "    .colab-df-convert {\n",
              "      background-color: #E8F0FE;\n",
              "      border: none;\n",
              "      border-radius: 50%;\n",
              "      cursor: pointer;\n",
              "      display: none;\n",
              "      fill: #1967D2;\n",
              "      height: 32px;\n",
              "      padding: 0 0 0 0;\n",
              "      width: 32px;\n",
              "    }\n",
              "\n",
              "    .colab-df-convert:hover {\n",
              "      background-color: #E2EBFA;\n",
              "      box-shadow: 0px 1px 2px rgba(60, 64, 67, 0.3), 0px 1px 3px 1px rgba(60, 64, 67, 0.15);\n",
              "      fill: #174EA6;\n",
              "    }\n",
              "\n",
              "    [theme=dark] .colab-df-convert {\n",
              "      background-color: #3B4455;\n",
              "      fill: #D2E3FC;\n",
              "    }\n",
              "\n",
              "    [theme=dark] .colab-df-convert:hover {\n",
              "      background-color: #434B5C;\n",
              "      box-shadow: 0px 1px 3px 1px rgba(0, 0, 0, 0.15);\n",
              "      filter: drop-shadow(0px 1px 2px rgba(0, 0, 0, 0.3));\n",
              "      fill: #FFFFFF;\n",
              "    }\n",
              "  </style>\n",
              "\n",
              "      <script>\n",
              "        const buttonEl =\n",
              "          document.querySelector('#df-396261d7-c25c-42ac-9642-dc53ab399d45 button.colab-df-convert');\n",
              "        buttonEl.style.display =\n",
              "          google.colab.kernel.accessAllowed ? 'block' : 'none';\n",
              "\n",
              "        async function convertToInteractive(key) {\n",
              "          const element = document.querySelector('#df-396261d7-c25c-42ac-9642-dc53ab399d45');\n",
              "          const dataTable =\n",
              "            await google.colab.kernel.invokeFunction('convertToInteractive',\n",
              "                                                     [key], {});\n",
              "          if (!dataTable) return;\n",
              "\n",
              "          const docLinkHtml = 'Like what you see? Visit the ' +\n",
              "            '<a target=\"_blank\" href=https://colab.research.google.com/notebooks/data_table.ipynb>data table notebook</a>'\n",
              "            + ' to learn more about interactive tables.';\n",
              "          element.innerHTML = '';\n",
              "          dataTable['output_type'] = 'display_data';\n",
              "          await google.colab.output.renderOutput(dataTable, element);\n",
              "          const docLink = document.createElement('div');\n",
              "          docLink.innerHTML = docLinkHtml;\n",
              "          element.appendChild(docLink);\n",
              "        }\n",
              "      </script>\n",
              "    </div>\n",
              "  </div>\n",
              "  "
            ]
          },
          "metadata": {},
          "execution_count": 32
        }
      ]
    },
    {
      "cell_type": "code",
      "source": [
        "train_data.isna().sum()"
      ],
      "metadata": {
        "colab": {
          "base_uri": "https://localhost:8080/"
        },
        "id": "pmgL9jovC06P",
        "outputId": "74015df6-9ec7-4d76-cafa-a0471ef3a9bb"
      },
      "execution_count": null,
      "outputs": [
        {
          "output_type": "execute_result",
          "data": {
            "text/plain": [
              "APPROVED_CREDIT                       0\n",
              "PRICE                                62\n",
              "ANNUITY                               1\n",
              "NUM_CHILDREN                          0\n",
              "DAYS_AGE                              0\n",
              "is_approved_credit_less_than_600k     0\n",
              "is_price_less_than_600k               0\n",
              "is_annuity_less_than_27k              0\n",
              "dtype: int64"
            ]
          },
          "metadata": {},
          "execution_count": 33
        }
      ]
    },
    {
      "cell_type": "code",
      "source": [
        "# fillna with mean\n",
        "mean_price = train_data['PRICE'].mean()\n",
        "train_data['PRICE'] = train_data['PRICE'].fillna(value=mean_price)\n",
        "print('nan value :',train_data['PRICE'].isna().sum())"
      ],
      "metadata": {
        "colab": {
          "base_uri": "https://localhost:8080/"
        },
        "id": "8FDnbIfUi6_w",
        "outputId": "983508ce-68af-4e8e-d664-bab498251144"
      },
      "execution_count": null,
      "outputs": [
        {
          "output_type": "stream",
          "name": "stdout",
          "text": [
            "nan value : 0\n"
          ]
        },
        {
          "output_type": "stream",
          "name": "stderr",
          "text": [
            "/usr/local/lib/python3.7/dist-packages/ipykernel_launcher.py:3: SettingWithCopyWarning: \n",
            "A value is trying to be set on a copy of a slice from a DataFrame.\n",
            "Try using .loc[row_indexer,col_indexer] = value instead\n",
            "\n",
            "See the caveats in the documentation: https://pandas.pydata.org/pandas-docs/stable/user_guide/indexing.html#returning-a-view-versus-a-copy\n",
            "  This is separate from the ipykernel package so we can avoid doing imports until\n"
          ]
        }
      ]
    },
    {
      "cell_type": "code",
      "source": [
        "# fillna with min\n",
        "mean_annuity = train_data['ANNUITY'].mean()\n",
        "train_data['ANNUITY'] = train_data['ANNUITY'].fillna(value=mean_annuity)\n",
        "print('nan value :',train_data['ANNUITY'].isna().sum())"
      ],
      "metadata": {
        "colab": {
          "base_uri": "https://localhost:8080/"
        },
        "id": "ygzPRwb5BmIQ",
        "outputId": "6230aa26-2d75-4959-e087-40ad9d66795c"
      },
      "execution_count": null,
      "outputs": [
        {
          "output_type": "stream",
          "name": "stdout",
          "text": [
            "nan value : 0\n"
          ]
        },
        {
          "output_type": "stream",
          "name": "stderr",
          "text": [
            "/usr/local/lib/python3.7/dist-packages/ipykernel_launcher.py:3: SettingWithCopyWarning: \n",
            "A value is trying to be set on a copy of a slice from a DataFrame.\n",
            "Try using .loc[row_indexer,col_indexer] = value instead\n",
            "\n",
            "See the caveats in the documentation: https://pandas.pydata.org/pandas-docs/stable/user_guide/indexing.html#returning-a-view-versus-a-copy\n",
            "  This is separate from the ipykernel package so we can avoid doing imports until\n"
          ]
        }
      ]
    },
    {
      "cell_type": "code",
      "source": [
        "smt = SMOTE()\n",
        "X_resamp, y_resamp = smt.fit_resample(train_data, train_target)\n",
        "X_resamp"
      ],
      "metadata": {
        "colab": {
          "base_uri": "https://localhost:8080/"
        },
        "id": "_lxF6ay4lYpO",
        "outputId": "be0cdf3e-3ccb-4e14-938e-8da2a5cf7e83"
      },
      "execution_count": null,
      "outputs": [
        {
          "output_type": "execute_result",
          "data": {
            "text/plain": [
              "        APPROVED_CREDIT     PRICE  ANNUITY  NUM_CHILDREN  DAYS_AGE  \\\n",
              "0              202500.0  202500.0  10125.0      1.000000        31   \n",
              "1              976711.5  873000.0  49869.0      1.000000        43   \n",
              "2              407520.0  360000.0  25060.5      0.000000        56   \n",
              "3              808650.0  675000.0  26086.5      0.000000        56   \n",
              "4              180000.0  180000.0   9000.0      0.000000        24   \n",
              "...                 ...       ...      ...           ...       ...   \n",
              "113063         337500.0  337500.0  16875.0      2.814749        28   \n",
              "113064         180000.0  180000.0   9000.0      0.000000        47   \n",
              "113065         450000.0  450000.0  21888.0      1.667293        29   \n",
              "113066         254700.0  225000.0  14751.0      0.000000        63   \n",
              "113067         450000.0  450000.0  35685.0      0.838098        37   \n",
              "\n",
              "        is_approved_credit_less_than_600k  is_price_less_than_600k  \\\n",
              "0                                     1.0                      1.0   \n",
              "1                                     0.0                      0.0   \n",
              "2                                     1.0                      1.0   \n",
              "3                                     0.0                      0.0   \n",
              "4                                     1.0                      1.0   \n",
              "...                                   ...                      ...   \n",
              "113063                                1.0                      1.0   \n",
              "113064                                1.0                      1.0   \n",
              "113065                                1.0                      1.0   \n",
              "113066                                1.0                      1.0   \n",
              "113067                                1.0                      1.0   \n",
              "\n",
              "        is_annuity_less_than_27k  \n",
              "0                              1  \n",
              "1                              0  \n",
              "2                              1  \n",
              "3                              1  \n",
              "4                              1  \n",
              "...                          ...  \n",
              "113063                         1  \n",
              "113064                         1  \n",
              "113065                         1  \n",
              "113066                         1  \n",
              "113067                         0  \n",
              "\n",
              "[113068 rows x 8 columns]"
            ],
            "text/html": [
              "\n",
              "  <div id=\"df-5c42e90c-bd2b-4241-9ed4-87889cbb2209\">\n",
              "    <div class=\"colab-df-container\">\n",
              "      <div>\n",
              "<style scoped>\n",
              "    .dataframe tbody tr th:only-of-type {\n",
              "        vertical-align: middle;\n",
              "    }\n",
              "\n",
              "    .dataframe tbody tr th {\n",
              "        vertical-align: top;\n",
              "    }\n",
              "\n",
              "    .dataframe thead th {\n",
              "        text-align: right;\n",
              "    }\n",
              "</style>\n",
              "<table border=\"1\" class=\"dataframe\">\n",
              "  <thead>\n",
              "    <tr style=\"text-align: right;\">\n",
              "      <th></th>\n",
              "      <th>APPROVED_CREDIT</th>\n",
              "      <th>PRICE</th>\n",
              "      <th>ANNUITY</th>\n",
              "      <th>NUM_CHILDREN</th>\n",
              "      <th>DAYS_AGE</th>\n",
              "      <th>is_approved_credit_less_than_600k</th>\n",
              "      <th>is_price_less_than_600k</th>\n",
              "      <th>is_annuity_less_than_27k</th>\n",
              "    </tr>\n",
              "  </thead>\n",
              "  <tbody>\n",
              "    <tr>\n",
              "      <th>0</th>\n",
              "      <td>202500.0</td>\n",
              "      <td>202500.0</td>\n",
              "      <td>10125.0</td>\n",
              "      <td>1.000000</td>\n",
              "      <td>31</td>\n",
              "      <td>1.0</td>\n",
              "      <td>1.0</td>\n",
              "      <td>1</td>\n",
              "    </tr>\n",
              "    <tr>\n",
              "      <th>1</th>\n",
              "      <td>976711.5</td>\n",
              "      <td>873000.0</td>\n",
              "      <td>49869.0</td>\n",
              "      <td>1.000000</td>\n",
              "      <td>43</td>\n",
              "      <td>0.0</td>\n",
              "      <td>0.0</td>\n",
              "      <td>0</td>\n",
              "    </tr>\n",
              "    <tr>\n",
              "      <th>2</th>\n",
              "      <td>407520.0</td>\n",
              "      <td>360000.0</td>\n",
              "      <td>25060.5</td>\n",
              "      <td>0.000000</td>\n",
              "      <td>56</td>\n",
              "      <td>1.0</td>\n",
              "      <td>1.0</td>\n",
              "      <td>1</td>\n",
              "    </tr>\n",
              "    <tr>\n",
              "      <th>3</th>\n",
              "      <td>808650.0</td>\n",
              "      <td>675000.0</td>\n",
              "      <td>26086.5</td>\n",
              "      <td>0.000000</td>\n",
              "      <td>56</td>\n",
              "      <td>0.0</td>\n",
              "      <td>0.0</td>\n",
              "      <td>1</td>\n",
              "    </tr>\n",
              "    <tr>\n",
              "      <th>4</th>\n",
              "      <td>180000.0</td>\n",
              "      <td>180000.0</td>\n",
              "      <td>9000.0</td>\n",
              "      <td>0.000000</td>\n",
              "      <td>24</td>\n",
              "      <td>1.0</td>\n",
              "      <td>1.0</td>\n",
              "      <td>1</td>\n",
              "    </tr>\n",
              "    <tr>\n",
              "      <th>...</th>\n",
              "      <td>...</td>\n",
              "      <td>...</td>\n",
              "      <td>...</td>\n",
              "      <td>...</td>\n",
              "      <td>...</td>\n",
              "      <td>...</td>\n",
              "      <td>...</td>\n",
              "      <td>...</td>\n",
              "    </tr>\n",
              "    <tr>\n",
              "      <th>113063</th>\n",
              "      <td>337500.0</td>\n",
              "      <td>337500.0</td>\n",
              "      <td>16875.0</td>\n",
              "      <td>2.814749</td>\n",
              "      <td>28</td>\n",
              "      <td>1.0</td>\n",
              "      <td>1.0</td>\n",
              "      <td>1</td>\n",
              "    </tr>\n",
              "    <tr>\n",
              "      <th>113064</th>\n",
              "      <td>180000.0</td>\n",
              "      <td>180000.0</td>\n",
              "      <td>9000.0</td>\n",
              "      <td>0.000000</td>\n",
              "      <td>47</td>\n",
              "      <td>1.0</td>\n",
              "      <td>1.0</td>\n",
              "      <td>1</td>\n",
              "    </tr>\n",
              "    <tr>\n",
              "      <th>113065</th>\n",
              "      <td>450000.0</td>\n",
              "      <td>450000.0</td>\n",
              "      <td>21888.0</td>\n",
              "      <td>1.667293</td>\n",
              "      <td>29</td>\n",
              "      <td>1.0</td>\n",
              "      <td>1.0</td>\n",
              "      <td>1</td>\n",
              "    </tr>\n",
              "    <tr>\n",
              "      <th>113066</th>\n",
              "      <td>254700.0</td>\n",
              "      <td>225000.0</td>\n",
              "      <td>14751.0</td>\n",
              "      <td>0.000000</td>\n",
              "      <td>63</td>\n",
              "      <td>1.0</td>\n",
              "      <td>1.0</td>\n",
              "      <td>1</td>\n",
              "    </tr>\n",
              "    <tr>\n",
              "      <th>113067</th>\n",
              "      <td>450000.0</td>\n",
              "      <td>450000.0</td>\n",
              "      <td>35685.0</td>\n",
              "      <td>0.838098</td>\n",
              "      <td>37</td>\n",
              "      <td>1.0</td>\n",
              "      <td>1.0</td>\n",
              "      <td>0</td>\n",
              "    </tr>\n",
              "  </tbody>\n",
              "</table>\n",
              "<p>113068 rows × 8 columns</p>\n",
              "</div>\n",
              "      <button class=\"colab-df-convert\" onclick=\"convertToInteractive('df-5c42e90c-bd2b-4241-9ed4-87889cbb2209')\"\n",
              "              title=\"Convert this dataframe to an interactive table.\"\n",
              "              style=\"display:none;\">\n",
              "        \n",
              "  <svg xmlns=\"http://www.w3.org/2000/svg\" height=\"24px\"viewBox=\"0 0 24 24\"\n",
              "       width=\"24px\">\n",
              "    <path d=\"M0 0h24v24H0V0z\" fill=\"none\"/>\n",
              "    <path d=\"M18.56 5.44l.94 2.06.94-2.06 2.06-.94-2.06-.94-.94-2.06-.94 2.06-2.06.94zm-11 1L8.5 8.5l.94-2.06 2.06-.94-2.06-.94L8.5 2.5l-.94 2.06-2.06.94zm10 10l.94 2.06.94-2.06 2.06-.94-2.06-.94-.94-2.06-.94 2.06-2.06.94z\"/><path d=\"M17.41 7.96l-1.37-1.37c-.4-.4-.92-.59-1.43-.59-.52 0-1.04.2-1.43.59L10.3 9.45l-7.72 7.72c-.78.78-.78 2.05 0 2.83L4 21.41c.39.39.9.59 1.41.59.51 0 1.02-.2 1.41-.59l7.78-7.78 2.81-2.81c.8-.78.8-2.07 0-2.86zM5.41 20L4 18.59l7.72-7.72 1.47 1.35L5.41 20z\"/>\n",
              "  </svg>\n",
              "      </button>\n",
              "      \n",
              "  <style>\n",
              "    .colab-df-container {\n",
              "      display:flex;\n",
              "      flex-wrap:wrap;\n",
              "      gap: 12px;\n",
              "    }\n",
              "\n",
              "    .colab-df-convert {\n",
              "      background-color: #E8F0FE;\n",
              "      border: none;\n",
              "      border-radius: 50%;\n",
              "      cursor: pointer;\n",
              "      display: none;\n",
              "      fill: #1967D2;\n",
              "      height: 32px;\n",
              "      padding: 0 0 0 0;\n",
              "      width: 32px;\n",
              "    }\n",
              "\n",
              "    .colab-df-convert:hover {\n",
              "      background-color: #E2EBFA;\n",
              "      box-shadow: 0px 1px 2px rgba(60, 64, 67, 0.3), 0px 1px 3px 1px rgba(60, 64, 67, 0.15);\n",
              "      fill: #174EA6;\n",
              "    }\n",
              "\n",
              "    [theme=dark] .colab-df-convert {\n",
              "      background-color: #3B4455;\n",
              "      fill: #D2E3FC;\n",
              "    }\n",
              "\n",
              "    [theme=dark] .colab-df-convert:hover {\n",
              "      background-color: #434B5C;\n",
              "      box-shadow: 0px 1px 3px 1px rgba(0, 0, 0, 0.15);\n",
              "      filter: drop-shadow(0px 1px 2px rgba(0, 0, 0, 0.3));\n",
              "      fill: #FFFFFF;\n",
              "    }\n",
              "  </style>\n",
              "\n",
              "      <script>\n",
              "        const buttonEl =\n",
              "          document.querySelector('#df-5c42e90c-bd2b-4241-9ed4-87889cbb2209 button.colab-df-convert');\n",
              "        buttonEl.style.display =\n",
              "          google.colab.kernel.accessAllowed ? 'block' : 'none';\n",
              "\n",
              "        async function convertToInteractive(key) {\n",
              "          const element = document.querySelector('#df-5c42e90c-bd2b-4241-9ed4-87889cbb2209');\n",
              "          const dataTable =\n",
              "            await google.colab.kernel.invokeFunction('convertToInteractive',\n",
              "                                                     [key], {});\n",
              "          if (!dataTable) return;\n",
              "\n",
              "          const docLinkHtml = 'Like what you see? Visit the ' +\n",
              "            '<a target=\"_blank\" href=https://colab.research.google.com/notebooks/data_table.ipynb>data table notebook</a>'\n",
              "            + ' to learn more about interactive tables.';\n",
              "          element.innerHTML = '';\n",
              "          dataTable['output_type'] = 'display_data';\n",
              "          await google.colab.output.renderOutput(dataTable, element);\n",
              "          const docLink = document.createElement('div');\n",
              "          docLink.innerHTML = docLinkHtml;\n",
              "          element.appendChild(docLink);\n",
              "        }\n",
              "      </script>\n",
              "    </div>\n",
              "  </div>\n",
              "  "
            ]
          },
          "metadata": {},
          "execution_count": 36
        }
      ]
    },
    {
      "cell_type": "code",
      "source": [
        "scaler = MinMaxScaler()\n",
        "train_scaled = scaler.fit_transform(X_resamp)\n",
        "train_scaled"
      ],
      "metadata": {
        "colab": {
          "base_uri": "https://localhost:8080/"
        },
        "id": "wk_baf14dT1S",
        "outputId": "6167f1e2-9f90-436f-d412-b7c652ebd616"
      },
      "execution_count": null,
      "outputs": [
        {
          "output_type": "execute_result",
          "data": {
            "text/plain": [
              "array([[0.03932584, 0.03932584, 0.0311126 , ..., 1.        , 1.        ,\n",
              "        1.        ],\n",
              "       [0.23263708, 0.20674157, 0.18644694, ..., 0.        , 0.        ,\n",
              "        0.        ],\n",
              "       [0.09051685, 0.07865169, 0.08948609, ..., 1.        , 1.        ,\n",
              "        1.        ],\n",
              "       ...,\n",
              "       [0.1011236 , 0.1011236 , 0.07708678, ..., 1.        , 1.        ,\n",
              "        1.        ],\n",
              "       [0.05235955, 0.04494382, 0.04919273, ..., 1.        , 1.        ,\n",
              "        1.        ],\n",
              "       [0.1011236 , 0.1011236 , 0.13101059, ..., 1.        , 1.        ,\n",
              "        0.        ]])"
            ]
          },
          "metadata": {},
          "execution_count": 37
        }
      ]
    },
    {
      "cell_type": "code",
      "source": [
        "X_train, X_test, y_train, y_test = train_test_split(train_scaled, y_resamp, test_size=0.2, stratify = y_resamp)\n",
        "X_train"
      ],
      "metadata": {
        "colab": {
          "base_uri": "https://localhost:8080/"
        },
        "id": "Q8bj56QHhJl9",
        "outputId": "ce55f7e7-718b-4d36-b771-8acf4e014b2c"
      },
      "execution_count": null,
      "outputs": [
        {
          "output_type": "execute_result",
          "data": {
            "text/plain": [
              "array([[0.25797753, 0.21348315, 0.11525203, ..., 0.        , 0.        ,\n",
              "        0.        ],\n",
              "       [0.19067416, 0.15730337, 0.09400612, ..., 0.        , 0.        ,\n",
              "        1.        ],\n",
              "       [0.11298876, 0.1011236 , 0.2007479 , ..., 1.        , 1.        ,\n",
              "        0.        ],\n",
              "       ...,\n",
              "       [0.02013483, 0.01123596, 0.01952387, ..., 1.        , 1.        ,\n",
              "        1.        ],\n",
              "       [0.04494382, 0.04494382, 0.05622417, ..., 1.        , 1.        ,\n",
              "        1.        ],\n",
              "       [0.14044944, 0.14044944, 0.0687837 , ..., 0.        , 0.        ,\n",
              "        1.        ]])"
            ]
          },
          "metadata": {},
          "execution_count": 38
        }
      ]
    },
    {
      "cell_type": "markdown",
      "source": [
        "## Modelling and Evaluation\n",
        "\n",
        "Modelling Explanation :\n",
        "\n",
        "1. I try a several model i.e. knearest neighbors, logistic regression, decision tree, random forest and support vector machine. Some of the models that already mentioned is overfitting although its not too far and i guess the random forest is a good one, the reason behind a good performance of random forest is the model can works well even though there is an uncorrelated data. Earlier at preprocess stage, i chose 2 feature that has low correlated data and did some feature engineering to one of them, this proved that the random forest can took the low correlated data and make a better prediction than other models.\n",
        "2. To evaluate the models, i chose a classification report from sklearn library that include a precision, recall and f1 score along the plot of confusion matrix. Precision, recall, and f1 score is usually used for a classification method, where precision is used to measured the positive predictive value, recall is used to measured a sensitivity in classification task and f1 score is measured the accuracy of models."
      ],
      "metadata": {
        "id": "rrttcvZAuPlF"
      }
    },
    {
      "cell_type": "markdown",
      "source": [
        "### K Nearest Neighbors"
      ],
      "metadata": {
        "id": "JTWifv-yrdwh"
      }
    },
    {
      "cell_type": "code",
      "source": [
        "knn = KNeighborsClassifier()\n",
        "knn.fit(X_train, y_train)\n",
        "\n",
        "y_pred_train_knn = knn.predict(X_train)\n",
        "y_pred_train_knn\n",
        "\n",
        "y_pred_test_knn = knn.predict(X_test)\n",
        "y_pred_test_knn"
      ],
      "metadata": {
        "colab": {
          "base_uri": "https://localhost:8080/"
        },
        "outputId": "e6cfae3b-04ad-4440-a711-97d06bc4175b",
        "id": "y8ZXW6JPrdxA"
      },
      "execution_count": null,
      "outputs": [
        {
          "output_type": "stream",
          "name": "stderr",
          "text": [
            "/usr/local/lib/python3.7/dist-packages/sklearn/neighbors/_classification.py:198: DataConversionWarning: A column-vector y was passed when a 1d array was expected. Please change the shape of y to (n_samples,), for example using ravel().\n",
            "  return self._fit(X, y)\n"
          ]
        },
        {
          "output_type": "execute_result",
          "data": {
            "text/plain": [
              "array([0., 1., 0., ..., 0., 0., 0.])"
            ]
          },
          "metadata": {},
          "execution_count": 40
        }
      ]
    },
    {
      "cell_type": "code",
      "source": [
        "score_train_knn = classification_report(y_train, y_pred_train_knn)\n",
        "print('Train k neighbors result :\\n',score_train_knn)\n",
        "\n",
        "score_test_knn = classification_report(y_test, y_pred_test_knn)\n",
        "print('Test k neighbors result :\\n',score_test_knn)"
      ],
      "metadata": {
        "colab": {
          "base_uri": "https://localhost:8080/"
        },
        "outputId": "8bef3c2b-bf1e-47b6-b946-186ffd39962d",
        "id": "qhTa4iK0rdxC"
      },
      "execution_count": null,
      "outputs": [
        {
          "output_type": "stream",
          "name": "stdout",
          "text": [
            "Train k neighbors result :\n",
            "               precision    recall  f1-score   support\n",
            "\n",
            "         0.0       0.81      0.83      0.82     45227\n",
            "         1.0       0.83      0.81      0.82     45227\n",
            "\n",
            "    accuracy                           0.82     90454\n",
            "   macro avg       0.82      0.82      0.82     90454\n",
            "weighted avg       0.82      0.82      0.82     90454\n",
            "\n",
            "Test k neighbors result :\n",
            "               precision    recall  f1-score   support\n",
            "\n",
            "         0.0       0.73      0.74      0.73     11307\n",
            "         1.0       0.74      0.73      0.73     11307\n",
            "\n",
            "    accuracy                           0.73     22614\n",
            "   macro avg       0.73      0.73      0.73     22614\n",
            "weighted avg       0.73      0.73      0.73     22614\n",
            "\n"
          ]
        }
      ]
    },
    {
      "cell_type": "code",
      "source": [
        "plot_confusion_matrix(knn, X_test, y_test)  \n",
        "plt.show()"
      ],
      "metadata": {
        "colab": {
          "base_uri": "https://localhost:8080/",
          "height": 334
        },
        "outputId": "b7cd935a-5b1d-4ebb-950d-31ec63c04f40",
        "id": "s182hRJVrdxD"
      },
      "execution_count": null,
      "outputs": [
        {
          "output_type": "stream",
          "name": "stderr",
          "text": [
            "/usr/local/lib/python3.7/dist-packages/sklearn/utils/deprecation.py:87: FutureWarning: Function plot_confusion_matrix is deprecated; Function `plot_confusion_matrix` is deprecated in 1.0 and will be removed in 1.2. Use one of the class methods: ConfusionMatrixDisplay.from_predictions or ConfusionMatrixDisplay.from_estimator.\n",
            "  warnings.warn(msg, category=FutureWarning)\n"
          ]
        },
        {
          "output_type": "display_data",
          "data": {
            "text/plain": [
              "<Figure size 432x288 with 2 Axes>"
            ],
            "image/png": "[encoded data removed]"
          },
          "metadata": {
            "needs_background": "light"
          }
        }
      ]
    },
    {
      "cell_type": "markdown",
      "source": [
        "### Logistic Regression"
      ],
      "metadata": {
        "id": "UQUqmQ7fwdBP"
      }
    },
    {
      "cell_type": "code",
      "source": [
        "lr = LogisticRegression()\n",
        "lr.fit(X_train, y_train)\n",
        "\n",
        "y_pred_train_lr = lr.predict(X_train)\n",
        "y_pred_train_lr\n",
        "\n",
        "y_pred_test_lr = lr.predict(X_test)\n",
        "y_pred_test_lr"
      ],
      "metadata": {
        "colab": {
          "base_uri": "https://localhost:8080/"
        },
        "id": "NF7YSkfqudAe",
        "outputId": "db36a87a-9a5d-4d9b-9ff8-d878be153eb4"
      },
      "execution_count": null,
      "outputs": [
        {
          "output_type": "stream",
          "name": "stderr",
          "text": [
            "/usr/local/lib/python3.7/dist-packages/sklearn/utils/validation.py:993: DataConversionWarning: A column-vector y was passed when a 1d array was expected. Please change the shape of y to (n_samples, ), for example using ravel().\n",
            "  y = column_or_1d(y, warn=True)\n"
          ]
        },
        {
          "output_type": "execute_result",
          "data": {
            "text/plain": [
              "array([1., 0., 1., ..., 1., 0., 0.])"
            ]
          },
          "metadata": {},
          "execution_count": 43
        }
      ]
    },
    {
      "cell_type": "code",
      "source": [
        "score_train_lr = classification_report(y_train, y_pred_train_lr)\n",
        "print('Train logistic regression result :\\n',score_train_lr)\n",
        "\n",
        "score_test_lr = classification_report(y_test, y_pred_test_lr)\n",
        "print('Test logistic regression result :\\n',score_test_lr)"
      ],
      "metadata": {
        "colab": {
          "base_uri": "https://localhost:8080/"
        },
        "id": "xm-VGL6zudMc",
        "outputId": "154f7eac-2e43-4073-8506-e8397eb67aa2"
      },
      "execution_count": null,
      "outputs": [
        {
          "output_type": "stream",
          "name": "stdout",
          "text": [
            "Train logistic regression result :\n",
            "               precision    recall  f1-score   support\n",
            "\n",
            "         0.0       0.60      0.58      0.59     45227\n",
            "         1.0       0.59      0.62      0.61     45227\n",
            "\n",
            "    accuracy                           0.60     90454\n",
            "   macro avg       0.60      0.60      0.60     90454\n",
            "weighted avg       0.60      0.60      0.60     90454\n",
            "\n",
            "Test logistic regression result :\n",
            "               precision    recall  f1-score   support\n",
            "\n",
            "         0.0       0.60      0.58      0.59     11307\n",
            "         1.0       0.59      0.62      0.60     11307\n",
            "\n",
            "    accuracy                           0.60     22614\n",
            "   macro avg       0.60      0.60      0.60     22614\n",
            "weighted avg       0.60      0.60      0.60     22614\n",
            "\n"
          ]
        }
      ]
    },
    {
      "cell_type": "code",
      "source": [
        "plot_confusion_matrix(lr, X_test, y_test)  \n",
        "plt.show()"
      ],
      "metadata": {
        "colab": {
          "base_uri": "https://localhost:8080/",
          "height": 334
        },
        "id": "1l87LmasN9g6",
        "outputId": "8ba46e12-b0f1-447a-ec40-d3bce7320ed5"
      },
      "execution_count": null,
      "outputs": [
        {
          "output_type": "stream",
          "name": "stderr",
          "text": [
            "/usr/local/lib/python3.7/dist-packages/sklearn/utils/deprecation.py:87: FutureWarning: Function plot_confusion_matrix is deprecated; Function `plot_confusion_matrix` is deprecated in 1.0 and will be removed in 1.2. Use one of the class methods: ConfusionMatrixDisplay.from_predictions or ConfusionMatrixDisplay.from_estimator.\n",
            "  warnings.warn(msg, category=FutureWarning)\n"
          ]
        },
        {
          "output_type": "display_data",
          "data": {
            "text/plain": [
              "<Figure size 432x288 with 2 Axes>"
            ],
            "image/png": "[encoded data removed]"
          },
          "metadata": {
            "needs_background": "light"
          }
        }
      ]
    },
    {
      "cell_type": "markdown",
      "source": [
        "### Decision Tree"
      ],
      "metadata": {
        "id": "saIkv3nswgm6"
      }
    },
    {
      "cell_type": "code",
      "source": [
        "dtc = DecisionTreeClassifier()\n",
        "dtc.fit(X_train, y_train)\n",
        "\n",
        "y_pred_train_dtc = dtc.predict(X_train)\n",
        "y_pred_train_dtc\n",
        "\n",
        "y_pred_test_dtc = dtc.predict(X_test)\n",
        "y_pred_test_dtc"
      ],
      "metadata": {
        "colab": {
          "base_uri": "https://localhost:8080/"
        },
        "id": "Q908xiwlvdpX",
        "outputId": "8be0b0fd-7cf2-459f-f050-a36d5efa9134"
      },
      "execution_count": null,
      "outputs": [
        {
          "output_type": "execute_result",
          "data": {
            "text/plain": [
              "array([0., 1., 1., ..., 1., 0., 0.])"
            ]
          },
          "metadata": {},
          "execution_count": 46
        }
      ]
    },
    {
      "cell_type": "code",
      "source": [
        "score_train_dtc = classification_report(y_train, y_pred_train_dtc)\n",
        "print('Train decision tree result :\\n',score_train_dtc)\n",
        "\n",
        "score_test_dtc = classification_report(y_test, y_pred_test_dtc)\n",
        "print('Test decision tree result :\\n',score_test_dtc)"
      ],
      "metadata": {
        "colab": {
          "base_uri": "https://localhost:8080/"
        },
        "id": "BlDrdfXRvond",
        "outputId": "376f86ed-4c47-4296-fe7e-d6f7a03ab9bf"
      },
      "execution_count": null,
      "outputs": [
        {
          "output_type": "stream",
          "name": "stdout",
          "text": [
            "Train decision tree result :\n",
            "               precision    recall  f1-score   support\n",
            "\n",
            "         0.0       0.96      0.97      0.97     45227\n",
            "         1.0       0.97      0.96      0.97     45227\n",
            "\n",
            "    accuracy                           0.97     90454\n",
            "   macro avg       0.97      0.97      0.97     90454\n",
            "weighted avg       0.97      0.97      0.97     90454\n",
            "\n",
            "Test decision tree result :\n",
            "               precision    recall  f1-score   support\n",
            "\n",
            "         0.0       0.84      0.83      0.83     11307\n",
            "         1.0       0.83      0.84      0.84     11307\n",
            "\n",
            "    accuracy                           0.83     22614\n",
            "   macro avg       0.83      0.83      0.83     22614\n",
            "weighted avg       0.83      0.83      0.83     22614\n",
            "\n"
          ]
        }
      ]
    },
    {
      "cell_type": "code",
      "source": [
        "plot_confusion_matrix(dtc, X_test, y_test)  \n",
        "plt.show()"
      ],
      "metadata": {
        "colab": {
          "base_uri": "https://localhost:8080/",
          "height": 334
        },
        "id": "KYamYNKENxlY",
        "outputId": "a8902d67-4138-41ea-8e98-c0f234ac6288"
      },
      "execution_count": null,
      "outputs": [
        {
          "output_type": "stream",
          "name": "stderr",
          "text": [
            "/usr/local/lib/python3.7/dist-packages/sklearn/utils/deprecation.py:87: FutureWarning: Function plot_confusion_matrix is deprecated; Function `plot_confusion_matrix` is deprecated in 1.0 and will be removed in 1.2. Use one of the class methods: ConfusionMatrixDisplay.from_predictions or ConfusionMatrixDisplay.from_estimator.\n",
            "  warnings.warn(msg, category=FutureWarning)\n"
          ]
        },
        {
          "output_type": "display_data",
          "data": {
            "text/plain": [
              "<Figure size 432x288 with 2 Axes>"
            ],
            "image/png": "[encoded data removed]"
          },
          "metadata": {
            "needs_background": "light"
          }
        }
      ]
    },
    {
      "cell_type": "markdown",
      "source": [
        "### Random Forest"
      ],
      "metadata": {
        "id": "N12RqGpLwj3q"
      }
    },
    {
      "cell_type": "code",
      "source": [
        "rfc = RandomForestClassifier()\n",
        "rfc.fit(X_train, y_train)\n",
        "\n",
        "y_pred_train_rfc = rfc.predict(X_train)\n",
        "y_pred_train_rfc\n",
        "\n",
        "y_pred_test_rfc = rfc.predict(X_test)\n",
        "y_pred_test_rfc"
      ],
      "metadata": {
        "colab": {
          "base_uri": "https://localhost:8080/"
        },
        "id": "q7mZpC8wiIm7",
        "outputId": "d1dbb0b0-67b2-4383-b95f-5db9843755ea"
      },
      "execution_count": null,
      "outputs": [
        {
          "output_type": "stream",
          "name": "stderr",
          "text": [
            "/usr/local/lib/python3.7/dist-packages/ipykernel_launcher.py:2: DataConversionWarning: A column-vector y was passed when a 1d array was expected. Please change the shape of y to (n_samples,), for example using ravel().\n",
            "  \n"
          ]
        },
        {
          "output_type": "execute_result",
          "data": {
            "text/plain": [
              "array([0., 1., 0., ..., 1., 0., 1.])"
            ]
          },
          "metadata": {},
          "execution_count": 39
        }
      ]
    },
    {
      "cell_type": "code",
      "source": [
        "score_train_rfc = classification_report(y_train, y_pred_train_rfc)\n",
        "print('Train random forest result :\\n',score_train_rfc)\n",
        "\n",
        "score_test_rfc = classification_report(y_test, y_pred_test_rfc)\n",
        "print('Test random forest result :\\n',score_test_rfc)"
      ],
      "metadata": {
        "colab": {
          "base_uri": "https://localhost:8080/"
        },
        "id": "_i4CRj8vqFdu",
        "outputId": "bfa5466f-957e-4893-e1be-5c39c5414440"
      },
      "execution_count": null,
      "outputs": [
        {
          "output_type": "stream",
          "name": "stdout",
          "text": [
            "Train random forest result :\n",
            "               precision    recall  f1-score   support\n",
            "\n",
            "         0.0       0.97      0.96      0.97     45227\n",
            "         1.0       0.96      0.97      0.97     45227\n",
            "\n",
            "    accuracy                           0.97     90454\n",
            "   macro avg       0.97      0.97      0.97     90454\n",
            "weighted avg       0.97      0.97      0.97     90454\n",
            "\n",
            "Test random forest result :\n",
            "               precision    recall  f1-score   support\n",
            "\n",
            "         0.0       0.86      0.87      0.87     11307\n",
            "         1.0       0.87      0.86      0.86     11307\n",
            "\n",
            "    accuracy                           0.86     22614\n",
            "   macro avg       0.87      0.86      0.86     22614\n",
            "weighted avg       0.87      0.86      0.86     22614\n",
            "\n"
          ]
        }
      ]
    },
    {
      "cell_type": "code",
      "source": [
        "plot_confusion_matrix(rfc, X_test, y_test)  \n",
        "plt.show()"
      ],
      "metadata": {
        "colab": {
          "base_uri": "https://localhost:8080/"
        },
        "id": "bVDTLUR2FrzL",
        "outputId": "2266e4aa-9aec-4855-fe24-51e46f97e064"
      },
      "execution_count": null,
      "outputs": [
        {
          "output_type": "stream",
          "name": "stderr",
          "text": [
            "/usr/local/lib/python3.7/dist-packages/sklearn/utils/deprecation.py:87: FutureWarning: Function plot_confusion_matrix is deprecated; Function `plot_confusion_matrix` is deprecated in 1.0 and will be removed in 1.2. Use one of the class methods: ConfusionMatrixDisplay.from_predictions or ConfusionMatrixDisplay.from_estimator.\n",
            "  warnings.warn(msg, category=FutureWarning)\n"
          ]
        },
        {
          "output_type": "display_data",
          "data": {
            "text/plain": [
              "<Figure size 432x288 with 2 Axes>"
            ],
            "image/png": "[encoded data removed]"
          },
          "metadata": {
            "needs_background": "light"
          }
        }
      ]
    },
    {
      "cell_type": "markdown",
      "source": [
        "### Support Vector Machine"
      ],
      "metadata": {
        "id": "6LD7oG68w9mR"
      }
    },
    {
      "cell_type": "code",
      "source": [
        "svc = SVC()\n",
        "svc.fit(X_train, y_train)\n",
        "\n",
        "y_pred_train_svc = svc.predict(X_train)\n",
        "y_pred_train_svc\n",
        "\n",
        "y_pred_test_svc = svc.predict(X_test)\n",
        "y_pred_test_svc"
      ],
      "metadata": {
        "colab": {
          "base_uri": "https://localhost:8080/"
        },
        "id": "RBAOoDGmw_xl",
        "outputId": "46526d6e-78b5-4aff-c6ba-4a475f428aee"
      },
      "execution_count": null,
      "outputs": [
        {
          "output_type": "stream",
          "name": "stderr",
          "text": [
            "/usr/local/lib/python3.7/dist-packages/sklearn/utils/validation.py:993: DataConversionWarning: A column-vector y was passed when a 1d array was expected. Please change the shape of y to (n_samples, ), for example using ravel().\n",
            "  y = column_or_1d(y, warn=True)\n"
          ]
        },
        {
          "output_type": "execute_result",
          "data": {
            "text/plain": [
              "array([1., 0., 1., ..., 1., 0., 1.])"
            ]
          },
          "metadata": {},
          "execution_count": 54
        }
      ]
    },
    {
      "cell_type": "code",
      "source": [
        "score_train_svc = classification_report(y_train, y_pred_train_svc)\n",
        "print('Train svm result :\\n',score_train_svc)\n",
        "\n",
        "score_test_svc = classification_report(y_test, y_pred_test_svc)\n",
        "print('Test svm result :\\n',score_test_svc)"
      ],
      "metadata": {
        "colab": {
          "base_uri": "https://localhost:8080/"
        },
        "id": "HUhs2tRhxKYd",
        "outputId": "a1ac3c79-8724-455d-901a-46d4ec2ad6b8"
      },
      "execution_count": null,
      "outputs": [
        {
          "output_type": "stream",
          "name": "stdout",
          "text": [
            "Train svm result :\n",
            "               precision    recall  f1-score   support\n",
            "\n",
            "         0.0       0.63      0.52      0.57     45227\n",
            "         1.0       0.59      0.70      0.64     45227\n",
            "\n",
            "    accuracy                           0.61     90454\n",
            "   macro avg       0.61      0.61      0.61     90454\n",
            "weighted avg       0.61      0.61      0.61     90454\n",
            "\n",
            "Test svm result :\n",
            "               precision    recall  f1-score   support\n",
            "\n",
            "         0.0       0.64      0.53      0.58     11307\n",
            "         1.0       0.60      0.70      0.64     11307\n",
            "\n",
            "    accuracy                           0.61     22614\n",
            "   macro avg       0.62      0.61      0.61     22614\n",
            "weighted avg       0.62      0.61      0.61     22614\n",
            "\n"
          ]
        }
      ]
    },
    {
      "cell_type": "code",
      "source": [
        "plot_confusion_matrix(svc, X_test, y_test)  \n",
        "plt.show()"
      ],
      "metadata": {
        "colab": {
          "base_uri": "https://localhost:8080/",
          "height": 334
        },
        "id": "VrkDOX05OMvJ",
        "outputId": "9ce81261-8ccd-4e7c-833f-9c7919543179"
      },
      "execution_count": null,
      "outputs": [
        {
          "output_type": "stream",
          "name": "stderr",
          "text": [
            "/usr/local/lib/python3.7/dist-packages/sklearn/utils/deprecation.py:87: FutureWarning: Function plot_confusion_matrix is deprecated; Function `plot_confusion_matrix` is deprecated in 1.0 and will be removed in 1.2. Use one of the class methods: ConfusionMatrixDisplay.from_predictions or ConfusionMatrixDisplay.from_estimator.\n",
            "  warnings.warn(msg, category=FutureWarning)\n"
          ]
        },
        {
          "output_type": "display_data",
          "data": {
            "text/plain": [
              "<Figure size 432x288 with 2 Axes>"
            ],
            "image/png": "[encoded data removed]"
          },
          "metadata": {
            "needs_background": "light"
          }
        }
      ]
    }
  ]
}